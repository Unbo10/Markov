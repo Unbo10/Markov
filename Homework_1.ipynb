{
 "cells": [
  {
   "cell_type": "markdown",
   "id": "11aa1e67",
   "metadata": {},
   "source": [
    "# Tarea 1\n",
    "\n",
    "Integrantes:\n",
    "- Sara Sofía Rivera Sanabria.\n",
    "- Juan Sebastián Rueda Segura.\n",
    "- Santiago Rocha Pachón."
   ]
  },
  {
   "cell_type": "markdown",
   "id": "bcbf4aa3",
   "metadata": {},
   "source": [
    "## Dependencies"
   ]
  },
  {
   "cell_type": "code",
   "execution_count": 1,
   "id": "4f4f3bf8",
   "metadata": {},
   "outputs": [
    {
     "name": "stdout",
     "output_type": "stream",
     "text": [
      "Requirement already satisfied: matplotlib in ./.venv/lib/python3.13/site-packages (3.10.7)\n",
      "Requirement already satisfied: numpy in ./.venv/lib/python3.13/site-packages (2.3.4)\n",
      "Requirement already satisfied: contourpy>=1.0.1 in ./.venv/lib/python3.13/site-packages (from matplotlib) (1.3.3)\n",
      "Requirement already satisfied: cycler>=0.10 in ./.venv/lib/python3.13/site-packages (from matplotlib) (0.12.1)\n",
      "Requirement already satisfied: fonttools>=4.22.0 in ./.venv/lib/python3.13/site-packages (from matplotlib) (4.60.1)\n",
      "Requirement already satisfied: kiwisolver>=1.3.1 in ./.venv/lib/python3.13/site-packages (from matplotlib) (1.4.9)\n",
      "Requirement already satisfied: packaging>=20.0 in ./.venv/lib/python3.13/site-packages (from matplotlib) (25.0)\n",
      "Requirement already satisfied: pillow>=8 in ./.venv/lib/python3.13/site-packages (from matplotlib) (12.0.0)\n",
      "Requirement already satisfied: pyparsing>=3 in ./.venv/lib/python3.13/site-packages (from matplotlib) (3.2.5)\n",
      "Requirement already satisfied: python-dateutil>=2.7 in ./.venv/lib/python3.13/site-packages (from matplotlib) (2.9.0.post0)\n",
      "Requirement already satisfied: six>=1.5 in ./.venv/lib/python3.13/site-packages (from python-dateutil>=2.7->matplotlib) (1.17.0)\n"
     ]
    }
   ],
   "source": [
    "!pip install matplotlib numpy"
   ]
  },
  {
   "cell_type": "markdown",
   "id": "3c1a4b8f",
   "metadata": {},
   "source": [
    "## Utilities"
   ]
  },
  {
   "cell_type": "code",
   "execution_count": 1,
   "id": "0d10988f",
   "metadata": {},
   "outputs": [],
   "source": [
    "import numpy as np\n",
    "import matplotlib.pyplot as plt\n",
    "\n",
    "def graph_matrix(M: np.array, color_dict: dict) -> None:\n",
    "    M = np.asarray(M)\n",
    "    if M.ndim != 2:\n",
    "        raise ValueError(\"M must be a 2D array\")\n",
    "    rows, cols = M.shape\n",
    "\n",
    "    fig, ax = plt.subplots(figsize=(cols, rows))\n",
    "    ax.set_xlim(-0.5, cols - 0.5)\n",
    "    ax.set_ylim(rows - 0.5, -0.5)\n",
    "    ax.set_xticks(np.arange(0, cols))\n",
    "    ax.set_yticks(np.arange(0, rows))\n",
    "    ax.set_xticklabels([])\n",
    "    ax.set_yticklabels([])\n",
    "    ax.grid(which=\"major\", color=\"black\", linewidth=1)\n",
    "    ax.tick_params(length=0)\n",
    "\n",
    "    default_color = color_dict.get(\"default\", \"#ffffff\")\n",
    "    cell_width_pts = (fig.get_figwidth() * 72) / max(cols, 1)\n",
    "    cell_height_pts = (fig.get_figheight() * 72) / max(rows, 1)\n",
    "    node_size = (0.35 * min(cell_width_pts, cell_height_pts)) ** 2\n",
    "\n",
    "    for row in range(rows):\n",
    "        for col in range(cols):\n",
    "            value = M[row, col]\n",
    "            if isinstance(value, np.generic):\n",
    "                value = value.item()\n",
    "            facecolor = color_dict.get(value, default_color)\n",
    "            ax.scatter(col, row, s=node_size, c=facecolor, edgecolors=\"black\", zorder=3)\n",
    "\n",
    "    ax.set_aspect(\"equal\")\n",
    "    plt.show()\n"
   ]
  },
  {
   "cell_type": "code",
   "execution_count": 2,
   "id": "20bacf08",
   "metadata": {},
   "outputs": [
    {
     "data": {
      "image/png": "[encoded data removed]",
      "text/plain": [
       "<Figure size 300x300 with 1 Axes>"
      ]
     },
     "metadata": {},
     "output_type": "display_data"
    }
   ],
   "source": [
    "M: np.array = np.array([[1, 2, 3],\n",
    "                        [2, 1, 3],\n",
    "                        [1, 1, 2]])\n",
    "color_dict: dict = {1: \"green\", 2: \"red\", 3: \"blue\"}\n",
    "graph_matrix(M, color_dict)"
   ]
  },
  {
   "cell_type": "code",
   "execution_count": null,
   "id": "31ddddf8",
   "metadata": {},
   "outputs": [],
   "source": []
  }
 ],
 "metadata": {
  "kernelspec": {
   "display_name": ".venv",
   "language": "python",
   "name": "python3"
  },
  "language_info": {
   "codemirror_mode": {
    "name": "ipython",
    "version": 3
   },
   "file_extension": ".py",
   "mimetype": "text/x-python",
   "name": "python",
   "nbconvert_exporter": "python",
   "pygments_lexer": "ipython3",
   "version": "3.13.5"
  }
 },
 "nbformat": 4,
 "nbformat_minor": 5
}
