{
  "cells": [
    {
      "cell_type": "markdown",
      "id": "20edab66",
      "metadata": {
        "id": "20edab66"
      },
      "source": [
        "# Tarea 0"
      ]
    },
    {
      "cell_type": "markdown",
      "id": "8678309c",
      "metadata": {
        "id": "8678309c"
      },
      "source": [
        "### Configuración inicial"
      ]
    },
    {
      "cell_type": "markdown",
      "id": "22e160f8",
      "metadata": {
        "vscode": {
          "languageId": "plaintext"
        },
        "id": "22e160f8"
      },
      "source": [
        "Primero, se debe crear un entorno virtual para evitar incompatibilidades con el resto del sistema. La celda de abajo se debe copiar y pegar en la terminal antes de correr el notebook."
      ]
    },
    {
      "cell_type": "code",
      "execution_count": null,
      "id": "2484c7e8",
      "metadata": {
        "vscode": {
          "languageId": "shellscript"
        },
        "id": "2484c7e8",
        "outputId": "ae74a2ef-d6a5-4539-fbe8-c3fd87c2faac"
      },
      "outputs": [
        {
          "name": "stdout",
          "output_type": "stream",
          "text": [
            "Virtual environment created.\n"
          ]
        }
      ],
      "source": [
        "%%sh\n",
        "if [ ! -d \".venv\" ]; then\n",
        "    python3 -m venv .venv\n",
        "    echo \"Virtual environment created.\"\n",
        "else\n",
        "    echo \"Virtual environment already exists.\"\n",
        "fi"
      ]
    },
    {
      "cell_type": "markdown",
      "id": "ef3227ef",
      "metadata": {
        "id": "ef3227ef"
      },
      "source": [
        "Luego, se debe crear un entorno virtual e instalar las dependencias de Python necesarias."
      ]
    },
    {
      "cell_type": "code",
      "execution_count": null,
      "id": "050baef5",
      "metadata": {
        "id": "050baef5",
        "outputId": "aab104d8-7f91-4130-e26e-5aaa7186e339"
      },
      "outputs": [
        {
          "name": "stdout",
          "output_type": "stream",
          "text": [
            "To activate: \u001b[92msource .venv/bin/activate\u001b[0m\n",
            "\u001b[94mVirtual environment found.\u001b[0m\n"
          ]
        }
      ],
      "source": [
        "import os\n",
        "import platform\n",
        "\n",
        "GREEN = '\\033[92m'\n",
        "BLUE = '\\033[94m'\n",
        "YELLOW = '\\033[93m'\n",
        "RED = '\\033[91m'\n",
        "RESET = '\\033[0m'\n",
        "\n",
        "system = platform.system().lower()\n",
        "\n",
        "if system in ['linux', 'darwin']:  #*Linux or macOS\n",
        "    activate_script = \".venv/bin/activate\"\n",
        "    print(f\"To activate: {GREEN}source {activate_script}{RESET}\")\n",
        "elif system == 'windows':\n",
        "    activate_script = \".venv\\\\Scripts\\\\activate.bat\"\n",
        "    print(f\"To activate: {GREEN}{activate_script}{RESET}\")\n",
        "else:\n",
        "    print(f\"{RED}Unknown OS. Please activate manually.{RESET}\")\n",
        "\n",
        "if os.path.exists(\".venv\"):\n",
        "    print(f\"{BLUE}Virtual environment found.{RESET}\")\n",
        "else:\n",
        "    print(f\"{YELLOW}Virtual environment not found. Please create it first.{RESET}\")"
      ]
    },
    {
      "cell_type": "code",
      "execution_count": null,
      "id": "84cd3950",
      "metadata": {
        "id": "84cd3950"
      },
      "outputs": [],
      "source": [
        "%%bash\n",
        "# Reemplaza esta línea por el código en verde que te apareció en la salida de la celda inmediatamente anterior a esta"
      ]
    },
    {
      "cell_type": "code",
      "execution_count": 1,
      "id": "3c17d6ef",
      "metadata": {
        "colab": {
          "base_uri": "https://localhost:8080/"
        },
        "id": "3c17d6ef",
        "outputId": "f24af018-040f-4a20-9068-34854da4190d"
      },
      "outputs": [
        {
          "output_type": "stream",
          "name": "stdout",
          "text": [
            "Requirement already satisfied: numpy in /usr/local/lib/python3.12/dist-packages (2.0.2)\n",
            "Requirement already satisfied: networkx in /usr/local/lib/python3.12/dist-packages (3.5)\n",
            "Requirement already satisfied: matplotlib in /usr/local/lib/python3.12/dist-packages (3.10.0)\n",
            "Requirement already satisfied: scipy in /usr/local/lib/python3.12/dist-packages (1.16.2)\n",
            "Requirement already satisfied: pandas in /usr/local/lib/python3.12/dist-packages (2.2.2)\n",
            "Requirement already satisfied: ipywidgets in /usr/local/lib/python3.12/dist-packages (7.7.1)\n",
            "Requirement already satisfied: contourpy>=1.0.1 in /usr/local/lib/python3.12/dist-packages (from matplotlib) (1.3.3)\n",
            "Requirement already satisfied: cycler>=0.10 in /usr/local/lib/python3.12/dist-packages (from matplotlib) (0.12.1)\n",
            "Requirement already satisfied: fonttools>=4.22.0 in /usr/local/lib/python3.12/dist-packages (from matplotlib) (4.60.1)\n",
            "Requirement already satisfied: kiwisolver>=1.3.1 in /usr/local/lib/python3.12/dist-packages (from matplotlib) (1.4.9)\n",
            "Requirement already satisfied: packaging>=20.0 in /usr/local/lib/python3.12/dist-packages (from matplotlib) (25.0)\n",
            "Requirement already satisfied: pillow>=8 in /usr/local/lib/python3.12/dist-packages (from matplotlib) (11.3.0)\n",
            "Requirement already satisfied: pyparsing>=2.3.1 in /usr/local/lib/python3.12/dist-packages (from matplotlib) (3.2.5)\n",
            "Requirement already satisfied: python-dateutil>=2.7 in /usr/local/lib/python3.12/dist-packages (from matplotlib) (2.9.0.post0)\n",
            "Requirement already satisfied: pytz>=2020.1 in /usr/local/lib/python3.12/dist-packages (from pandas) (2025.2)\n",
            "Requirement already satisfied: tzdata>=2022.7 in /usr/local/lib/python3.12/dist-packages (from pandas) (2025.2)\n",
            "Requirement already satisfied: ipykernel>=4.5.1 in /usr/local/lib/python3.12/dist-packages (from ipywidgets) (6.17.1)\n",
            "Requirement already satisfied: ipython-genutils~=0.2.0 in /usr/local/lib/python3.12/dist-packages (from ipywidgets) (0.2.0)\n",
            "Requirement already satisfied: traitlets>=4.3.1 in /usr/local/lib/python3.12/dist-packages (from ipywidgets) (5.7.1)\n",
            "Requirement already satisfied: widgetsnbextension~=3.6.0 in /usr/local/lib/python3.12/dist-packages (from ipywidgets) (3.6.10)\n",
            "Requirement already satisfied: ipython>=4.0.0 in /usr/local/lib/python3.12/dist-packages (from ipywidgets) (7.34.0)\n",
            "Requirement already satisfied: jupyterlab-widgets>=1.0.0 in /usr/local/lib/python3.12/dist-packages (from ipywidgets) (3.0.15)\n",
            "Requirement already satisfied: debugpy>=1.0 in /usr/local/lib/python3.12/dist-packages (from ipykernel>=4.5.1->ipywidgets) (1.8.15)\n",
            "Requirement already satisfied: jupyter-client>=6.1.12 in /usr/local/lib/python3.12/dist-packages (from ipykernel>=4.5.1->ipywidgets) (7.4.9)\n",
            "Requirement already satisfied: matplotlib-inline>=0.1 in /usr/local/lib/python3.12/dist-packages (from ipykernel>=4.5.1->ipywidgets) (0.1.7)\n",
            "Requirement already satisfied: nest-asyncio in /usr/local/lib/python3.12/dist-packages (from ipykernel>=4.5.1->ipywidgets) (1.6.0)\n",
            "Requirement already satisfied: psutil in /usr/local/lib/python3.12/dist-packages (from ipykernel>=4.5.1->ipywidgets) (5.9.5)\n",
            "Requirement already satisfied: pyzmq>=17 in /usr/local/lib/python3.12/dist-packages (from ipykernel>=4.5.1->ipywidgets) (26.2.1)\n",
            "Requirement already satisfied: tornado>=6.1 in /usr/local/lib/python3.12/dist-packages (from ipykernel>=4.5.1->ipywidgets) (6.4.2)\n",
            "Requirement already satisfied: setuptools>=18.5 in /usr/local/lib/python3.12/dist-packages (from ipython>=4.0.0->ipywidgets) (75.2.0)\n",
            "Collecting jedi>=0.16 (from ipython>=4.0.0->ipywidgets)\n",
            "  Downloading jedi-0.19.2-py2.py3-none-any.whl.metadata (22 kB)\n",
            "Requirement already satisfied: decorator in /usr/local/lib/python3.12/dist-packages (from ipython>=4.0.0->ipywidgets) (4.4.2)\n",
            "Requirement already satisfied: pickleshare in /usr/local/lib/python3.12/dist-packages (from ipython>=4.0.0->ipywidgets) (0.7.5)\n",
            "Requirement already satisfied: prompt-toolkit!=3.0.0,!=3.0.1,<3.1.0,>=2.0.0 in /usr/local/lib/python3.12/dist-packages (from ipython>=4.0.0->ipywidgets) (3.0.52)\n",
            "Requirement already satisfied: pygments in /usr/local/lib/python3.12/dist-packages (from ipython>=4.0.0->ipywidgets) (2.19.2)\n",
            "Requirement already satisfied: backcall in /usr/local/lib/python3.12/dist-packages (from ipython>=4.0.0->ipywidgets) (0.2.0)\n",
            "Requirement already satisfied: pexpect>4.3 in /usr/local/lib/python3.12/dist-packages (from ipython>=4.0.0->ipywidgets) (4.9.0)\n",
            "Requirement already satisfied: six>=1.5 in /usr/local/lib/python3.12/dist-packages (from python-dateutil>=2.7->matplotlib) (1.17.0)\n",
            "Requirement already satisfied: notebook>=4.4.1 in /usr/local/lib/python3.12/dist-packages (from widgetsnbextension~=3.6.0->ipywidgets) (6.5.7)\n",
            "Requirement already satisfied: parso<0.9.0,>=0.8.4 in /usr/local/lib/python3.12/dist-packages (from jedi>=0.16->ipython>=4.0.0->ipywidgets) (0.8.5)\n",
            "Requirement already satisfied: entrypoints in /usr/local/lib/python3.12/dist-packages (from jupyter-client>=6.1.12->ipykernel>=4.5.1->ipywidgets) (0.4)\n",
            "Requirement already satisfied: jupyter-core>=4.9.2 in /usr/local/lib/python3.12/dist-packages (from jupyter-client>=6.1.12->ipykernel>=4.5.1->ipywidgets) (5.8.1)\n",
            "Requirement already satisfied: jinja2 in /usr/local/lib/python3.12/dist-packages (from notebook>=4.4.1->widgetsnbextension~=3.6.0->ipywidgets) (3.1.6)\n",
            "Requirement already satisfied: argon2-cffi in /usr/local/lib/python3.12/dist-packages (from notebook>=4.4.1->widgetsnbextension~=3.6.0->ipywidgets) (25.1.0)\n",
            "Requirement already satisfied: nbformat in /usr/local/lib/python3.12/dist-packages (from notebook>=4.4.1->widgetsnbextension~=3.6.0->ipywidgets) (5.10.4)\n",
            "Requirement already satisfied: nbconvert>=5 in /usr/local/lib/python3.12/dist-packages (from notebook>=4.4.1->widgetsnbextension~=3.6.0->ipywidgets) (7.16.6)\n",
            "Requirement already satisfied: Send2Trash>=1.8.0 in /usr/local/lib/python3.12/dist-packages (from notebook>=4.4.1->widgetsnbextension~=3.6.0->ipywidgets) (1.8.3)\n",
            "Requirement already satisfied: terminado>=0.8.3 in /usr/local/lib/python3.12/dist-packages (from notebook>=4.4.1->widgetsnbextension~=3.6.0->ipywidgets) (0.18.1)\n",
            "Requirement already satisfied: prometheus-client in /usr/local/lib/python3.12/dist-packages (from notebook>=4.4.1->widgetsnbextension~=3.6.0->ipywidgets) (0.23.1)\n",
            "Requirement already satisfied: nbclassic>=0.4.7 in /usr/local/lib/python3.12/dist-packages (from notebook>=4.4.1->widgetsnbextension~=3.6.0->ipywidgets) (1.3.3)\n",
            "Requirement already satisfied: ptyprocess>=0.5 in /usr/local/lib/python3.12/dist-packages (from pexpect>4.3->ipython>=4.0.0->ipywidgets) (0.7.0)\n",
            "Requirement already satisfied: wcwidth in /usr/local/lib/python3.12/dist-packages (from prompt-toolkit!=3.0.0,!=3.0.1,<3.1.0,>=2.0.0->ipython>=4.0.0->ipywidgets) (0.2.14)\n",
            "Requirement already satisfied: platformdirs>=2.5 in /usr/local/lib/python3.12/dist-packages (from jupyter-core>=4.9.2->jupyter-client>=6.1.12->ipykernel>=4.5.1->ipywidgets) (4.4.0)\n",
            "Requirement already satisfied: notebook-shim>=0.2.3 in /usr/local/lib/python3.12/dist-packages (from nbclassic>=0.4.7->notebook>=4.4.1->widgetsnbextension~=3.6.0->ipywidgets) (0.2.4)\n",
            "Requirement already satisfied: beautifulsoup4 in /usr/local/lib/python3.12/dist-packages (from nbconvert>=5->notebook>=4.4.1->widgetsnbextension~=3.6.0->ipywidgets) (4.13.5)\n",
            "Requirement already satisfied: bleach!=5.0.0 in /usr/local/lib/python3.12/dist-packages (from bleach[css]!=5.0.0->nbconvert>=5->notebook>=4.4.1->widgetsnbextension~=3.6.0->ipywidgets) (6.2.0)\n",
            "Requirement already satisfied: defusedxml in /usr/local/lib/python3.12/dist-packages (from nbconvert>=5->notebook>=4.4.1->widgetsnbextension~=3.6.0->ipywidgets) (0.7.1)\n",
            "Requirement already satisfied: jupyterlab-pygments in /usr/local/lib/python3.12/dist-packages (from nbconvert>=5->notebook>=4.4.1->widgetsnbextension~=3.6.0->ipywidgets) (0.3.0)\n",
            "Requirement already satisfied: markupsafe>=2.0 in /usr/local/lib/python3.12/dist-packages (from nbconvert>=5->notebook>=4.4.1->widgetsnbextension~=3.6.0->ipywidgets) (3.0.3)\n",
            "Requirement already satisfied: mistune<4,>=2.0.3 in /usr/local/lib/python3.12/dist-packages (from nbconvert>=5->notebook>=4.4.1->widgetsnbextension~=3.6.0->ipywidgets) (3.1.4)\n",
            "Requirement already satisfied: nbclient>=0.5.0 in /usr/local/lib/python3.12/dist-packages (from nbconvert>=5->notebook>=4.4.1->widgetsnbextension~=3.6.0->ipywidgets) (0.10.2)\n",
            "Requirement already satisfied: pandocfilters>=1.4.1 in /usr/local/lib/python3.12/dist-packages (from nbconvert>=5->notebook>=4.4.1->widgetsnbextension~=3.6.0->ipywidgets) (1.5.1)\n",
            "Requirement already satisfied: fastjsonschema>=2.15 in /usr/local/lib/python3.12/dist-packages (from nbformat->notebook>=4.4.1->widgetsnbextension~=3.6.0->ipywidgets) (2.21.2)\n",
            "Requirement already satisfied: jsonschema>=2.6 in /usr/local/lib/python3.12/dist-packages (from nbformat->notebook>=4.4.1->widgetsnbextension~=3.6.0->ipywidgets) (4.25.1)\n",
            "Requirement already satisfied: argon2-cffi-bindings in /usr/local/lib/python3.12/dist-packages (from argon2-cffi->notebook>=4.4.1->widgetsnbextension~=3.6.0->ipywidgets) (25.1.0)\n",
            "Requirement already satisfied: webencodings in /usr/local/lib/python3.12/dist-packages (from bleach!=5.0.0->bleach[css]!=5.0.0->nbconvert>=5->notebook>=4.4.1->widgetsnbextension~=3.6.0->ipywidgets) (0.5.1)\n",
            "Requirement already satisfied: tinycss2<1.5,>=1.1.0 in /usr/local/lib/python3.12/dist-packages (from bleach[css]!=5.0.0->nbconvert>=5->notebook>=4.4.1->widgetsnbextension~=3.6.0->ipywidgets) (1.4.0)\n",
            "Requirement already satisfied: attrs>=22.2.0 in /usr/local/lib/python3.12/dist-packages (from jsonschema>=2.6->nbformat->notebook>=4.4.1->widgetsnbextension~=3.6.0->ipywidgets) (25.3.0)\n",
            "Requirement already satisfied: jsonschema-specifications>=2023.03.6 in /usr/local/lib/python3.12/dist-packages (from jsonschema>=2.6->nbformat->notebook>=4.4.1->widgetsnbextension~=3.6.0->ipywidgets) (2025.9.1)\n",
            "Requirement already satisfied: referencing>=0.28.4 in /usr/local/lib/python3.12/dist-packages (from jsonschema>=2.6->nbformat->notebook>=4.4.1->widgetsnbextension~=3.6.0->ipywidgets) (0.36.2)\n",
            "Requirement already satisfied: rpds-py>=0.7.1 in /usr/local/lib/python3.12/dist-packages (from jsonschema>=2.6->nbformat->notebook>=4.4.1->widgetsnbextension~=3.6.0->ipywidgets) (0.27.1)\n",
            "Requirement already satisfied: jupyter-server<3,>=1.8 in /usr/local/lib/python3.12/dist-packages (from notebook-shim>=0.2.3->nbclassic>=0.4.7->notebook>=4.4.1->widgetsnbextension~=3.6.0->ipywidgets) (2.14.0)\n",
            "Requirement already satisfied: cffi>=1.0.1 in /usr/local/lib/python3.12/dist-packages (from argon2-cffi-bindings->argon2-cffi->notebook>=4.4.1->widgetsnbextension~=3.6.0->ipywidgets) (2.0.0)\n",
            "Requirement already satisfied: soupsieve>1.2 in /usr/local/lib/python3.12/dist-packages (from beautifulsoup4->nbconvert>=5->notebook>=4.4.1->widgetsnbextension~=3.6.0->ipywidgets) (2.8)\n",
            "Requirement already satisfied: typing-extensions>=4.0.0 in /usr/local/lib/python3.12/dist-packages (from beautifulsoup4->nbconvert>=5->notebook>=4.4.1->widgetsnbextension~=3.6.0->ipywidgets) (4.15.0)\n",
            "Requirement already satisfied: pycparser in /usr/local/lib/python3.12/dist-packages (from cffi>=1.0.1->argon2-cffi-bindings->argon2-cffi->notebook>=4.4.1->widgetsnbextension~=3.6.0->ipywidgets) (2.23)\n",
            "Requirement already satisfied: anyio>=3.1.0 in /usr/local/lib/python3.12/dist-packages (from jupyter-server<3,>=1.8->notebook-shim>=0.2.3->nbclassic>=0.4.7->notebook>=4.4.1->widgetsnbextension~=3.6.0->ipywidgets) (4.11.0)\n",
            "Requirement already satisfied: jupyter-events>=0.9.0 in /usr/local/lib/python3.12/dist-packages (from jupyter-server<3,>=1.8->notebook-shim>=0.2.3->nbclassic>=0.4.7->notebook>=4.4.1->widgetsnbextension~=3.6.0->ipywidgets) (0.12.0)\n",
            "Requirement already satisfied: jupyter-server-terminals>=0.4.4 in /usr/local/lib/python3.12/dist-packages (from jupyter-server<3,>=1.8->notebook-shim>=0.2.3->nbclassic>=0.4.7->notebook>=4.4.1->widgetsnbextension~=3.6.0->ipywidgets) (0.5.3)\n",
            "Requirement already satisfied: overrides>=5.0 in /usr/local/lib/python3.12/dist-packages (from jupyter-server<3,>=1.8->notebook-shim>=0.2.3->nbclassic>=0.4.7->notebook>=4.4.1->widgetsnbextension~=3.6.0->ipywidgets) (7.7.0)\n",
            "Requirement already satisfied: websocket-client>=1.7 in /usr/local/lib/python3.12/dist-packages (from jupyter-server<3,>=1.8->notebook-shim>=0.2.3->nbclassic>=0.4.7->notebook>=4.4.1->widgetsnbextension~=3.6.0->ipywidgets) (1.8.0)\n",
            "Requirement already satisfied: idna>=2.8 in /usr/local/lib/python3.12/dist-packages (from anyio>=3.1.0->jupyter-server<3,>=1.8->notebook-shim>=0.2.3->nbclassic>=0.4.7->notebook>=4.4.1->widgetsnbextension~=3.6.0->ipywidgets) (3.10)\n",
            "Requirement already satisfied: sniffio>=1.1 in /usr/local/lib/python3.12/dist-packages (from anyio>=3.1.0->jupyter-server<3,>=1.8->notebook-shim>=0.2.3->nbclassic>=0.4.7->notebook>=4.4.1->widgetsnbextension~=3.6.0->ipywidgets) (1.3.1)\n",
            "Requirement already satisfied: python-json-logger>=2.0.4 in /usr/local/lib/python3.12/dist-packages (from jupyter-events>=0.9.0->jupyter-server<3,>=1.8->notebook-shim>=0.2.3->nbclassic>=0.4.7->notebook>=4.4.1->widgetsnbextension~=3.6.0->ipywidgets) (3.3.0)\n",
            "Requirement already satisfied: pyyaml>=5.3 in /usr/local/lib/python3.12/dist-packages (from jupyter-events>=0.9.0->jupyter-server<3,>=1.8->notebook-shim>=0.2.3->nbclassic>=0.4.7->notebook>=4.4.1->widgetsnbextension~=3.6.0->ipywidgets) (6.0.3)\n",
            "Requirement already satisfied: rfc3339-validator in /usr/local/lib/python3.12/dist-packages (from jupyter-events>=0.9.0->jupyter-server<3,>=1.8->notebook-shim>=0.2.3->nbclassic>=0.4.7->notebook>=4.4.1->widgetsnbextension~=3.6.0->ipywidgets) (0.1.4)\n",
            "Requirement already satisfied: rfc3986-validator>=0.1.1 in /usr/local/lib/python3.12/dist-packages (from jupyter-events>=0.9.0->jupyter-server<3,>=1.8->notebook-shim>=0.2.3->nbclassic>=0.4.7->notebook>=4.4.1->widgetsnbextension~=3.6.0->ipywidgets) (0.1.1)\n",
            "Requirement already satisfied: fqdn in /usr/local/lib/python3.12/dist-packages (from jsonschema[format-nongpl]>=4.18.0->jupyter-events>=0.9.0->jupyter-server<3,>=1.8->notebook-shim>=0.2.3->nbclassic>=0.4.7->notebook>=4.4.1->widgetsnbextension~=3.6.0->ipywidgets) (1.5.1)\n",
            "Requirement already satisfied: isoduration in /usr/local/lib/python3.12/dist-packages (from jsonschema[format-nongpl]>=4.18.0->jupyter-events>=0.9.0->jupyter-server<3,>=1.8->notebook-shim>=0.2.3->nbclassic>=0.4.7->notebook>=4.4.1->widgetsnbextension~=3.6.0->ipywidgets) (20.11.0)\n",
            "Requirement already satisfied: jsonpointer>1.13 in /usr/local/lib/python3.12/dist-packages (from jsonschema[format-nongpl]>=4.18.0->jupyter-events>=0.9.0->jupyter-server<3,>=1.8->notebook-shim>=0.2.3->nbclassic>=0.4.7->notebook>=4.4.1->widgetsnbextension~=3.6.0->ipywidgets) (3.0.0)\n",
            "Requirement already satisfied: rfc3987-syntax>=1.1.0 in /usr/local/lib/python3.12/dist-packages (from jsonschema[format-nongpl]>=4.18.0->jupyter-events>=0.9.0->jupyter-server<3,>=1.8->notebook-shim>=0.2.3->nbclassic>=0.4.7->notebook>=4.4.1->widgetsnbextension~=3.6.0->ipywidgets) (1.1.0)\n",
            "Requirement already satisfied: uri-template in /usr/local/lib/python3.12/dist-packages (from jsonschema[format-nongpl]>=4.18.0->jupyter-events>=0.9.0->jupyter-server<3,>=1.8->notebook-shim>=0.2.3->nbclassic>=0.4.7->notebook>=4.4.1->widgetsnbextension~=3.6.0->ipywidgets) (1.3.0)\n",
            "Requirement already satisfied: webcolors>=24.6.0 in /usr/local/lib/python3.12/dist-packages (from jsonschema[format-nongpl]>=4.18.0->jupyter-events>=0.9.0->jupyter-server<3,>=1.8->notebook-shim>=0.2.3->nbclassic>=0.4.7->notebook>=4.4.1->widgetsnbextension~=3.6.0->ipywidgets) (24.11.1)\n",
            "Requirement already satisfied: lark>=1.2.2 in /usr/local/lib/python3.12/dist-packages (from rfc3987-syntax>=1.1.0->jsonschema[format-nongpl]>=4.18.0->jupyter-events>=0.9.0->jupyter-server<3,>=1.8->notebook-shim>=0.2.3->nbclassic>=0.4.7->notebook>=4.4.1->widgetsnbextension~=3.6.0->ipywidgets) (1.3.0)\n",
            "Requirement already satisfied: arrow>=0.15.0 in /usr/local/lib/python3.12/dist-packages (from isoduration->jsonschema[format-nongpl]>=4.18.0->jupyter-events>=0.9.0->jupyter-server<3,>=1.8->notebook-shim>=0.2.3->nbclassic>=0.4.7->notebook>=4.4.1->widgetsnbextension~=3.6.0->ipywidgets) (1.3.0)\n",
            "Requirement already satisfied: types-python-dateutil>=2.8.10 in /usr/local/lib/python3.12/dist-packages (from arrow>=0.15.0->isoduration->jsonschema[format-nongpl]>=4.18.0->jupyter-events>=0.9.0->jupyter-server<3,>=1.8->notebook-shim>=0.2.3->nbclassic>=0.4.7->notebook>=4.4.1->widgetsnbextension~=3.6.0->ipywidgets) (2.9.0.20250822)\n",
            "Downloading jedi-0.19.2-py2.py3-none-any.whl (1.6 MB)\n",
            "\u001b[2K   \u001b[90m━━━━━━━━━━━━━━━━━━━━━━━━━━━━━━━━━━━━━━━━\u001b[0m \u001b[32m1.6/1.6 MB\u001b[0m \u001b[31m18.2 MB/s\u001b[0m eta \u001b[36m0:00:00\u001b[0m\n",
            "\u001b[?25hInstalling collected packages: jedi\n",
            "Successfully installed jedi-0.19.2\n"
          ]
        }
      ],
      "source": [
        "!pip install numpy networkx matplotlib scipy pandas ipywidgets"
      ]
    },
    {
      "cell_type": "markdown",
      "id": "b2f0b576",
      "metadata": {
        "id": "b2f0b576"
      },
      "source": [
        "## Parámetros iniciales <a id=\"param\"></a>"
      ]
    },
    {
      "cell_type": "code",
      "execution_count": 2,
      "id": "e28770c0",
      "metadata": {
        "id": "e28770c0"
      },
      "outputs": [],
      "source": [
        "p_values: list[float] = [i/10 for i in range (1, 10)]\n",
        "n_values: list[int] = [n for n in range (2, 10)]"
      ]
    },
    {
      "cell_type": "markdown",
      "id": "9420bd89",
      "metadata": {
        "id": "9420bd89"
      },
      "source": [
        "## Funciones extra"
      ]
    },
    {
      "cell_type": "markdown",
      "id": "d89c4ad0",
      "metadata": {
        "id": "d89c4ad0"
      },
      "source": [
        "Su objetivo es reutilizar código y abstraer diversos procesos para enfocarse en el análisis de complejidad de los dos algoritmos"
      ]
    },
    {
      "cell_type": "code",
      "execution_count": 3,
      "id": "7389cc0d",
      "metadata": {
        "id": "7389cc0d"
      },
      "outputs": [],
      "source": [
        "import numpy as np\n",
        "\n",
        "def build_p_matrices(chain: int = 1,\n",
        "                     n_values: list[float] = [n for n in range(2, 5)],\n",
        "                     p_values: list[float] = [n/10 for n in range (1, 10)],\n",
        "                     e_values: list[float] = None) -> list[np.array]:\n",
        "    \"\"\"\n",
        "    Return all the possible transition matrices\n",
        "    \"\"\"\n",
        "    valid_chains: list[int] = [1, 2, 3]\n",
        "    if chain not in valid_chains:\n",
        "        raise ValueError(f\"Invalid chain selected. Please choose one of the list: {valid_chains}\")\n",
        "\n",
        "    if chain == 1:\n",
        "        #*Construction of the transition matrices\n",
        "        matrices: list[np.array] = []\n",
        "        i: int = 0\n",
        "        for n in n_values:\n",
        "            for p in p_values:\n",
        "                q: float = 1 - p\n",
        "                matrix: np.array = np.zeros((n, n))\n",
        "                matrix[0][0] = q\n",
        "                matrix[n - 1][n - 1] = p\n",
        "                for i in range (0, n - 1):\n",
        "                    #*Forward (l to r) -> p\n",
        "                    matrix[i][i + 1] = p\n",
        "                    #*Backward (r to l) -> q\n",
        "                    matrix[i + 1][i] = q\n",
        "                    # print(f\"matrix[{i}][{i + 1}] = {matrix[i][i + 1]}, matrix[{i + 1}][{i}] = {matrix[i + 1][i]}\")\n",
        "                # print(p, q)\n",
        "                # print(matrix)\n",
        "\n",
        "                matrices.append(matrix)\n",
        "                i += 1\n",
        "        return matrices\n",
        "\n",
        "    if chain == 2:\n",
        "        \"\"\"\n",
        "        Construye varias cadenas de Markov con dos comunidades conectadas por un cuello de botella\n",
        "\n",
        "        Parámetros:\n",
        "        - n_values: lista de tamaños de las comunidades\n",
        "        - p_values: probabilidades de avanzar dentro de cada ciclo\n",
        "        - epsilon: probabilidades de saltar entre comunidades\n",
        "\n",
        "        Retorna: matriz de transición de tamaño 2n x 2n\n",
        "        \"\"\"\n",
        "        P_list: list[np.array] = []\n",
        "        for n in n_values:\n",
        "            if n < 3:\n",
        "                print(\"Para que la cadena sea creada, debe haber al menos 6 estados, es decir, n debe ser al menos 3\")\n",
        "            for p in p_values:\n",
        "                if e_values is not None:\n",
        "                    for epsilon in e_values:\n",
        "                        q = 1 - p\n",
        "                        total_states = 2 * n\n",
        "                        P = np.zeros((total_states, total_states))\n",
        "\n",
        "                        # --- Primera comunidad:\n",
        "                        for i in range(n):\n",
        "                            if i == 0:  # Estado 1\n",
        "                                P[0, n-1] = q\n",
        "                                P[0, 1] = p\n",
        "                            elif i == n-1:  # Estado n\n",
        "                                P[n-1, n-2] = q - epsilon\n",
        "                                P[n-1, 0]   = p - epsilon\n",
        "                                P[n-1, n]   = 2 * epsilon # puente\n",
        "                            else:  # Estados intermedios\n",
        "                                P[i, i-1] = q\n",
        "                                P[i, i+1] = p\n",
        "\n",
        "                        # --- Segunda comunidad:\n",
        "                        for j in range(n, 2*n):\n",
        "                            if j == n:  # Estado n+1\n",
        "                                P[n, n-1]   = 2 * epsilon # puente\n",
        "                                P[n, n+1]   = p - epsilon\n",
        "                                P[n, 2*n-1] = q - epsilon\n",
        "                            elif j == 2*n-1:  # Estado 2n\n",
        "                                P[2*n-1, 2*n-2] = q\n",
        "                                P[2*n-1, n] = p\n",
        "                            else:  # Estados intermedios\n",
        "                                P[j, j-1] = q\n",
        "                                P[j, j+1] = p\n",
        "\n",
        "                        # Verificación de filas\n",
        "                        for i in range(total_states):\n",
        "                            row_sum = P[i].sum()\n",
        "                            if not np.isclose(row_sum, 1.0, atol=1e-10):\n",
        "                                print(f\"Advertencia: Fila {i+1} suma {row_sum:.6f}. Parámetros usados: n - {n}, p - {p}, epsilon - {epsilon}\")\n",
        "\n",
        "                        P_list.append(P)\n",
        "\n",
        "        return P_list\n",
        "\n",
        "\n",
        "    if chain == 3:\n",
        "        return\n",
        "\n",
        "def get_distributions(candidates: list[np.array]) -> list[np.array]:\n",
        "    \"\"\"\n",
        "    The distribution should have non-negative entries and the entries in each\n",
        "    row must sum 1.\n",
        "    \"\"\"\n",
        "    return [v for v in candidates if np.isclose(v.sum(), 1, atol=1e-4) and np.all(v >= 0)]\n",
        "\n",
        "def print_distributions(valid_candidates: list[list[np.array]]) -> None:\n",
        "    i: int = 1\n",
        "    for c in valid_candidates:\n",
        "        print(f\"Stationary distribution of the matrix {i}th\")\n",
        "        print(c)\n",
        "        i += 1\n"
      ]
    },
    {
      "cell_type": "code",
      "execution_count": 4,
      "id": "97dd9d32",
      "metadata": {
        "colab": {
          "base_uri": "https://localhost:8080/"
        },
        "id": "97dd9d32",
        "outputId": "fda68701-060e-454d-8a2a-dda595744301"
      },
      "outputs": [
        {
          "output_type": "execute_result",
          "data": {
            "text/plain": [
              "[array([[0.1, 0.9],\n",
              "        [0.1, 0.9]])]"
            ]
          },
          "metadata": {},
          "execution_count": 4
        }
      ],
      "source": [
        "build_p_matrices(chain=1, n_values=[2], p_values=[0.9])"
      ]
    },
    {
      "cell_type": "markdown",
      "id": "f6c6c7b3",
      "metadata": {
        "id": "f6c6c7b3"
      },
      "source": [
        "## Cadenas"
      ]
    },
    {
      "cell_type": "markdown",
      "id": "2fa3f185",
      "metadata": {
        "id": "2fa3f185"
      },
      "source": [
        "### Cadena 1"
      ]
    },
    {
      "cell_type": "markdown",
      "id": "faf93679",
      "metadata": {
        "id": "faf93679"
      },
      "source": [
        "La cadena de Markov que se tratará a continuación es la sugerencia inicial realizada por el docente. Es una cadena irreducible y aperiódica. Una caracterízación y una representación gráfica de esta se puede ver a continuación, así como su simulación.\n",
        "> - Es irreducible ya que $p, q > 0$.\n",
        "> - Es aperiódica ya que:\n",
        ">   - Del estado $i \\neq n$ se puede ir al estado $i$ en $2(n - i)$ pasos (yendo al extremo derecho y devolvíendose) y en $2(n - i) + 1$ pasos (quedándose en el extremo, $n$, por un paso). Como $\\text{mcd}(2(n - i), 2(n - i) + 1) = 1$, ya está.\n",
        ">   - Del estado $n$ al estado $n$ se puede ir en $2n$ (yendo al extremo izquierdo y devolvíendose) o en $2n + 1$ pasos (quedándose en el extremo izquierdo, $1$, por un paso).\n",
        ">   - Del estado $i$ al estado $j$, idea: ir de i a i y luego de i a j, asumiendo i < j, y utilizando lo mismo que en los dos anteriores"
      ]
    },
    {
      "cell_type": "markdown",
      "id": "c4c77f5f",
      "metadata": {
        "id": "c4c77f5f"
      },
      "source": [
        "#### Visualización"
      ]
    },
    {
      "cell_type": "code",
      "execution_count": 5,
      "id": "9428a602",
      "metadata": {
        "colab": {
          "base_uri": "https://localhost:8080/",
          "height": 643
        },
        "id": "9428a602",
        "outputId": "aa1866de-3ab4-44c4-8701-e6210f7c2d2c"
      },
      "outputs": [
        {
          "output_type": "stream",
          "name": "stdout",
          "text": [
            "[[0.7 0.3 0.  0.  0. ]\n",
            " [0.7 0.  0.3 0.  0. ]\n",
            " [0.  0.7 0.  0.3 0. ]\n",
            " [0.  0.  0.7 0.  0.3]\n",
            " [0.  0.  0.  0.7 0.3]]\n",
            "Self loops: [(1, 1), (5, 5)]\n",
            "Forward edges: [(1, 2), (2, 1), (2, 3), (3, 2), (3, 4), (4, 3), (4, 5), (5, 4)]\n",
            "Self loop labels: {(1, 1): '0.7', (5, 5): '0.3'}\n",
            "Forward edge labels: {(1, 2): '0.3', (2, 1): '0.7', (2, 3): '0.3', (3, 2): '0.7', (3, 4): '0.3', (4, 3): '0.7', (4, 5): '0.3', (5, 4): '0.7'}\n"
          ]
        },
        {
          "output_type": "display_data",
          "data": {
            "text/plain": [
              "<Figure size 640x480 with 1 Axes>"
            ],
            "image/png": "[encoded data removed]"
          },
          "metadata": {}
        }
      ],
      "source": [
        "import networkx as nx\n",
        "import matplotlib.pyplot as plt\n",
        "\n",
        "G = nx.MultiDiGraph()\n",
        "n: int = 5\n",
        "p: float = 0.3\n",
        "P: np.array = build_p_matrices(chain=1, p_values=[p], n_values=[n])[0]\n",
        "states: list[int] = [i for i in range(1, n + 1)]\n",
        "\n",
        "print(P)\n",
        "\n",
        "# Arrange nodes linearly on the x-axis\n",
        "pos = {state: (state, 0) for state in states}\n",
        "G.add_nodes_from(states)\n",
        "\n",
        "# Separate self-loops and forward edges for different styling\n",
        "self_loops = []\n",
        "forward_edges = []\n",
        "self_loop_labels = {}\n",
        "forward_edge_labels = {}\n",
        "\n",
        "for i in range(n):\n",
        "    for j in range(n):\n",
        "        if P[i][j] != 0:\n",
        "            edge = (i + 1, j + 1)\n",
        "            if i == j:  # Self-loop\n",
        "                self_loops.append(edge)\n",
        "                self_loop_labels[edge] = f'{P[i][j]:.1f}'\n",
        "            else:  # Forward edge\n",
        "                forward_edges.append(edge)\n",
        "                forward_edge_labels[edge] = f'{P[i][j]:.1f}'\n",
        "\n",
        "G.add_edges_from(self_loops)\n",
        "G.add_edges_from(forward_edges)\n",
        "\n",
        "print(\"Self loops:\", self_loops)\n",
        "print(\"Forward edges:\", forward_edges)\n",
        "print(\"Self loop labels:\", self_loop_labels)\n",
        "print(\"Forward edge labels:\", forward_edge_labels)\n",
        "\n",
        "# Draw nodes\n",
        "nx.draw_networkx_nodes(G, pos, node_color='lightblue', node_size=700)\n",
        "\n",
        "# Draw self-loops with larger arc radius (above the nodes)\n",
        "if self_loops:\n",
        "    nx.draw_networkx_edges(G, pos,\n",
        "                          edgelist=self_loops,\n",
        "                          arrowstyle=\"->\",\n",
        "                          arrowsize=15,\n",
        "                          edge_color='red',\n",
        "                          width=2,\n",
        "                          connectionstyle=\"arc3,rad=0.8\")\n",
        "\n",
        "# Draw forward edges with smaller arc radius (below the nodes)\n",
        "if forward_edges:\n",
        "    nx.draw_networkx_edges(G, pos,\n",
        "                          edgelist=forward_edges,\n",
        "                          arrowstyle=\"->\",\n",
        "                          arrowsize=10,\n",
        "                          edge_color='blue',\n",
        "                          width=2,\n",
        "                          connectionstyle=\"arc3,rad=-0.2\")\n",
        "\n",
        "# Draw node labels\n",
        "nx.draw_networkx_labels(G, pos, font_size=10, font_color='black')\n",
        "\n",
        "# Draw edge labels with different positioning\n",
        "if self_loop_labels:\n",
        "    # Position self-loop labels above the nodes\n",
        "    nx.draw_networkx_edge_labels(G, pos,\n",
        "                                self_loop_labels,\n",
        "                                font_size=8,\n",
        "                                font_color='red',\n",
        "                                label_pos=0.5)\n",
        "\n",
        "if forward_edge_labels:\n",
        "    # Position forward edge labels on the edges (slightly below)\n",
        "    nx.draw_networkx_edge_labels(G, pos,\n",
        "                                forward_edge_labels,\n",
        "                                font_size=8,\n",
        "                                font_color='blue',\n",
        "                                label_pos=0.3)\n",
        "\n",
        "plt.axis('off')\n",
        "plt.tight_layout()\n",
        "plt.show()"
      ]
    },
    {
      "cell_type": "markdown",
      "id": "27364720",
      "metadata": {
        "id": "27364720"
      },
      "source": [
        "### Cadena 2"
      ]
    },
    {
      "cell_type": "markdown",
      "id": "0b077100",
      "metadata": {
        "id": "0b077100"
      },
      "source": [
        "A continuación, implementamos una cadena de Markov con dos comunidades o dos “pozos” de estados, unidas por un cuello de botella que controla la mezcla entre ellas.\n",
        "\n",
        "Normalmente, la cadena permanece dentro de cada ciclo, pues solo puede saltar de un ciclo al otro mediante una “puerta angosta” entre los estados $n$ y $n+1$, con probabilidad pequeña $2 \\epsilon$.\n",
        "\n",
        "#### Descripción de la cadena\n",
        "\n",
        "Espacio de estados:\n",
        "La cadena tiene $2n$ estados, numerados $1,2, ..., n, n+1, ..., 2n$.\n",
        "Los estados están organizados en dos ciclos: Uno con los primeros $n$ estados y otro con los siguientes $n$ estados.\n",
        "\n",
        "*Dinámica en el primer ciclo ($\\mathit{1 \\to n}$)*:\n",
        "\n",
        "Desde un estado $i$ (con $1< 𝑖 < n$) se puede ir:\n",
        "- A $i+1$ con probabilidad $p$.\n",
        "- A $i-1$ con probabilidad $q=1-p$.\n",
        "\n",
        "En el estado $n$:\n",
        "- Se va a $n-1$ con probabilidad $q-\\epsilon$.\n",
        "- Va hacia 1 con probabilidad $p-\\epsilon$.\n",
        "\n",
        "*Dinámica en el segundo ciclo ($\\mathit{n + 1 \\to 2n}$)*:\n",
        "\n",
        "Funciona igual que el primero, pero en $n + 1$:\n",
        "- Va hacia $n + 2$ con probabilidad $p-\\epsilon$.\n",
        "- Hacia $2n$ con probabilidad $q-\\epsilon$.\n",
        "\n",
        "*Puente entre los dos ciclos*:\n",
        "\n",
        "El estado $n$ y el estado $n + 1$ son los que conectan ambos ciclos:\n",
        "- De $n \\to n + 1$ con probabilidad $2 \\epsilon$.\n",
        "- De $n + 1 \\to n$ con probabilidad $2 \\epsilon$."
      ]
    },
    {
      "cell_type": "markdown",
      "id": "c49792dd",
      "metadata": {
        "id": "c49792dd"
      },
      "source": [
        "##### Irreducibilidad y aperiocidad\n",
        "\n",
        "La Cadena 2 es irreducible porque:\n",
        "\n",
        "ε > 0: Hay probabilidad positiva de saltar entre comunidades y por tanto, desde cualquier estado puedo llegar a cualquier otro:\n",
        "\n",
        "Dentro de una comunidad: Por la estructura cíclica (p, q > 0)\n",
        "\n",
        "Entre comunidades: A través del puente con probabilidad 2ε\n",
        "\n",
        "La Cadena 2 es PERIÓDICA (periodo = 3) porque hay una structura cíclica de cada comunidad en torno al regreso:\n",
        "\n",
        "Comunidad 1: S1 → S2 → S3 → S1 (ciclo de longitud 3)\n",
        "\n",
        "Comunidad 2: S4 → S5 → S6 → S4 (ciclo de longitud 3)\n",
        "\n",
        "Desde cualquier estado, el mcd de las longitudes de ciclos es 3\n",
        "\n",
        "Ejemplo: Desde S1 puedo volver a S1 en:\n",
        "\n",
        "3 pasos: S1 → S2 → S3 → S1\n",
        "\n",
        "6 pasos: S1 → S2 → S3 → S1 → S2 → S3 → S1\n",
        "\n",
        "mcd(3, 6, ...) = 3"
      ]
    },
    {
      "cell_type": "markdown",
      "id": "19a3091d",
      "metadata": {
        "id": "19a3091d"
      },
      "source": [
        "Utilizando la función `build_p_matrices` definida en la sección de *Funciones extra*, se puede obtener la matriz de transición para la cadena 2."
      ]
    },
    {
      "cell_type": "code",
      "execution_count": 6,
      "id": "5c3b8f50",
      "metadata": {
        "colab": {
          "base_uri": "https://localhost:8080/"
        },
        "id": "5c3b8f50",
        "outputId": "129c5432-7479-4c58-abbb-304fef5518ef"
      },
      "outputs": [
        {
          "output_type": "stream",
          "name": "stdout",
          "text": [
            "Matriz de transición de la cadena de dos comunidades:\n",
            "[[0.   0.6  0.4  0.   0.   0.  ]\n",
            " [0.4  0.   0.6  0.   0.   0.  ]\n",
            " [0.55 0.35 0.   0.1  0.   0.  ]\n",
            " [0.   0.   0.1  0.   0.55 0.35]\n",
            " [0.   0.   0.   0.4  0.   0.6 ]\n",
            " [0.   0.   0.   0.6  0.4  0.  ]]\n",
            "\n",
            "Suma de filas: [1. 1. 1. 1. 1. 1.]\n"
          ]
        }
      ],
      "source": [
        "# Ejemplo de prueba\n",
        "n_test = 3\n",
        "p_test = 0.6\n",
        "epsilon_test = 0.05\n",
        "\n",
        "P_community = build_p_matrices(2, [n_test], [p_test], [epsilon_test])[0]\n",
        "print(\"Matriz de transición de la cadena de dos comunidades:\")\n",
        "print(P_community)\n",
        "print(\"\\nSuma de filas:\", P_community.sum(axis=1))"
      ]
    },
    {
      "cell_type": "markdown",
      "id": "d2fe5b71",
      "metadata": {
        "id": "d2fe5b71"
      },
      "source": [
        "#### Interpretación\n",
        "\n",
        "*Primera comunidad*\n",
        "\n",
        "Desde el estado $3$ se va a:\n",
        "- Estado 2 con prob. 0.35,\n",
        "- Estado 1 con prob. 0.55,\n",
        "- Estado 4 (puente hacia la otra comunidad) con prob. 0.10.\n",
        "\n",
        "*Segunda comunidad*\n",
        "\n",
        "Desde estado $4$ a $3$ con $0.10$, a $5$ con $0.55$, a $6$ con $0.35$.\n",
        "\n",
        "Cada fila suma exactamente $1.0$\n",
        "\n",
        "Aquí una visualización de la cadena del ejemplo:\n"
      ]
    },
    {
      "cell_type": "markdown",
      "id": "50f6c299",
      "metadata": {
        "id": "50f6c299"
      },
      "source": [
        "![Description of image](CM2Pozos.jpeg)\n"
      ]
    },
    {
      "cell_type": "markdown",
      "id": "5ae5e144",
      "metadata": {
        "id": "5ae5e144"
      },
      "source": [
        "## Métodos para encontrar la distribución estacionaria"
      ]
    },
    {
      "cell_type": "markdown",
      "id": "91465cc4",
      "metadata": {
        "id": "91465cc4"
      },
      "source": [
        "Ya que las cadenas presentadas anteriormente son irreducibles y aperiódicas, su distribución estacionaria existe y es única. Ahora, se calculará usando dos métodos diferentes, comparando la eficiencia temporal de estos:"
      ]
    },
    {
      "cell_type": "markdown",
      "id": "801c921f",
      "metadata": {
        "id": "801c921f"
      },
      "source": [
        "### Hallando los autovectores de $P^\\intercal$"
      ]
    },
    {
      "cell_type": "markdown",
      "id": "2306558a",
      "metadata": {
        "id": "2306558a"
      },
      "source": [
        "Se sabe que una distribución $\\pi$ se le llama estacionaria si\n",
        "$$\\pi P = \\pi$$\n",
        "o equivalentemente\n",
        "$$P^{\\intercal} \\pi^{\\intercal} = \\pi^{\\intercal}$$\n",
        "por lo tanto, hallar $\\pi$ se reduce a hallar un autovector de la matriz $P^{\\intercal}$.\n",
        "\n",
        "Dicho autovector se hallará utilizando las librerías `numpy` y `scipy`, las más populares en cálculo científico, y `simpy`, una librería de cálculo simbólico. Normalmente, bastaría con la primera, mas sin embargo, como explican en [esta pregunta en StackOverflow](https://stackoverflow.com/questions/6684238/whats-the-fastest-way-to-find-eigenvalues-vectors-in-python), `scipy` identifica diversos tipos de matrices y ajusta los cálculos de los autovectores de acuerdo al mejor algoritmo que aplique para cada tipo. Por otro lado, `simpy` seguramente será la más lenta de las tres, pero proverá una buena indicación de qué tanto tardaría el proceso si se busca exactitud en la solución (o precisión casi infinita).\n",
        "\n",
        "Ahora, independientemente de qué librería o lenguaje se utilice, es estándar retornar los autovectores normalizados (bajo la norma euclídea estándar). Por lo tanto, se deberá hacer un cálculo extra para asegurar que al menos uno de los autovectores $v$ cumpla que $\\sum_{i = 1}^{n}v_i = 1$ y que $0 \\leq v_i \\leq 1$ para todo $i \\in \\{1, ..., n\\}$. Este consiste en computar un escalar $x \\in \\mathbb{R}$ tal que\n",
        "\n",
        "$$\\frac{\\sum_{i = 1}^n v_i}{x} = 1 \\iff x = \\sum_{i = 1}^n v_i$$\n",
        "\n",
        "y dividir a cada componente del vector $v$ para obtener un candidato a distribución estacionaria $v' = (\\frac{v_1}{x}, \\frac{v_2}{x}, ..., \\frac{v_n}{x})$.\n",
        "\n",
        "Por último, es relevante destacar que según la documentación de numpy, la complejidad computacional de hallar autovectores en una matriz $n$ x $n$ es de $O(n^3)$."
      ]
    },
    {
      "cell_type": "markdown",
      "id": "42a4c623",
      "metadata": {
        "id": "42a4c623"
      },
      "source": [
        "#### Cadena 1"
      ]
    },
    {
      "cell_type": "code",
      "execution_count": 7,
      "id": "9160a34f",
      "metadata": {
        "id": "9160a34f"
      },
      "outputs": [],
      "source": [
        "matrices = build_p_matrices(chain=1, n_values=n_values, p_values=p_values)"
      ]
    },
    {
      "cell_type": "code",
      "execution_count": null,
      "id": "4622e211",
      "metadata": {
        "id": "4622e211"
      },
      "outputs": [],
      "source": [
        "#!Consider creating an object that stores all the matrices with n states to have a better reference when printing"
      ]
    },
    {
      "cell_type": "code",
      "execution_count": 8,
      "id": "e53c1e0f",
      "metadata": {
        "id": "e53c1e0f"
      },
      "outputs": [],
      "source": [
        "import scipy\n",
        "\n",
        "def stationary_candidates_scipy(matrix) -> list[np.array]:\n",
        "    # print(\"   Using scipy...\")\n",
        "    candidates: list[np.array] = []\n",
        "    # print(f\"Candidates for the matrix\")\n",
        "    eigen_values, eigen_vectors = scipy.linalg.eig(matrix.T)\n",
        "    for i, (eigen_values, eigen_vectors) in enumerate(zip(eigen_values, eigen_vectors.T)):\n",
        "        #*If it is the stationary distribution, then it has an associated eigen value\n",
        "        #*of 1, since it is the solution to P \\pi = \\pi\n",
        "        if np.isclose(eigen_values, 1.0, atol=1e-10):\n",
        "            if np.allclose(eigen_vectors.imag, 0, atol=1e-10):\n",
        "                real_vec = eigen_vectors.real\n",
        "                #*Avoid division by zero\n",
        "                if real_vec.sum() != 0:\n",
        "                    normalized_vec = real_vec / real_vec.sum()\n",
        "                    candidates.append(normalized_vec)\n",
        "    return get_distributions(candidates)\n"
      ]
    },
    {
      "cell_type": "code",
      "execution_count": 9,
      "id": "3e8c978f",
      "metadata": {
        "colab": {
          "base_uri": "https://localhost:8080/"
        },
        "id": "3e8c978f",
        "outputId": "e0295026-6734-4bb9-9f65-f4139023e7cb"
      },
      "outputs": [
        {
          "output_type": "stream",
          "name": "stdout",
          "text": [
            "Stationary distribution of the matrix 1th\n",
            "[0.9 0.1]\n",
            "Stationary distribution of the matrix 1th\n",
            "[0.8 0.2]\n",
            "Stationary distribution of the matrix 1th\n",
            "[0.7 0.3]\n",
            "Stationary distribution of the matrix 1th\n",
            "[0.6 0.4]\n",
            "Stationary distribution of the matrix 1th\n",
            "[0.5 0.5]\n",
            "Stationary distribution of the matrix 1th\n",
            "[0.4 0.6]\n",
            "Stationary distribution of the matrix 1th\n",
            "[0.3 0.7]\n",
            "Stationary distribution of the matrix 1th\n",
            "[0.2 0.8]\n",
            "Stationary distribution of the matrix 1th\n",
            "[0.1 0.9]\n",
            "Stationary distribution of the matrix 1th\n",
            "[0.89010989 0.0989011  0.01098901]\n",
            "Stationary distribution of the matrix 1th\n",
            "[0.76190476 0.19047619 0.04761905]\n",
            "Stationary distribution of the matrix 1th\n",
            "[0.62025316 0.26582278 0.11392405]\n",
            "Stationary distribution of the matrix 1th\n",
            "[0.47368421 0.31578947 0.21052632]\n",
            "Stationary distribution of the matrix 1th\n",
            "[0.33333333 0.33333333 0.33333333]\n",
            "Stationary distribution of the matrix 1th\n",
            "[0.21052632 0.31578947 0.47368421]\n",
            "Stationary distribution of the matrix 1th\n",
            "[0.11392405 0.26582278 0.62025316]\n",
            "Stationary distribution of the matrix 1th\n",
            "[0.04761905 0.19047619 0.76190476]\n",
            "Stationary distribution of the matrix 1th\n",
            "[0.01098901 0.0989011  0.89010989]\n",
            "Stationary distribution of the matrix 1th\n",
            "[0.88902439 0.09878049 0.01097561 0.00121951]\n",
            "Stationary distribution of the matrix 1th\n",
            "[0.75294118 0.18823529 0.04705882 0.01176471]\n",
            "Stationary distribution of the matrix 1th\n",
            "[0.59137931 0.25344828 0.10862069 0.04655172]\n",
            "Stationary distribution of the matrix 1th\n",
            "[0.41538462 0.27692308 0.18461538 0.12307692]\n",
            "Stationary distribution of the matrix 1th\n",
            "[0.25 0.25 0.25 0.25]\n",
            "Stationary distribution of the matrix 1th\n",
            "[0.12307692 0.18461538 0.27692308 0.41538462]\n",
            "Stationary distribution of the matrix 1th\n",
            "[0.04655172 0.10862069 0.25344828 0.59137931]\n",
            "Stationary distribution of the matrix 1th\n",
            "[0.01176471 0.04705882 0.18823529 0.75294118]\n",
            "Stationary distribution of the matrix 1th\n",
            "[0.00121951 0.01097561 0.09878049 0.88902439]\n",
            "Stationary distribution of the matrix 1th\n",
            "[8.88903943e-01 9.87671047e-02 1.09741227e-02 1.21934697e-03\n",
            " 1.35482997e-04]\n",
            "Stationary distribution of the matrix 1th\n",
            "[0.75073314 0.18768328 0.04692082 0.01173021 0.00293255]\n",
            "Stationary distribution of the matrix 1th\n",
            "[0.57981164 0.2484907  0.10649602 0.04564115 0.01956049]\n",
            "Stationary distribution of the matrix 1th\n",
            "[0.38388626 0.25592417 0.17061611 0.11374408 0.07582938]\n",
            "Stationary distribution of the matrix 1th\n",
            "[0.2 0.2 0.2 0.2 0.2]\n",
            "Stationary distribution of the matrix 1th\n",
            "[0.07582938 0.11374408 0.17061611 0.25592417 0.38388626]\n",
            "Stationary distribution of the matrix 1th\n",
            "[0.01956049 0.04564115 0.10649602 0.2484907  0.57981164]\n",
            "Stationary distribution of the matrix 1th\n",
            "[0.00293255 0.01173021 0.04692082 0.18768328 0.75073314]\n",
            "Stationary distribution of the matrix 1th\n",
            "[1.35482997e-04 1.21934697e-03 1.09741227e-02 9.87671047e-02\n",
            " 8.88903943e-01]\n",
            "Stationary distribution of the matrix 1th\n",
            "[8.88890561e-01 9.87656179e-02 1.09739575e-02 1.21932862e-03\n",
            " 1.35480957e-04 1.50534397e-05]\n",
            "Stationary distribution of the matrix 1th\n",
            "[7.50183150e-01 1.87545788e-01 4.68864469e-02 1.17216117e-02\n",
            " 2.93040293e-03 7.32600733e-04]\n",
            "Stationary distribution of the matrix 1th\n",
            "[0.57499145 0.24642491 0.10561067 0.04526172 0.01939788 0.00831338]\n",
            "Stationary distribution of the matrix 1th\n",
            "[0.36541353 0.24360902 0.16240602 0.10827068 0.07218045 0.0481203 ]\n",
            "Stationary distribution of the matrix 1th\n",
            "[0.16666667 0.16666667 0.16666667 0.16666667 0.16666667 0.16666667]\n",
            "Stationary distribution of the matrix 1th\n",
            "[0.0481203  0.07218045 0.10827068 0.16240602 0.24360902 0.36541353]\n",
            "Stationary distribution of the matrix 1th\n",
            "[0.00831338 0.01939788 0.04526172 0.10561067 0.24642491 0.57499145]\n",
            "Stationary distribution of the matrix 1th\n",
            "[7.32600733e-04 2.93040293e-03 1.17216117e-02 4.68864469e-02\n",
            " 1.87545788e-01 7.50183150e-01]\n",
            "Stationary distribution of the matrix 1th\n",
            "[1.50534397e-05 1.35480957e-04 1.21932862e-03 1.09739575e-02\n",
            " 9.87656179e-02 8.88890561e-01]\n",
            "Stationary distribution of the matrix 1th\n",
            "[8.88889075e-01 9.87654527e-02 1.09739392e-02 1.21932658e-03\n",
            " 1.35480731e-04 1.50534145e-05 1.67260161e-06]\n",
            "Stationary distribution of the matrix 1th\n",
            "[7.50045779e-01 1.87511445e-01 4.68778612e-02 1.17194653e-02\n",
            " 2.92986632e-03 7.32466581e-04 1.83116645e-04]\n",
            "Stationary distribution of the matrix 1th\n",
            "[0.5729501  0.24555004 0.10523573 0.04510103 0.01932901 0.00828386\n",
            " 0.00355023]\n",
            "Stationary distribution of the matrix 1th\n",
            "[0.35405537 0.23603691 0.15735794 0.10490529 0.06993686 0.04662458\n",
            " 0.03108305]\n",
            "Stationary distribution of the matrix 1th\n",
            "[0.14285714 0.14285714 0.14285714 0.14285714 0.14285714 0.14285714\n",
            " 0.14285714]\n",
            "Stationary distribution of the matrix 1th\n",
            "[0.03108305 0.04662458 0.06993686 0.10490529 0.15735794 0.23603691\n",
            " 0.35405537]\n",
            "Stationary distribution of the matrix 1th\n",
            "[0.00355023 0.00828386 0.01932901 0.04510103 0.10523573 0.24555004\n",
            " 0.5729501 ]\n",
            "Stationary distribution of the matrix 1th\n",
            "[1.83116645e-04 7.32466581e-04 2.92986632e-03 1.17194653e-02\n",
            " 4.68778612e-02 1.87511445e-01 7.50045779e-01]\n",
            "Stationary distribution of the matrix 1th\n",
            "[1.67260161e-06 1.50534145e-05 1.35480731e-04 1.21932658e-03\n",
            " 1.09739392e-02 9.87654527e-02 8.88889075e-01]\n",
            "Stationary distribution of the matrix 1th\n",
            "[8.88888910e-01 9.87654344e-02 1.09739372e-02 1.21932635e-03\n",
            " 1.35480706e-04 1.50534117e-05 1.67260130e-06 1.85844589e-07]\n",
            "Stationary distribution of the matrix 1th\n",
            "[7.50011444e-01 1.87502861e-01 4.68757153e-02 1.17189288e-02\n",
            " 2.92973220e-03 7.32433051e-04 1.83108263e-04 4.57770657e-05]\n",
            "Stationary distribution of the matrix 1th\n",
            "[0.57207966 0.245177   0.10507586 0.04503251 0.01929965 0.00827128\n",
            " 0.00354483 0.00151921]\n",
            "Stationary distribution of the matrix 1th\n",
            "[0.34686757 0.23124504 0.15416336 0.10277557 0.06851705 0.04567803\n",
            " 0.03045202 0.02030135]\n",
            "Stationary distribution of the matrix 1th\n",
            "[0.125 0.125 0.125 0.125 0.125 0.125 0.125 0.125]\n",
            "Stationary distribution of the matrix 1th\n",
            "[0.02030135 0.03045202 0.04567803 0.06851705 0.10277557 0.15416336\n",
            " 0.23124504 0.34686757]\n",
            "Stationary distribution of the matrix 1th\n",
            "[0.00151921 0.00354483 0.00827128 0.01929965 0.04503251 0.10507586\n",
            " 0.245177   0.57207966]\n",
            "Stationary distribution of the matrix 1th\n",
            "[4.57770657e-05 1.83108263e-04 7.32433051e-04 2.92973220e-03\n",
            " 1.17189288e-02 4.68757153e-02 1.87502861e-01 7.50011444e-01]\n",
            "Stationary distribution of the matrix 1th\n",
            "[1.85844589e-07 1.67260130e-06 1.50534117e-05 1.35480706e-04\n",
            " 1.21932635e-03 1.09739372e-02 9.87654344e-02 8.88888910e-01]\n",
            "Stationary distribution of the matrix 1th\n",
            "[8.88888891e-01 9.87654324e-02 1.09739369e-02 1.21932633e-03\n",
            " 1.35480703e-04 1.50534114e-05 1.67260127e-06 1.85844585e-07\n",
            " 2.06493984e-08]\n",
            "Stationary distribution of the matrix 1th\n",
            "[7.50002861e-01 1.87500715e-01 4.68751788e-02 1.17187947e-02\n",
            " 2.92969868e-03 7.32424669e-04 1.83106167e-04 4.57765418e-05\n",
            " 1.14441355e-05]\n",
            "Stationary distribution of the matrix 1th\n",
            "[0.57170743 0.24501747 0.10500749 0.04500321 0.01928709 0.0082659\n",
            " 0.00354253 0.00151823 0.00065067]\n",
            "Stationary distribution of the matrix 1th\n",
            "[0.34223567 0.22815711 0.15210474 0.10140316 0.06760211 0.04506807\n",
            " 0.03004538 0.02003025 0.0133535 ]\n",
            "Stationary distribution of the matrix 1th\n",
            "[0.11111111 0.11111111 0.11111111 0.11111111 0.11111111 0.11111111\n",
            " 0.11111111 0.11111111 0.11111111]\n",
            "Stationary distribution of the matrix 1th\n",
            "[0.0133535  0.02003025 0.03004538 0.04506807 0.06760211 0.10140316\n",
            " 0.15210474 0.22815711 0.34223567]\n",
            "Stationary distribution of the matrix 1th\n",
            "[0.00065067 0.00151823 0.00354253 0.0082659  0.01928709 0.04500321\n",
            " 0.10500749 0.24501747 0.57170743]\n",
            "Stationary distribution of the matrix 1th\n",
            "[1.14441355e-05 4.57765418e-05 1.83106167e-04 7.32424669e-04\n",
            " 2.92969868e-03 1.17187947e-02 4.68751788e-02 1.87500715e-01\n",
            " 7.50002861e-01]\n",
            "Stationary distribution of the matrix 1th\n",
            "[2.06493983e-08 1.85844585e-07 1.67260127e-06 1.50534114e-05\n",
            " 1.35480703e-04 1.21932633e-03 1.09739369e-02 9.87654324e-02\n",
            " 8.88888891e-01]\n"
          ]
        }
      ],
      "source": [
        "for matrix in matrices:\n",
        "    print_distributions(stationary_candidates_scipy(matrix))\n"
      ]
    },
    {
      "cell_type": "code",
      "execution_count": 10,
      "id": "6e226598",
      "metadata": {
        "id": "6e226598"
      },
      "outputs": [],
      "source": [
        "def stationary_candidates_numpy(matrix):\n",
        "    candidates: list[np.array] = []\n",
        "    # print(f\"Candidates for {i}th matrix\")\n",
        "    eigen_values, eigen_vectors = np.linalg.eig(matrix.T)\n",
        "    for i, (eigen_values, eigen_vectors) in enumerate(zip(eigen_values, eigen_vectors.T)):\n",
        "        #*See explanation in stationary_candidates_scipy\n",
        "        if np.isclose(eigen_values, 1.0, atol=1e-10):\n",
        "            if np.allclose(eigen_vectors.imag, 0, atol=1e-10):\n",
        "                real_vec = eigen_vectors.real\n",
        "                #*Avoid division by zero\n",
        "                if real_vec.sum() != 0:\n",
        "                    normalized_vec = real_vec / real_vec.sum()\n",
        "                    candidates.append(normalized_vec)\n",
        "    # print(candidates)\n",
        "\n",
        "    return get_distributions(candidates)\n",
        "\n"
      ]
    },
    {
      "cell_type": "code",
      "execution_count": 11,
      "id": "d766a561",
      "metadata": {
        "colab": {
          "base_uri": "https://localhost:8080/"
        },
        "id": "d766a561",
        "outputId": "c15f87aa-9ff3-4889-b474-d13252166c4a"
      },
      "outputs": [
        {
          "output_type": "stream",
          "name": "stdout",
          "text": [
            "Stationary distribution of the matrix 1th\n",
            "[0.9 0.1]\n",
            "Stationary distribution of the matrix 1th\n",
            "[0.8 0.2]\n",
            "Stationary distribution of the matrix 1th\n",
            "[0.7 0.3]\n",
            "Stationary distribution of the matrix 1th\n",
            "[0.6 0.4]\n",
            "Stationary distribution of the matrix 1th\n",
            "[0.5 0.5]\n",
            "Stationary distribution of the matrix 1th\n",
            "[0.4 0.6]\n",
            "Stationary distribution of the matrix 1th\n",
            "[0.3 0.7]\n",
            "Stationary distribution of the matrix 1th\n",
            "[0.2 0.8]\n",
            "Stationary distribution of the matrix 1th\n",
            "[0.1 0.9]\n",
            "Stationary distribution of the matrix 1th\n",
            "[0.89010989 0.0989011  0.01098901]\n",
            "Stationary distribution of the matrix 1th\n",
            "[0.76190476 0.19047619 0.04761905]\n",
            "Stationary distribution of the matrix 1th\n",
            "[0.62025316 0.26582278 0.11392405]\n",
            "Stationary distribution of the matrix 1th\n",
            "[0.47368421 0.31578947 0.21052632]\n",
            "Stationary distribution of the matrix 1th\n",
            "[0.33333333 0.33333333 0.33333333]\n",
            "Stationary distribution of the matrix 1th\n",
            "[0.21052632 0.31578947 0.47368421]\n",
            "Stationary distribution of the matrix 1th\n",
            "[0.11392405 0.26582278 0.62025316]\n",
            "Stationary distribution of the matrix 1th\n",
            "[0.04761905 0.19047619 0.76190476]\n",
            "Stationary distribution of the matrix 1th\n",
            "[0.01098901 0.0989011  0.89010989]\n",
            "Stationary distribution of the matrix 1th\n",
            "[0.88902439 0.09878049 0.01097561 0.00121951]\n",
            "Stationary distribution of the matrix 1th\n",
            "[0.75294118 0.18823529 0.04705882 0.01176471]\n",
            "Stationary distribution of the matrix 1th\n",
            "[0.59137931 0.25344828 0.10862069 0.04655172]\n",
            "Stationary distribution of the matrix 1th\n",
            "[0.41538462 0.27692308 0.18461538 0.12307692]\n",
            "Stationary distribution of the matrix 1th\n",
            "[0.25 0.25 0.25 0.25]\n",
            "Stationary distribution of the matrix 1th\n",
            "[0.12307692 0.18461538 0.27692308 0.41538462]\n",
            "Stationary distribution of the matrix 1th\n",
            "[0.04655172 0.10862069 0.25344828 0.59137931]\n",
            "Stationary distribution of the matrix 1th\n",
            "[0.01176471 0.04705882 0.18823529 0.75294118]\n",
            "Stationary distribution of the matrix 1th\n",
            "[0.00121951 0.01097561 0.09878049 0.88902439]\n",
            "Stationary distribution of the matrix 1th\n",
            "[8.88903943e-01 9.87671047e-02 1.09741227e-02 1.21934697e-03\n",
            " 1.35482997e-04]\n",
            "Stationary distribution of the matrix 1th\n",
            "[0.75073314 0.18768328 0.04692082 0.01173021 0.00293255]\n",
            "Stationary distribution of the matrix 1th\n",
            "[0.57981164 0.2484907  0.10649602 0.04564115 0.01956049]\n",
            "Stationary distribution of the matrix 1th\n",
            "[0.38388626 0.25592417 0.17061611 0.11374408 0.07582938]\n",
            "Stationary distribution of the matrix 1th\n",
            "[0.2 0.2 0.2 0.2 0.2]\n",
            "Stationary distribution of the matrix 1th\n",
            "[0.07582938 0.11374408 0.17061611 0.25592417 0.38388626]\n",
            "Stationary distribution of the matrix 1th\n",
            "[0.01956049 0.04564115 0.10649602 0.2484907  0.57981164]\n",
            "Stationary distribution of the matrix 1th\n",
            "[0.00293255 0.01173021 0.04692082 0.18768328 0.75073314]\n",
            "Stationary distribution of the matrix 1th\n",
            "[1.35482997e-04 1.21934697e-03 1.09741227e-02 9.87671047e-02\n",
            " 8.88903943e-01]\n",
            "Stationary distribution of the matrix 1th\n",
            "[8.88890561e-01 9.87656179e-02 1.09739575e-02 1.21932862e-03\n",
            " 1.35480957e-04 1.50534397e-05]\n",
            "Stationary distribution of the matrix 1th\n",
            "[7.50183150e-01 1.87545788e-01 4.68864469e-02 1.17216117e-02\n",
            " 2.93040293e-03 7.32600733e-04]\n",
            "Stationary distribution of the matrix 1th\n",
            "[0.57499145 0.24642491 0.10561067 0.04526172 0.01939788 0.00831338]\n",
            "Stationary distribution of the matrix 1th\n",
            "[0.36541353 0.24360902 0.16240602 0.10827068 0.07218045 0.0481203 ]\n",
            "Stationary distribution of the matrix 1th\n",
            "[0.16666667 0.16666667 0.16666667 0.16666667 0.16666667 0.16666667]\n",
            "Stationary distribution of the matrix 1th\n",
            "[0.0481203  0.07218045 0.10827068 0.16240602 0.24360902 0.36541353]\n",
            "Stationary distribution of the matrix 1th\n",
            "[0.00831338 0.01939788 0.04526172 0.10561067 0.24642491 0.57499145]\n",
            "Stationary distribution of the matrix 1th\n",
            "[7.32600733e-04 2.93040293e-03 1.17216117e-02 4.68864469e-02\n",
            " 1.87545788e-01 7.50183150e-01]\n",
            "Stationary distribution of the matrix 1th\n",
            "[1.50534397e-05 1.35480957e-04 1.21932862e-03 1.09739575e-02\n",
            " 9.87656179e-02 8.88890561e-01]\n",
            "Stationary distribution of the matrix 1th\n",
            "[8.88889075e-01 9.87654527e-02 1.09739392e-02 1.21932658e-03\n",
            " 1.35480731e-04 1.50534145e-05 1.67260161e-06]\n",
            "Stationary distribution of the matrix 1th\n",
            "[7.50045779e-01 1.87511445e-01 4.68778612e-02 1.17194653e-02\n",
            " 2.92986632e-03 7.32466581e-04 1.83116645e-04]\n",
            "Stationary distribution of the matrix 1th\n",
            "[0.5729501  0.24555004 0.10523573 0.04510103 0.01932901 0.00828386\n",
            " 0.00355023]\n",
            "Stationary distribution of the matrix 1th\n",
            "[0.35405537 0.23603691 0.15735794 0.10490529 0.06993686 0.04662458\n",
            " 0.03108305]\n",
            "Stationary distribution of the matrix 1th\n",
            "[0.14285714 0.14285714 0.14285714 0.14285714 0.14285714 0.14285714\n",
            " 0.14285714]\n",
            "Stationary distribution of the matrix 1th\n",
            "[0.03108305 0.04662458 0.06993686 0.10490529 0.15735794 0.23603691\n",
            " 0.35405537]\n",
            "Stationary distribution of the matrix 1th\n",
            "[0.00355023 0.00828386 0.01932901 0.04510103 0.10523573 0.24555004\n",
            " 0.5729501 ]\n",
            "Stationary distribution of the matrix 1th\n",
            "[1.83116645e-04 7.32466581e-04 2.92986632e-03 1.17194653e-02\n",
            " 4.68778612e-02 1.87511445e-01 7.50045779e-01]\n",
            "Stationary distribution of the matrix 1th\n",
            "[1.67260161e-06 1.50534145e-05 1.35480731e-04 1.21932658e-03\n",
            " 1.09739392e-02 9.87654527e-02 8.88889075e-01]\n",
            "Stationary distribution of the matrix 1th\n",
            "[8.88888910e-01 9.87654344e-02 1.09739372e-02 1.21932635e-03\n",
            " 1.35480706e-04 1.50534117e-05 1.67260130e-06 1.85844589e-07]\n",
            "Stationary distribution of the matrix 1th\n",
            "[7.50011444e-01 1.87502861e-01 4.68757153e-02 1.17189288e-02\n",
            " 2.92973220e-03 7.32433051e-04 1.83108263e-04 4.57770657e-05]\n",
            "Stationary distribution of the matrix 1th\n",
            "[0.57207966 0.245177   0.10507586 0.04503251 0.01929965 0.00827128\n",
            " 0.00354483 0.00151921]\n",
            "Stationary distribution of the matrix 1th\n",
            "[0.34686757 0.23124504 0.15416336 0.10277557 0.06851705 0.04567803\n",
            " 0.03045202 0.02030135]\n",
            "Stationary distribution of the matrix 1th\n",
            "[0.125 0.125 0.125 0.125 0.125 0.125 0.125 0.125]\n",
            "Stationary distribution of the matrix 1th\n",
            "[0.02030135 0.03045202 0.04567803 0.06851705 0.10277557 0.15416336\n",
            " 0.23124504 0.34686757]\n",
            "Stationary distribution of the matrix 1th\n",
            "[0.00151921 0.00354483 0.00827128 0.01929965 0.04503251 0.10507586\n",
            " 0.245177   0.57207966]\n",
            "Stationary distribution of the matrix 1th\n",
            "[4.57770657e-05 1.83108263e-04 7.32433051e-04 2.92973220e-03\n",
            " 1.17189288e-02 4.68757153e-02 1.87502861e-01 7.50011444e-01]\n",
            "Stationary distribution of the matrix 1th\n",
            "[1.85844589e-07 1.67260130e-06 1.50534117e-05 1.35480706e-04\n",
            " 1.21932635e-03 1.09739372e-02 9.87654344e-02 8.88888910e-01]\n",
            "Stationary distribution of the matrix 1th\n",
            "[8.88888891e-01 9.87654324e-02 1.09739369e-02 1.21932633e-03\n",
            " 1.35480703e-04 1.50534114e-05 1.67260127e-06 1.85844585e-07\n",
            " 2.06493984e-08]\n",
            "Stationary distribution of the matrix 1th\n",
            "[7.50002861e-01 1.87500715e-01 4.68751788e-02 1.17187947e-02\n",
            " 2.92969868e-03 7.32424669e-04 1.83106167e-04 4.57765418e-05\n",
            " 1.14441355e-05]\n",
            "Stationary distribution of the matrix 1th\n",
            "[0.57170743 0.24501747 0.10500749 0.04500321 0.01928709 0.0082659\n",
            " 0.00354253 0.00151823 0.00065067]\n",
            "Stationary distribution of the matrix 1th\n",
            "[0.34223567 0.22815711 0.15210474 0.10140316 0.06760211 0.04506807\n",
            " 0.03004538 0.02003025 0.0133535 ]\n",
            "Stationary distribution of the matrix 1th\n",
            "[0.11111111 0.11111111 0.11111111 0.11111111 0.11111111 0.11111111\n",
            " 0.11111111 0.11111111 0.11111111]\n",
            "Stationary distribution of the matrix 1th\n",
            "[0.0133535  0.02003025 0.03004538 0.04506807 0.06760211 0.10140316\n",
            " 0.15210474 0.22815711 0.34223567]\n",
            "Stationary distribution of the matrix 1th\n",
            "[0.00065067 0.00151823 0.00354253 0.0082659  0.01928709 0.04500321\n",
            " 0.10500749 0.24501747 0.57170743]\n",
            "Stationary distribution of the matrix 1th\n",
            "[1.14441355e-05 4.57765418e-05 1.83106167e-04 7.32424669e-04\n",
            " 2.92969868e-03 1.17187947e-02 4.68751788e-02 1.87500715e-01\n",
            " 7.50002861e-01]\n",
            "Stationary distribution of the matrix 1th\n",
            "[2.06493983e-08 1.85844585e-07 1.67260127e-06 1.50534114e-05\n",
            " 1.35480703e-04 1.21932633e-03 1.09739369e-02 9.87654324e-02\n",
            " 8.88888891e-01]\n"
          ]
        }
      ],
      "source": [
        "for matrix in matrices:\n",
        "    print_distributions(stationary_candidates_numpy(matrix))"
      ]
    },
    {
      "cell_type": "markdown",
      "id": "3cab0572",
      "metadata": {
        "id": "3cab0572"
      },
      "source": [
        "*Análisis de la cadena 1*\n",
        "\n",
        "Simétrica salvo por la primera y la n, n-ésima entrada implica que las entradas de la distribución estacionaria serán iguales?"
      ]
    },
    {
      "cell_type": "markdown",
      "id": "b190602a",
      "metadata": {
        "id": "b190602a"
      },
      "source": [
        "#### Cadena 2"
      ]
    },
    {
      "cell_type": "code",
      "execution_count": 12,
      "id": "38f82d1e",
      "metadata": {
        "colab": {
          "base_uri": "https://localhost:8080/"
        },
        "id": "38f82d1e",
        "outputId": "da9176e6-c6c5-450d-9012-247c14fd0422"
      },
      "outputs": [
        {
          "output_type": "stream",
          "name": "stdout",
          "text": [
            "Distribución estacionaria con NumPy:\n",
            "Estado 1: 0.161972\n",
            "Estado 2: 0.159624\n",
            "Estado 3: 0.178404\n",
            "Estado 4: 0.178404\n",
            "Estado 5: 0.161972\n",
            "Estado 6: 0.159624\n",
            "\n",
            "Suma: 1.0000000000\n",
            "\n",
            "Verificación (||πP - π||): 2.1319462162e-16\n"
          ]
        }
      ],
      "source": [
        "pi_scipy = stationary_candidates_scipy(P_community)[0]\n",
        "print(\"Distribución estacionaria con NumPy:\")\n",
        "for i, prob in enumerate(pi_scipy):\n",
        "    print(f\"Estado {i+1}: {prob:.6f}\")\n",
        "\n",
        "print(f\"\\nSuma: {pi_scipy.sum():.10f}\")\n",
        "\n",
        "# Verificar que es estacionaria: πP ≈ π\n",
        "piP = pi_scipy @ P_community\n",
        "print(f\"\\nVerificación (||πP - π||): {np.linalg.norm(piP - pi_scipy):.10e}\")\n",
        "\n"
      ]
    },
    {
      "cell_type": "code",
      "execution_count": 13,
      "id": "9359d9e8",
      "metadata": {
        "colab": {
          "base_uri": "https://localhost:8080/"
        },
        "id": "9359d9e8",
        "outputId": "885bda0b-6f20-43f6-80ec-0cb8473a85b0"
      },
      "outputs": [
        {
          "output_type": "stream",
          "name": "stdout",
          "text": [
            "Distribución estacionaria con NumPy:\n",
            "Estado 1: 0.161972\n",
            "Estado 2: 0.159624\n",
            "Estado 3: 0.178404\n",
            "Estado 4: 0.178404\n",
            "Estado 5: 0.161972\n",
            "Estado 6: 0.159624\n",
            "\n",
            "Suma: 1.0000000000\n",
            "\n",
            "Verificación (||πP - π||): 2.1319462162e-16\n"
          ]
        }
      ],
      "source": [
        "pi_numpy = stationary_candidates_numpy(P_community)[0]\n",
        "print(\"Distribución estacionaria con NumPy:\")\n",
        "for i, prob in enumerate(pi_numpy):\n",
        "    print(f\"Estado {i+1}: {prob:.6f}\")\n",
        "\n",
        "print(f\"\\nSuma: {pi_numpy.sum():.10f}\")\n",
        "\n",
        "# Verificar que es estacionaria: πP ≈ π\n",
        "piP = pi_numpy @ P_community\n",
        "print(f\"\\nVerificación (||πP - π||): {np.linalg.norm(piP - pi_numpy):.10e}\")"
      ]
    },
    {
      "cell_type": "code",
      "execution_count": 14,
      "id": "bcb345a1",
      "metadata": {
        "colab": {
          "base_uri": "https://localhost:8080/"
        },
        "id": "bcb345a1",
        "outputId": "d6b9c171-8201-46f7-f77e-7f76e167d03d"
      },
      "outputs": [
        {
          "output_type": "stream",
          "name": "stdout",
          "text": [
            "Is NumPy's distribution the same as SciPy's? True\n"
          ]
        }
      ],
      "source": [
        "print(\"Is NumPy's distribution the same as SciPy's?\", np.allclose(pi_numpy, pi_scipy, atol=1e-6))"
      ]
    },
    {
      "cell_type": "markdown",
      "id": "c264c8a3",
      "metadata": {
        "id": "c264c8a3"
      },
      "source": [
        "*Análisis esperado para la Cadena 2*\n",
        "\n",
        "Dado que la cadena tiene simetría entre las dos comunidades (mismo tamaño $n=3$, mismas probabilidades), pero con un cuello de botella ($\\epsilon=0.05$), esperaríamos:\n",
        "- Simetría aproximada: $\\pi(S_1) ≈ \\pi(S_4), \\pi(S_2) ≈ \\pi(S_5), \\pi(S_3) ≈ \\pi(S_6)$\n",
        "- Efecto del cuello de botella: Los estados cerca del puente ($S_3$ y $S_4$) podrían tener probabilidades ligeramente diferentes.\n",
        "\n",
        "Suma total $= 1$: Verificación crucial"
      ]
    },
    {
      "cell_type": "markdown",
      "id": "e2ef9f73",
      "metadata": {
        "id": "e2ef9f73"
      },
      "source": [
        "### Usando la fórmula de recurrencia\n",
        "\n",
        "Ya que las cadenas trabajadas son homogéneas, aperiódicas e irreducibles, la distribución estacionaria es única por el teorema 5.3 visto en clase. Además, por ejercicio ... (realizar ejercicio), se sabe que esta distribución tendrá la forma\n",
        "$$\\pi = \\left(\\frac{1}{\\mathbb{E}_1[T_1^+]}, \\frac{1}{\\mathbb{E}_2[T_2^+]}, ..., \\frac{1}{\\mathbb{E}_n[T_n^+]}\\right) = \\left(\\frac{1}{r_1}, \\frac{1}{r_2}, ..., \\frac{1}{r_n}\\right)$$\n",
        "Además, para todo $i \\in \\{1, ..., n\\}$, $r_i := \\mathbb{E}_i[T_i^+] = 1 + \\sum_{j \\in S}P_{ij} t_{j, \\{i\\}}$, y como $t_{i, \\{i\\}} := \\mathbb{E}_i[T_i] = 0$ (pues si $X_0 = i$, ya se está en el estado al que se quería retornar), se puede descartar el caso en que $j = i$. Luego,\n",
        "$$r_i = \\mathbb{E}_i[T_i^+] = 1 + \\sum_{j \\in S, j \\neq i}P_{ij} t_{j, \\{i\\}} = (\\pi_i)^{-1}$$\n",
        "donde $\\pi$ es la distribución estacionaria de cada cadena, $P$ es la matriz de transición de la cadena, y $t_{j, \\{i\\}} := \\mathbb{E}_i[T_{\\{i\\}}] = 1 + \\sum_{j \\in S^t} P_{ij} t_{j, \\{i\\}}$ el tiempo medio de llegada al estado $i$ desde el estado $j$.\n",
        "\n",
        "La forma de calcular los tiempos medios de llegada a un estado desde otro es recurrentemente, es decir, se va formando un sistema de ecuaciones con los $i, j \\in S$ necesarios para poder calcular los $t_{j, \\{i\\}}$ requeridos. Este cálculo se realizará a continuación representando dicho sistema como una matriz que va creciendo a medida en que se requiren más $t_{j, \\{i\\}}$."
      ]
    },
    {
      "cell_type": "code",
      "execution_count": 15,
      "id": "914da2db",
      "metadata": {
        "id": "914da2db"
      },
      "outputs": [],
      "source": [
        "matrices = build_p_matrices(chain=1, p_values=[n/10 for n in range (1, 10)], n_values=[n for n in range(2, 10)])"
      ]
    },
    {
      "cell_type": "markdown",
      "id": "3de46bec",
      "metadata": {
        "id": "3de46bec"
      },
      "source": [
        "#### Sin recursión (Juanse)"
      ]
    },
    {
      "cell_type": "markdown",
      "id": "d76bbf01",
      "metadata": {
        "id": "d76bbf01"
      },
      "source": [
        "Si las cadenas tienen $n$ nodos, entonces habrán $n^2$ tiempos de retorno, ya que hay $n.n$ tuplas posibles. Notemos que para calcular un $t_{i,j}$, los estados de los que este depende serán: $t_{0,j} , t_{1,j} , ... , t_{n-1,j}$ por la fórmula de recurrencia que se vio en clase. Es decir, en vez de resolver un sistema de $n^2$ x $n^2$ entradas para hallar cada $t_{i,j}$, basta con hallar $n$ sistemas $n$ x $n$ para determinar los $t_{i,0}$ , $t_{i,1}$ , ... , $t_{i,n-1}$ para todo $0 \\leq i \\leq n-1$. Esto reduce la complejidad de gran manera, ya que resolver $n$ sistemas $n$ x $n$ toma $O(n^4)$ ya que resolver un sistema de $n$ x $n$ usando Gauss Jordan toma $O(n^3)$ operaciones.\n",
        "\n",
        "Complejidad total: $O(n^4)$"
      ]
    },
    {
      "cell_type": "code",
      "execution_count": 16,
      "id": "c37f1db6",
      "metadata": {
        "id": "c37f1db6"
      },
      "outputs": [],
      "source": [
        "def t_ij_Matrix(P_matrix: np.array) -> np.array:\n",
        "  \"\"\"\n",
        "  The main idea is to calculate all the states t_{i,j} but keeping fixed j and then iterating over i, since\n",
        "  no matter for what i we need to calculate t_{i,j}, the recurrence formula requires j fixed and all the posible\n",
        "  i's. For example,\n",
        "  t_0,0 = 0\n",
        "  t_1,0 = 1 + P_1,0 . t_0,0 + P_1,1 . t_1,0 + P_1,2 . t_2,0  <->  (1 - P_1,1) . t_1,0    -    P_1,2 . t_2,0 = 1\n",
        "  t_2,0 = 1 + P_2,0 . t_0,0 + P_2,1 . t_1,0 + P_2,2 . t_2,0  <->      - P_2,1 . t_1,0 + (1 - P_2,2) . t_2,0 = 1\n",
        "  notice that to calculate t_{1, 0} or t_{2, 0}, we require the value of the other t_{k, 0} (since we know\n",
        "  t_{0, 0} = 0). Generalizing, we would only require an (n-1)x(n-1) system of equations to calculate each\n",
        "  t_{i, j}.\n",
        "  \"\"\"\n",
        "  t_ij_M = []\n",
        "  rows = P_matrix.shape[0]\n",
        "\n",
        "\n",
        "  for j in range(0,rows):\n",
        "    valid_states = [i for i in range(rows) if i != j]\n",
        "\n",
        "    n = rows - 1\n",
        "    submatrix = np.zeros((n, n), dtype=float)\n",
        "    ones = np.ones(n, dtype=float)\n",
        "\n",
        "    for r, i in enumerate(valid_states):\n",
        "        for c, d in enumerate(valid_states):\n",
        "            if i == d:\n",
        "                submatrix[r, c] = 1.0 - P_matrix[i, i] # Notice that we can always factor the ti,j that we want to calculate. See in the example that t_1,0 is at the left and right side of the equation.\n",
        "            else:\n",
        "                submatrix[r, c] = - P_matrix[i, d] # Else, the matrix entrance will be the probability taken to the left side of the equation\n",
        "\n",
        "    sol_vector = np.linalg.solve(submatrix, ones)\n",
        "    t = np.zeros(rows, dtype=float)\n",
        "    for k, s in enumerate(valid_states):\n",
        "        t[s] = sol_vector[k]\n",
        "    t[j] = 0.0\n",
        "    t_ij_M.append(t)\n",
        "\n",
        "  return np.array(t_ij_M)\n",
        "\n",
        "\n",
        "def get_stationary_distr_rf1(P_matrix: np.array) -> np.array:\n",
        "  \"\"\"\n",
        "  Once we have all the values of t_ij, we can simply replace in the equations of the r_i, take the inverses and get the stationary distribution.\n",
        "  \"\"\"\n",
        "  t_ij_M = t_ij_Matrix(P_matrix)\n",
        "  stationary_distribution = []\n",
        "  for i in range(0, P_matrix.shape[0]):\n",
        "    r_i = 1\n",
        "    for j in range(0, P_matrix.shape[1]):\n",
        "      r_i += P_matrix[i][j]*t_ij_M[i][j]\n",
        "    stationary_distribution.append(1/r_i)\n",
        "  return np.array(stationary_distribution)"
      ]
    },
    {
      "cell_type": "code",
      "execution_count": 17,
      "id": "6792f7de",
      "metadata": {
        "colab": {
          "base_uri": "https://localhost:8080/"
        },
        "id": "6792f7de",
        "outputId": "3a53b560-35c1-4d2f-d3d9-6b494b0cc610"
      },
      "outputs": [
        {
          "output_type": "execute_result",
          "data": {
            "text/plain": [
              "array([0.29015544, 0.31865285, 0.24870466, 0.14248705])"
            ]
          },
          "metadata": {},
          "execution_count": 17
        }
      ],
      "source": [
        "matrix1 = np.array(\n",
        "    [[1/2, 1/2, 0],\n",
        "     [0, 1/3, 2/3],\n",
        "     [1/2, 1/2, 0]]\n",
        ")\n",
        "\n",
        "matrix2 = np.array(\n",
        "    [[0.9, 0.1],\n",
        "     [0.5, 0.5]]\n",
        "    )\n",
        "\n",
        "matrix3 = np.array(\n",
        "    [\n",
        " [0.0, 0.5, 0.0, 0.5],\n",
        " [0.5, 0.0, 0.5, 0.0],\n",
        " [0.0, 0.5, 0.0, 0.5],\n",
        " [0.5, 0.0, 0.5, 0.0]\n",
        "]\n",
        ")\n",
        "\n",
        "P: np.array = np.array(\n",
        "    [[1/4, 1/4, 1/4, 1/4],\n",
        "     [1/3, 1/3, 1/3, 0],\n",
        "     [1/3, 1/3, 1/6, 1/6],\n",
        "     [1/5, 2/5, 1/5, 1/5]]\n",
        ")\n",
        "\n",
        "\n",
        "t_ij_Matrix(matrix1)\n",
        "get_stationary_distr_rf1(matrix1)\n",
        "\n",
        "t_ij_Matrix(matrix2)\n",
        "get_stationary_distr_rf1(matrix2)\n",
        "\n",
        "t_ij_Matrix(matrix3)\n",
        "get_stationary_distr_rf1(matrix3)\n",
        "\n",
        "t_ij_Matrix(P)\n",
        "get_stationary_distr_rf1(P)"
      ]
    },
    {
      "cell_type": "markdown",
      "id": "ea24d8ab",
      "metadata": {
        "id": "ea24d8ab"
      },
      "source": [
        "#### Sin recursión (Sara)"
      ]
    },
    {
      "cell_type": "code",
      "execution_count": 18,
      "id": "2ce49fc4",
      "metadata": {
        "id": "2ce49fc4"
      },
      "outputs": [],
      "source": [
        "def get_stationary_distr_rf2(P):\n",
        "    \"\"\"\n",
        "    Calcula la distribución estacionaria usando el método de recurrencias:\n",
        "    π_i = 1 / E_i[T_i^+]\n",
        "    donde E_i[T_i^+] = 1 + Σ_{j≠i} P_ij * t_{j,{i}}\n",
        "    y t_{j,{i}} se calcula resolviendo un sistema de ecuaciones\n",
        "    \"\"\"\n",
        "    n = P.shape[0]\n",
        "    pi = np.zeros(n)\n",
        "\n",
        "    for target_state in range(n):\n",
        "        # Para cada estado i, calculamos r_i = E_i[T_i^+]\n",
        "        r_i = compute_mean_return_time(P, target_state)\n",
        "        pi[target_state] = 1.0 / r_i if r_i > 0 else 0.0\n",
        "    # Normalizar por si hay pequeñas imprecisiones numéricas\n",
        "    pi = pi / pi.sum()\n",
        "    return pi\n",
        "\n",
        "def compute_mean_return_time(P, target_state):\n",
        "    \"\"\"\n",
        "    Calcula E_i[T_i^+] para un estado target_state dado\n",
        "    \"\"\"\n",
        "    n = P.shape[0]\n",
        "\n",
        "    # Estados relevantes: todos excepto el target_state\n",
        "    relevant_states = [i for i in range(n) if i != target_state]\n",
        "\n",
        "    # Construir el sistema de ecuaciones para t_{j,{i}} = 1 + Σ_{k≠i} P_jk * t_{k,{i}}\n",
        "\n",
        "    # Matriz del sistema: A * t = b\n",
        "    A = np.zeros((len(relevant_states), len(relevant_states)))\n",
        "    b = np.ones(len(relevant_states))\n",
        "\n",
        "    # Mapeo de indices globales a indices locales\n",
        "    state_to_index = {state: idx for idx, state in enumerate(relevant_states)}\n",
        "\n",
        "    for idx_j, j in enumerate(relevant_states): #idx abreviacion para index\n",
        "        for k in range(n):\n",
        "            if k == target_state:\n",
        "                # Cuando k = i, t_{k,{i}} = 0 (ya estamos en el estado objetivo)\n",
        "                continue\n",
        "            elif k == j:\n",
        "                # Coeficiente para t_{j,{i}}\n",
        "                A[idx_j, idx_j] -= P[j, k]\n",
        "            else:\n",
        "                # Coeficiente para t_{k,{i}} donde k diferente a j\n",
        "                if k in state_to_index:\n",
        "                    A[idx_j, state_to_index[k]] -= P[j, k]\n",
        "\n",
        "    # La ecuación es: t_{j,{i}} - Σ P_jk * t_{k,{i}} = 1\n",
        "    # Por lo tanto: A = I - P_reduced, pero ajustando diagonales\n",
        "    for idx_j, j in enumerate(relevant_states):\n",
        "        A[idx_j, idx_j] += 1.0\n",
        "\n",
        "    # Resolver el sistema lineal\n",
        "    try:\n",
        "        t_values = np.linalg.solve(A, b)\n",
        "    except np.linalg.LinAlgError:\n",
        "        # Usar mínimos cuadrados si el sistema es singular\n",
        "        t_values = np.linalg.lstsq(A, b, rcond=None)[0]\n",
        "\n",
        "    # Calcular r_i = E_i[T_i^+] = 1 + Σ_{j≠i} P_ij * t_{j,{i}}\n",
        "    r_i = 1.0\n",
        "    for j in range(n):\n",
        "        if j != target_state:\n",
        "            if j in state_to_index:\n",
        "                r_i += P[target_state, j] * t_values[state_to_index[j]]\n",
        "\n",
        "    return r_i\n",
        ""
      ]
    },
    {
      "cell_type": "code",
      "execution_count": 19,
      "id": "7d0ad2a7",
      "metadata": {
        "colab": {
          "base_uri": "https://localhost:8080/"
        },
        "id": "7d0ad2a7",
        "outputId": "8397084f-7443-44b1-b03c-5c7e83b62ae1"
      },
      "outputs": [
        {
          "output_type": "stream",
          "name": "stdout",
          "text": [
            "=== MÉTODO DE RECURRENCIAS - CADENA 2 ===\n",
            "Distribución estacionaria (recurrencias):\n",
            "Estado 1: 0.161972\n",
            "Estado 2: 0.159624\n",
            "Estado 3: 0.178404\n",
            "Estado 4: 0.178404\n",
            "Estado 5: 0.161972\n",
            "Estado 6: 0.159624\n",
            "Suma: 1.0000000000\n",
            "\n",
            "=== COMPARACIÓN DE MÉTODOS ===\n",
            "Diferencia ||π_recurrence - π_scipy||: 1.2085633081569536e-15\n",
            "Error ||πP - π|| (recurrencias): 4.8074067160e-17\n"
          ]
        }
      ],
      "source": [
        "# Calcular distribución estacionaria por recurrencias para la Cadena 2\n",
        "print(\"=== MÉTODO DE RECURRENCIAS - CADENA 2 ===\")\n",
        "\n",
        "pi_recurrence = get_stationary_distr_rf2(P_community)\n",
        "\n",
        "print(\"Distribución estacionaria (recurrencias):\")\n",
        "for i, prob in enumerate(pi_recurrence):\n",
        "    print(f\"Estado {i+1}: {prob:.6f}\")\n",
        "\n",
        "print(f\"Suma: {pi_recurrence.sum():.10f}\")\n",
        "\n",
        "# Comparar con el método de autovectores\n",
        "print(f\"\\n=== COMPARACIÓN DE MÉTODOS ===\")\n",
        "print(\"Diferencia ||π_recurrence - π_scipy||:\", np.linalg.norm(pi_recurrence - pi_scipy))\n",
        "\n",
        "# Verificar la propiedad πP = π\n",
        "piP_recurrence = pi_recurrence @ P_community\n",
        "error_recurrence = np.linalg.norm(piP_recurrence - pi_recurrence)\n",
        "print(f\"Error ||πP - π|| (recurrencias): {error_recurrence:.10e}\")"
      ]
    },
    {
      "cell_type": "markdown",
      "id": "8994945d",
      "metadata": {
        "id": "8994945d"
      },
      "source": [
        "#### Con recursión (Santiago)"
      ]
    },
    {
      "cell_type": "code",
      "execution_count": 20,
      "id": "796f272b",
      "metadata": {
        "colab": {
          "base_uri": "https://localhost:8080/"
        },
        "id": "796f272b",
        "outputId": "a6985ed4-c1bb-4eb3-b72b-5a181a1029dc"
      },
      "outputs": [
        {
          "output_type": "stream",
          "name": "stderr",
          "text": [
            "<>:8: SyntaxWarning: invalid escape sequence '\\i'\n",
            "<>:8: SyntaxWarning: invalid escape sequence '\\i'\n",
            "/tmp/ipython-input-178164655.py:8: SyntaxWarning: invalid escape sequence '\\i'\n",
            "  - is 0 if i \\not \\in \\{1, 2 + n, ..., i + (i-1)n, ..., n + n\\},\n"
          ]
        }
      ],
      "source": [
        "import numpy as np\n",
        "\n",
        "def generate_t_matrix(P:np.array) -> np.array:\n",
        "    \"\"\"\n",
        "    Returns a n^2 x n^2 matrix T whose entry\n",
        "    (i, j) = (q_1 n + r_1, q_2 n + r_2) (where q_i, r_i are obtained using\n",
        "    the division algorithm)\n",
        "    - is 0 if i \\not \\in \\{1, 2 + n, ..., i + (i-1)n, ..., n + n\\},\n",
        "    i.e., it doesn't correspond to a mean return time in the form\n",
        "    t_{k, j}, where k is any state of the chain.\n",
        "    - is P_{r_1, r_2}, a.k.a., P_{i, k}, otherwise.\n",
        "    \"\"\"\n",
        "    n: int = P.shape[0]\n",
        "    T: np.array = np.zeros(shape=(n*n, n*n))\n",
        "    # print(T)\n",
        "    #!Consider addin a rule for t_i,i to be  0\n",
        "    #*Filling the non-zero values of t(i, j)\n",
        "    for i in range(n):\n",
        "        for j in range(n):\n",
        "            if j == i:\n",
        "                j += 1\n",
        "                continue\n",
        "            n_mult: int = 0 #*n multiplier\n",
        "            for k in range(n):\n",
        "                #*Since k starts from 0, there is no need to multiply n by k - 1\n",
        "                k_val: int = i + j*n\n",
        "                j_val: int = j + n*k\n",
        "                i_val: int = i\n",
        "                # print(i, k, P[i][k], (i*n + j, j + n*k))\n",
        "                T[i*n + j, j + n*k] = P[i][k]\n",
        "    for i in range(n*n):\n",
        "        T[i][i] -= 1\n",
        "    for i in range(n):\n",
        "        T[i*(n+1)][i*(n+1)] = 0\n",
        "\n",
        "    return T\n",
        "\n",
        "def pretty_print(M: np.array, h_indices: list[str] = None, v_indices: list[str] = None) -> None:\n",
        "    if h_indices is None:\n",
        "        h_indices = [i for i in range(M.shape[1])]\n",
        "    if v_indices is None:\n",
        "        v_indices = [i for i in range(M.shape[0])]\n",
        "\n",
        "    n_rows, n_cols = M.shape\n",
        "    # Determine column width based on the longest h_indices string (at least 7)\n",
        "    col_width = max(8, max(len(str(idx)) for idx in h_indices) + 1)\n",
        "    # Print column indices\n",
        "    print(\" \" * (col_width + 1), end=\"\")\n",
        "    for index in h_indices:\n",
        "        print(f\"{index:>{col_width}}\", end=\"\")\n",
        "    print()\n",
        "    # Print each row with its index\n",
        "    for row in range(n_rows):\n",
        "        print(f\"{v_indices[row]:>3} |\", end=\"\")\n",
        "        for col in range(n_cols):\n",
        "            print(f\"{M[row, col]:{col_width}.2f}\", end=\"\")\n",
        "        print()\n",
        "\n",
        "def generate_index_labels(prefix: str, n: int, m: int) -> list[str]:\n",
        "    \"\"\"\n",
        "    Returns a list of strings in the format 'prefix(i, j)' for i in range(1, n + 1),\n",
        "    j in range(1, m+1), listed in lexicographical order.\n",
        "    \"\"\"\n",
        "    return [f\"{prefix}({i}, {j})\" for i in range(1, n+1) for j in range(1, m+1)]\n",
        "\n",
        "def get_necessary_tijs(i: int, j: int, n: int, T: np.array, syst: list[np.array], bool_map: list[list[bool]]) -> int:\n",
        "    if i == j:\n",
        "        return 0\n",
        "    map: list[list[bool]] = bool_map\n",
        "    map[i][j] = 1\n",
        "    syst.append(T[n*i + j])\n",
        "    # print(\"Bool map\", bool_map)\n",
        "    # print(\"System of equations\", syst)\n",
        "    for k in range(n):\n",
        "        if k == j:\n",
        "            pass\n",
        "        elif bool_map[k][j] == 0:\n",
        "            syst, map = get_necessary_tijs(k, j, n, T, syst, map)\n",
        "    return syst, map\n",
        "\n",
        "def chop_system(S: np.array, n: int) -> np.array:\n",
        "    chopped: np.array = S\n",
        "    #*Remove the t_{i, i} entries\n",
        "    for i in range(n):\n",
        "        #*Although we are chopping the i*(n+1)-th column of the original\n",
        "        #*system, every deletion subtracts 1 to the number of columns,\n",
        "        #*so it ends up being the i*n-th column\n",
        "        chopped = np.delete(chopped, i*n, axis=1)\n",
        "    #*Remove columns that are all zeros (not necessary in the system)\n",
        "    chopped = chopped[:, ~np.all(chopped == 0, axis=0)]\n",
        "    return chopped\n",
        "\n",
        "def solve_system(S: np.array) -> np.array:\n",
        "    solution: np.array = np.linalg.solve(S, -np.ones(S.shape[0]))\n",
        "    solution = solution\n",
        "    return solution\n",
        "\n",
        "def get_stationary_distr_rf3(P: np.array) -> np.array:\n",
        "    \"\"\"\n",
        "    Function to calculate the stationary distribution of a Markov chain\n",
        "    with transition matrix `P` using the recurrence formulas\n",
        "    \"\"\"\n",
        "    if P.shape[0] != P.shape[1]:\n",
        "        raise ValueError(\"Matrix must be squared. Got matrix with shape\", P.shape)\n",
        "\n",
        "    n: int = P.shape[0]\n",
        "    r: np.array = np.zeros(n)\n",
        "    T: np.array = generate_t_matrix(P)\n",
        "    #*Calculate each r_i\n",
        "    for i in range(n):\n",
        "        #!Bold assumption that requires proof: to calculate a t_(i, j), the system and its subsystems will only have t_(k, j), which actually sounds kind of obvious once you look at the formula, never mind. May be worth writing though\n",
        "        if i == 0:\n",
        "            syst_matrix, _ = get_necessary_tijs(1, i, n, T, [], [[0 for k in range(n)] for l in range(n)])\n",
        "        else:\n",
        "            syst_matrix, _ = get_necessary_tijs(0, i, n, T, [], [[0 for k in range(n)] for l in range(n)])\n",
        "        syst_chopped = chop_system(syst_matrix, n)\n",
        "        #*Vector containing the value of each t_(j, i) necessary to calculate ri\n",
        "        t_vector: np.array = solve_system(syst_chopped)\n",
        "        t_vector = np.insert(t_vector, i, 0)\n",
        "        for j in range(n):\n",
        "            r[i] += P[i][j] * t_vector[j]\n",
        "        r[i] += 1\n",
        "\n",
        "    r = 1/r\n",
        "\n",
        "    return r\n"
      ]
    },
    {
      "cell_type": "code",
      "execution_count": 21,
      "id": "c3908fc0",
      "metadata": {
        "colab": {
          "base_uri": "https://localhost:8080/"
        },
        "id": "c3908fc0",
        "outputId": "44ce28bb-94c1-4d11-f492-41050cc9134f"
      },
      "outputs": [
        {
          "output_type": "stream",
          "name": "stdout",
          "text": [
            "          T(1, 1) T(1, 2) T(1, 3) T(1, 4) T(2, 1) T(2, 2) T(2, 3) T(2, 4) T(3, 1) T(3, 2) T(3, 3) T(3, 4) T(4, 1) T(4, 2) T(4, 3) T(4, 4)\n",
            "T(1, 1) |    0.00    0.00    0.00    0.00    0.00    0.00    0.00    0.00    0.00    0.00    0.00    0.00    0.00    0.00    0.00    0.00\n",
            "T(1, 2) |    0.00   -0.75    0.00    0.00    0.00    0.25    0.00    0.00    0.00    0.25    0.00    0.00    0.00    0.25    0.00    0.00\n",
            "T(1, 3) |    0.00    0.00   -0.75    0.00    0.00    0.00    0.25    0.00    0.00    0.00    0.25    0.00    0.00    0.00    0.25    0.00\n",
            "T(1, 4) |    0.00    0.00    0.00   -0.75    0.00    0.00    0.00    0.25    0.00    0.00    0.00    0.25    0.00    0.00    0.00    0.25\n",
            "T(2, 1) |    0.33    0.00    0.00    0.00   -0.67    0.00    0.00    0.00    0.33    0.00    0.00    0.00    0.00    0.00    0.00    0.00\n",
            "T(2, 2) |    0.00    0.00    0.00    0.00    0.00    0.00    0.00    0.00    0.00    0.00    0.00    0.00    0.00    0.00    0.00    0.00\n",
            "T(2, 3) |    0.00    0.00    0.33    0.00    0.00    0.00   -0.67    0.00    0.00    0.00    0.33    0.00    0.00    0.00    0.00    0.00\n",
            "T(2, 4) |    0.00    0.00    0.00    0.33    0.00    0.00    0.00   -0.67    0.00    0.00    0.00    0.33    0.00    0.00    0.00    0.00\n",
            "T(3, 1) |    0.33    0.00    0.00    0.00    0.33    0.00    0.00    0.00   -0.83    0.00    0.00    0.00    0.17    0.00    0.00    0.00\n",
            "T(3, 2) |    0.00    0.33    0.00    0.00    0.00    0.33    0.00    0.00    0.00   -0.83    0.00    0.00    0.00    0.17    0.00    0.00\n",
            "T(3, 3) |    0.00    0.00    0.00    0.00    0.00    0.00    0.00    0.00    0.00    0.00    0.00    0.00    0.00    0.00    0.00    0.00\n",
            "T(3, 4) |    0.00    0.00    0.00    0.33    0.00    0.00    0.00    0.33    0.00    0.00    0.00   -0.83    0.00    0.00    0.00    0.17\n",
            "T(4, 1) |    0.20    0.00    0.00    0.00    0.40    0.00    0.00    0.00    0.20    0.00    0.00    0.00   -0.80    0.00    0.00    0.00\n",
            "T(4, 2) |    0.00    0.20    0.00    0.00    0.00    0.40    0.00    0.00    0.00    0.20    0.00    0.00    0.00   -0.80    0.00    0.00\n",
            "T(4, 3) |    0.00    0.00    0.20    0.00    0.00    0.00    0.40    0.00    0.00    0.00    0.20    0.00    0.00    0.00   -0.80    0.00\n",
            "T(4, 4) |    0.00    0.00    0.00    0.00    0.00    0.00    0.00    0.00    0.00    0.00    0.00    0.00    0.00    0.00    0.00    0.00\n",
            "Final system of equations:\n",
            "[[-0.66666667  0.33333333  0.        ]\n",
            " [ 0.33333333 -0.83333333  0.16666667]\n",
            " [ 0.4         0.2        -0.8       ]]\n",
            "Solution vector: [3.07142857 3.14285714 3.57142857]\n",
            "[-1. -1. -1.]\n",
            "t_(2, 1) = 3.0714285714285707\n",
            "Stationary distribution:\n",
            "[0.29015544 0.31865285 0.24870466 0.14248705]\n",
            "Is the sum of the distribution 1?: False\n",
            "Is it the same as SciPy's and NumPy's? True True\n"
          ]
        }
      ],
      "source": [
        "P: np.array = np.array(\n",
        "    [[1/4, 1/4, 1/2],\n",
        "     [1/3, 1/3, 1/3],\n",
        "     [1/2, 1/3, 1/6]]\n",
        ")\n",
        "P: np.array = np.array(\n",
        "    [[1/4, 1/4, 1/4, 1/4],\n",
        "     [1/3, 1/3, 1/3, 0],\n",
        "     [1/3, 1/3, 1/6, 1/6],\n",
        "     [1/5, 2/5, 1/5, 1/5]]\n",
        ")\n",
        "n: int = P.shape[0]\n",
        "bool_map = [[0 for j in range(n)] for i in range(n)]\n",
        "T: np.array = generate_t_matrix(P)\n",
        "i: int = 1\n",
        "j: int = 0\n",
        "syst, map = get_necessary_tijs(i, j, P.shape[0], T, [], bool_map)\n",
        "syst_matrix = np.vstack(syst)\n",
        "\n",
        "indices: list[str] = generate_index_labels(\"T\", P.shape[0], P.shape[1])\n",
        "pretty_print(T, indices, indices)\n",
        "\n",
        "# print(syst_matrix)\n",
        "print(\"Final system of equations:\")\n",
        "chopped: np.array = chop_system(syst_matrix, n)\n",
        "print(chopped)\n",
        "\n",
        "solution: np.array = solve_system(chopped)\n",
        "print(\"Solution vector:\", solution)\n",
        "result = chopped @ solution\n",
        "print(result)\n",
        "print(f\"t_({i+1}, {j+1}) = {solution[0]}\")\n",
        "\n",
        "print(\"Stationary distribution:\")\n",
        "r_solutions = get_stationary_distr_rf3(P)\n",
        "print(r_solutions)\n",
        "print(\"Is the sum of the distribution 1?:\", r_solutions.sum() == 1.0)\n",
        "npy_solutions = get_distributions(stationary_candidates_scipy(P))[0]\n",
        "spy_solutions = get_distributions(stationary_candidates_scipy(P))[0]\n",
        "print(\"Is it the same as SciPy's and NumPy's?\",\n",
        "    np.allclose(r_solutions, npy_solutions, atol=1e-6),\n",
        "    np.allclose(r_solutions, spy_solutions, atol=1e-6))"
      ]
    },
    {
      "cell_type": "markdown",
      "id": "762c715f",
      "metadata": {
        "id": "762c715f"
      },
      "source": [
        "**Considerar el ejemplo en el que la distr es (1, 0, 0, 0, 0) como argumento a favor de los autovectores**"
      ]
    },
    {
      "cell_type": "markdown",
      "id": "3ac3bdef",
      "metadata": {
        "id": "3ac3bdef"
      },
      "source": [
        "## Análisis de complejidad temporal"
      ]
    },
    {
      "cell_type": "markdown",
      "id": "4f9b6a17",
      "metadata": {
        "id": "4f9b6a17"
      },
      "source": [
        "Cada función será llamada usando el wrapper `timed_exec`, que medirá el tiempo en que se demoró en ejecutar la función enviada como argumento."
      ]
    },
    {
      "cell_type": "code",
      "execution_count": 22,
      "id": "168ebc83",
      "metadata": {
        "id": "168ebc83"
      },
      "outputs": [],
      "source": [
        "import time\n",
        "\n",
        "def timed_run(func, *args, **kwargs):\n",
        "    start = time.perf_counter()\n",
        "    func(*args, **kwargs)\n",
        "    end = time.perf_counter()\n",
        "    elapsed = end - start\n",
        "    return elapsed"
      ]
    },
    {
      "cell_type": "markdown",
      "id": "88ffc5a5",
      "metadata": {
        "id": "88ffc5a5"
      },
      "source": [
        "Cada método se ejecutará con todas las posibles combinaciones de los [parámetros iniciales](#param) definidos al inicio del notebook, y su tiempo de ejecución se guardará en un DataFrame que se analizará a continuación."
      ]
    },
    {
      "cell_type": "code",
      "execution_count": 23,
      "id": "ffb71fc3",
      "metadata": {
        "id": "ffb71fc3"
      },
      "outputs": [],
      "source": [
        "import pandas as pd\n",
        "\n",
        "\n",
        "def get_results(matrices: list[np.array], n_values: list[int], p_values: list[float], e_values: list[float] = None, chain: int = 1) -> pd.DataFrame:\n",
        "    if chain == 1:\n",
        "        results: pd.DataFrame = pd.DataFrame(columns=[\"n\", \"p\", \"NumPy\", \"SciPy\", \"Recurrence1\", \"Recurrence2\", \"Recurrence3\"])\n",
        "        i: int = 0\n",
        "        for n in n_values:\n",
        "            for p in p_values:\n",
        "                # print(matrices[i])\n",
        "                elapsed_time_numpy: float = timed_run(stationary_candidates_numpy, matrices[i])\n",
        "                elapsed_time_scipy: float = timed_run(stationary_candidates_scipy, matrices[i])\n",
        "                try:\n",
        "                    elapsed_time_recurrence1: float = timed_run(get_stationary_distr_rf1, matrices[i])\n",
        "                    elapsed_time_recurrence2: float = timed_run(get_stationary_distr_rf2, matrices[i])\n",
        "                    elapsed_time_recurrence3: float = timed_run(get_stationary_distr_rf3, matrices[i])\n",
        "                except BaseException as e:\n",
        "                    print(e)\n",
        "                    elapsed_time_recurrence3 = np.nan\n",
        "                results.loc[len(results)] = {\"n\": n, \"p\": p, \"NumPy\": elapsed_time_numpy, \"SciPy\": elapsed_time_scipy, \"Recurrence1\": elapsed_time_recurrence1, \"Recurrence2\": elapsed_time_recurrence2, \"Recurrence3\": elapsed_time_recurrence3}\n",
        "                i += 1\n",
        "    elif chain == 2:\n",
        "        if e_values is None:\n",
        "            e_values = [n/100 for n in range(10)]\n",
        "        results: pd.DataFrame = pd.DataFrame(columns=[\"n\", \"p\", \"e\", \"NumPy\", \"SciPy\", \"Recurrence1\", \"Recurrence2\", \"Recurrence3\"])\n",
        "        i: int = 0\n",
        "        for n in n_values:\n",
        "            for p in p_values:\n",
        "                for e in e_values:\n",
        "                    # print(matrices[i])\n",
        "                    elapsed_time_numpy: float = timed_run(stationary_candidates_numpy, matrices[i])\n",
        "                    elapsed_time_scipy: float = timed_run(stationary_candidates_scipy, matrices[i])\n",
        "                    try:\n",
        "                        elapsed_time_recurrence1: float = timed_run(get_stationary_distr_rf1, matrices[i])\n",
        "                        elapsed_time_recurrence2: float = timed_run(get_stationary_distr_rf2, matrices[i])\n",
        "                        elapsed_time_recurrence3: float = timed_run(get_stationary_distr_rf3, matrices[i])\n",
        "                    except BaseException as error:\n",
        "                        print(error)\n",
        "                        elapsed_time_recurrence3 = np.nan\n",
        "                    results.loc[len(results)] = {\"n\": n, \"p\": p, \"e\": e, \"NumPy\": elapsed_time_numpy, \"SciPy\": elapsed_time_scipy, \"Recurrence1\": elapsed_time_recurrence1, \"Recurrence2\": elapsed_time_recurrence2, \"Recurrence3\": elapsed_time_recurrence3}\n",
        "                    i += 1\n",
        "\n",
        "    return results"
      ]
    },
    {
      "cell_type": "markdown",
      "id": "8ec96df8",
      "metadata": {
        "id": "8ec96df8"
      },
      "source": [
        "### Gráficas"
      ]
    },
    {
      "cell_type": "markdown",
      "id": "762c436d",
      "metadata": {
        "id": "762c436d"
      },
      "source": [
        "A continuación se presenta el código que se utilizará para graficar los tiempos de ejecución de los métodos antes presentados usando diversas cadenas."
      ]
    },
    {
      "cell_type": "code",
      "execution_count": 24,
      "id": "07f6b12a",
      "metadata": {
        "id": "07f6b12a"
      },
      "outputs": [],
      "source": [
        "import pandas as pd\n",
        "import matplotlib.pyplot as plt\n",
        "import ipywidgets as widgets\n",
        "from IPython.display import display, clear_output\n",
        "\n",
        "def plot_time_execution(times_df: pd.DataFrame, chain: int = 1, x_axis: str = 'n', n_value: int = None, p_value: float = None, e_value: float = None) -> None:\n",
        "    if chain == 1:\n",
        "        if x_axis == \"n\":\n",
        "            fig, ax = plt.subplots(figsize=(18, 6))\n",
        "            try:\n",
        "                times_df_copy = times_df.sort_values(by='n', ascending=True)\n",
        "                if p_value is not None:\n",
        "                    times_df_copy = times_df_copy[times_df_copy['p'] == p_value]\n",
        "                else:\n",
        "                    print(f\"Invalid parameter: p - {p_value}\")\n",
        "                ax.plot(times_df_copy['n'], times_df_copy['NumPy'], lw=1.6, color='green', label='Autovectores (NumPy)')\n",
        "                ax.plot(times_df_copy['n'], times_df_copy['SciPy'], lw=1.6, color='red', label='Autovectores (SciPy)')\n",
        "                ax.plot(times_df_copy['n'], times_df_copy['Recurrence1'], lw=1.6, color='#003366', label='Fórmula de recurrencia 1')  # dark blue\n",
        "                ax.plot(times_df_copy['n'], times_df_copy['Recurrence2'], lw=1.6, color='#66b3ff', label='Fórmula de recurrencia 2')  # normal blue\n",
        "                ax.plot(times_df_copy['n'], times_df_copy['Recurrence3'], lw=1.6, color='brown', label='Fórmula de recurrencia 3')  # light blue\n",
        "            except KeyError as error:\n",
        "                print(\"Missing at least one column:\", error)\n",
        "\n",
        "            ax.set_title(\"Tiempo de ejecución de cada algoritmo\")\n",
        "            ax.set_ylabel(\"Tiempo\")\n",
        "            ax.set_xlabel(\"n (número de estados)\")\n",
        "            ax.grid(True, alpha=0.2)\n",
        "            ax.legend(loc=\"upper left\")\n",
        "            plt.show()\n",
        "\n",
        "        elif x_axis == \"p\":\n",
        "            fig, ax = plt.subplots(figsize=(18, 6))\n",
        "            try:\n",
        "                times_df_copy = times_df.sort_values(by='p', ascending=True)\n",
        "                if n_value is not None and e_value is not None:\n",
        "                    times_df_copy = times_df_copy[times_df_copy['n'] == n_value]\n",
        "                else:\n",
        "                    print(f\"Invalid parameter: n - {n_value}\")\n",
        "                ax.plot(times_df_copy['p'], times_df_copy['NumPy'], color='green', label='Autovectores (NumPy)')\n",
        "                ax.plot(times_df_copy['p'], times_df_copy['SciPy'], color='red', label='Autovectores (SciPy)')\n",
        "                ax.plot(times_df_copy['p'], times_df_copy['Recurrence1'], color='#003366', label='Fórmula de recurrencia 1')\n",
        "                ax.plot(times_df_copy['p'], times_df_copy['Recurrence2'], color='#66b3ff', label='Fórmula de recurrencia 2')\n",
        "                ax.plot(times_df_copy['p'], times_df_copy['Recurrence3'], color='brown', label='Fórmula de recurrencia 3')\n",
        "            except KeyError as error:\n",
        "                print(\"Missing at least one column:\", error)\n",
        "\n",
        "            ax.set_title(\"Tiempo de ejecución de cada algoritmo\")\n",
        "            ax.set_ylabel(\"Tiempo\")\n",
        "            ax.set_xlabel(\"p (probabilidad de referencia)\")\n",
        "            ax.grid(True, alpha=0.2)\n",
        "            ax.legend(loc=\"upper left\")\n",
        "            plt.show()\n",
        "\n",
        "\n",
        "    elif chain == 2:\n",
        "        if x_axis == \"n\":\n",
        "            fig, ax = plt.subplots(figsize=(18, 6))\n",
        "            try:\n",
        "                times_df_copy = times_df.sort_values(by='n', ascending=True)\n",
        "                if p_value is not None and e_value is not None:\n",
        "                    times_df_copy = times_df_copy[(times_df_copy['p'] == p_value) & (times_df_copy['e'] == e_value)]\n",
        "                else:\n",
        "                    print(f\"Invalid parameters: p - {p_value}, e - {e_value}\")\n",
        "                ax.plot(times_df_copy['n'], times_df_copy['NumPy'], lw=1.6, color='green', label='Autovectores (NumPy)')\n",
        "                ax.plot(times_df_copy['n'], times_df_copy['SciPy'], lw=1.6, color='red', label='Autovectores (SciPy)')\n",
        "                ax.plot(times_df_copy['n'], times_df_copy['Recurrence1'], lw=1.6, color='#003366', label='Fórmula de recurrencia 1')  # dark blue\n",
        "                ax.plot(times_df_copy['n'], times_df_copy['Recurrence2'], lw=1.6, color='#66b3ff', label='Fórmula de recurrencia 2')  # normal blue\n",
        "                ax.plot(times_df_copy['n'], times_df_copy['Recurrence3'], lw=1.6, color='brown', label='Fórmula de recurrencia 3')  # light blue\n",
        "            except KeyError as e:\n",
        "                print(\"Missing at least one column:\", e)\n",
        "\n",
        "            ax.set_title(\"Tiempo de ejecución de cada algoritmo\")\n",
        "            ax.set_ylabel(\"Tiempo\")\n",
        "            ax.set_xlabel(\"n (número de estados)\")\n",
        "            ax.grid(True, alpha=0.2)\n",
        "            ax.legend(loc=\"upper left\")\n",
        "            plt.show()\n",
        "\n",
        "        elif x_axis == \"p\":\n",
        "            fig, ax = plt.subplots(figsize=(18, 6))\n",
        "            try:\n",
        "                times_df_copy = times_df.sort_values(by='p', ascending=True)\n",
        "                if n_value is not None and e_value is not None:\n",
        "                    times_df_copy = times_df_copy[(times_df_copy['n'] == n_value) & (times_df_copy['e'] == e_value)]\n",
        "                else:\n",
        "                    print(f\"Invalid parameters: n - {n_value}, e - {e_value}\")\n",
        "                ax.plot(times_df_copy['p'], times_df_copy['NumPy'], color='green', label='Autovectores (NumPy)')\n",
        "                ax.plot(times_df_copy['p'], times_df_copy['SciPy'], color='red', label='Autovectores (SciPy)')\n",
        "                ax.plot(times_df_copy['p'], times_df_copy['Recurrence1'], color='#003366', label='Fórmula de recurrencia 1')\n",
        "                ax.plot(times_df_copy['p'], times_df_copy['Recurrence2'], color='#66b3ff', label='Fórmula de recurrencia 2')\n",
        "                ax.plot(times_df_copy['p'], times_df_copy['Recurrence3'], color='brown', label='Fórmula de recurrencia 3')\n",
        "            except KeyError as e:\n",
        "                print(\"Missing at least one column:\", e)\n",
        "\n",
        "            ax.set_title(\"Tiempo de ejecución de cada algoritmo\")\n",
        "            ax.set_ylabel(\"Tiempo\")\n",
        "            ax.set_xlabel(\"p (probabilidad de referencia)\")\n",
        "            ax.grid(True, alpha=0.2)\n",
        "            ax.legend(loc=\"upper left\")\n",
        "            plt.show()\n",
        "\n",
        "        elif x_axis == \"e\":\n",
        "            fig, ax = plt.subplots(figsize=(18, 6))\n",
        "            try:\n",
        "                times_df_copy = times_df.sort_values(by='e', ascending=True)\n",
        "                if n_value is not None and p_value is not None:\n",
        "                    times_df_copy = times_df_copy[(times_df_copy['p'] == p_value) & (times_df_copy['n'] == n_value)]\n",
        "                else:\n",
        "                    print(f\"Invalid parameters: n - {n_value}, p - {p_value}\")\n",
        "                ax.plot(times_df_copy['e'], times_df_copy['NumPy'], lw=1.6, color='green', label='Autovectores (NumPy)')\n",
        "                ax.plot(times_df_copy['e'], times_df_copy['SciPy'], lw=1.6, color='red', label='Autovectores (SciPy)')\n",
        "                ax.plot(times_df_copy['e'], times_df_copy['Recurrence1'], lw=1.6, color='#003366', label='Fórmula de recurrencia 1')  # dark blue\n",
        "                ax.plot(times_df_copy['e'], times_df_copy['Recurrence2'], lw=1.6, color='#66b3ff', label='Fórmula de recurrencia 2')  # normal blue\n",
        "                ax.plot(times_df_copy['e'], times_df_copy['Recurrence3'], lw=1.6, color='brown', label='Fórmula de recurrencia 3')  # light blue\n",
        "            except KeyError as e:\n",
        "                print(\"Missing at least one column:\", e)\n",
        "\n",
        "            ax.set_title(\"Tiempo de ejecución de cada algoritmo\")\n",
        "            ax.set_ylabel(\"Tiempo\")\n",
        "            ax.set_xlabel(\"p (probabilidad de referencia)\")\n",
        "            ax.grid(True, alpha=0.2)\n",
        "            ax.legend(loc=\"upper left\")\n",
        "            plt.show()\n",
        "\n",
        "\n",
        "def make_ui(times_df: pd.DataFrame, n_values: list[int], p_values: list[float], e_values: list[float] = None, chain: int = 1) -> None:\n",
        "    dropdown = widgets.Dropdown(\n",
        "        options=[('n (número de estados)', 'n'), ('p (probabilidad de referencia)', 'p'), ('e (epsilon)', 'e')],\n",
        "        value='p',\n",
        "        description='Eje X:',\n",
        "        style={'description_width': 'initial'}\n",
        "    )\n",
        "\n",
        "    n_values_dropdown = widgets.Dropdown(\n",
        "        options=[(str(n), n) for n in n_values],\n",
        "        value=n_values[0],\n",
        "        description='Valor de n:',\n",
        "        style={'description_width': 'initial'}\n",
        "    )\n",
        "\n",
        "    p_values_dropdown = widgets.Dropdown(\n",
        "        options=[(str(p), p) for p in p_values],\n",
        "        value=p_values[0],\n",
        "        description='Valor de p:',\n",
        "        style={'description_width': 'initial'}\n",
        "    )\n",
        "\n",
        "    if chain == 2 or chain == 3:\n",
        "        e_options = [(str(e), e) for e in e_values]\n",
        "    elif chain == 1:\n",
        "        e_options = [0]\n",
        "    e_values_dropdown = widgets.Dropdown(\n",
        "        options=e_options,\n",
        "        value=e_values[0],\n",
        "        description='Valor de e:',\n",
        "        style={'description_width': 'initial'}\n",
        "    )\n",
        "\n",
        "    output = widgets.Output()\n",
        "\n",
        "    def update_plot(*args):\n",
        "        with output:\n",
        "            clear_output(wait=True)\n",
        "            if chain == 2 or chain == 3:\n",
        "                if dropdown.value == 'n':\n",
        "                    plot_time_execution(times_df, x_axis='n', p_value=p_values_dropdown.value, e_value=e_values_dropdown.value, chain=chain)\n",
        "                elif dropdown.value == 'p':\n",
        "                    plot_time_execution(times_df, x_axis='p', n_value=n_values_dropdown.value, e_value=e_values_dropdown.value, chain=chain)\n",
        "                elif dropdown.value == 'e':\n",
        "                    plot_time_execution(times_df, x_axis='e', n_value=n_values_dropdown.value, p_value=p_values_dropdown.value, chain=chain)\n",
        "                else:\n",
        "                    print(\"Invalid option selected\")\n",
        "            elif chain == 1:\n",
        "                if dropdown.value == 'n':\n",
        "                    plot_time_execution(times_df, x_axis='n', p_value=p_values_dropdown.value, e_value=None, chain=chain)\n",
        "                elif dropdown.value == 'p':\n",
        "                    plot_time_execution(times_df, x_axis='p', n_value=n_values_dropdown.value, e_value=None, chain=chain)\n",
        "\n",
        "\n",
        "    def on_dropdown_change(change):\n",
        "        if change['type'] == 'change' and change['name'] == 'value':\n",
        "            # Show or hide p_values_dropdown based on dropdown value\n",
        "            if dropdown.value == 'n':\n",
        "                p_values_dropdown.layout.display = 'block'\n",
        "                e_values_dropdown.layout.display = 'block'\n",
        "                n_values_dropdown.layout.display = 'none'\n",
        "            elif dropdown.value == 'p':\n",
        "                p_values_dropdown.layout.display = 'none'\n",
        "                n_values_dropdown.layout.display = 'block'\n",
        "                e_values_dropdown.layout.display = 'block'\n",
        "            elif dropdown.value == 'e':\n",
        "                p_values_dropdown.layout.display = 'block'\n",
        "                e_values_dropdown.layout.display = 'none'\n",
        "                n_values_dropdown.layout.display = 'block'\n",
        "            update_plot()\n",
        "\n",
        "    dropdown.observe(on_dropdown_change)\n",
        "    # Hide p_values_dropdown by default\n",
        "    p_values_dropdown.observe(on_dropdown_change)\n",
        "    e_values_dropdown.observe(on_dropdown_change)\n",
        "    n_values_dropdown.observe(on_dropdown_change)\n",
        "    e_values_dropdown.layout.display = 'block'\n",
        "    n_values_dropdown.layout.display = 'block'\n",
        "    p_values_dropdown.layout.display = 'none'\n",
        "\n",
        "    display(dropdown, n_values_dropdown, p_values_dropdown, e_values_dropdown, output)\n",
        "    # Initial plot\n",
        "    update_plot()"
      ]
    },
    {
      "cell_type": "code",
      "execution_count": 25,
      "id": "ceb9e872",
      "metadata": {
        "id": "ceb9e872"
      },
      "outputs": [],
      "source": [
        "def plot(times_df: pd.DataFrame, chain: int = 1, value: tuple = None) -> None:\n",
        "    x_label: str = \"\"\n",
        "    if chain == 1:\n",
        "        fig, ax = plt.subplots(figsize=(18, 6))\n",
        "        try:\n",
        "            column: str = None\n",
        "            times_df_copy = times_df.sort_values(by='n', ascending=True)\n",
        "            if value == \"p - max\":\n",
        "                # Group by p and take the maximum time for each value of p\n",
        "                times_df_copy = times_df_copy.groupby(\"p\", as_index=False).agg({\n",
        "                    'NumPy': 'max',\n",
        "                    'SciPy': 'max',\n",
        "                    'Recurrence1': 'max',\n",
        "                    'Recurrence2': 'max',\n",
        "                    'Recurrence3': 'max'\n",
        "                })\n",
        "                column = 'p'\n",
        "                x_label = \"p (probabilidad de referencia)\"\n",
        "            elif value == \"p - min\":\n",
        "                # Group by p and take the minimum time for each value of p\n",
        "                times_df_copy = times_df_copy.groupby(\"p\", as_index=False).agg({\n",
        "                    'NumPy': 'min',\n",
        "                    'SciPy': 'min',\n",
        "                    'Recurrence1': 'min',\n",
        "                    'Recurrence2': 'min',\n",
        "                    'Recurrence3': 'min'\n",
        "                })\n",
        "                column = 'p'\n",
        "                x_label = \"p (probabilidad de referencia)\"\n",
        "            elif value == \"p - avg\":\n",
        "                # Group by p and take the mean time for each value of p\n",
        "                times_df_copy = times_df_copy.groupby(\"p\", as_index=False).agg({\n",
        "                    'NumPy': 'mean',\n",
        "                    'SciPy': 'mean',\n",
        "                    'Recurrence1': 'mean',\n",
        "                    'Recurrence2': 'mean',\n",
        "                    'Recurrence3': 'mean'\n",
        "                })\n",
        "                column = 'p'\n",
        "                x_label = \"p (probabilidad de referencia)\"\n",
        "\n",
        "            if value == \"n - max\":\n",
        "                # Group by n and take the maximum time for each value of n\n",
        "                times_df_copy = times_df_copy.groupby(\"n\", as_index=False).agg({\n",
        "                    'NumPy': 'max',\n",
        "                    'SciPy': 'max',\n",
        "                    'Recurrence1': 'max',\n",
        "                    'Recurrence2': 'max',\n",
        "                    'Recurrence3': 'max'\n",
        "                })\n",
        "                column = 'n'\n",
        "                x_label = \"n (número de estados)\"\n",
        "            elif value == \"n - min\":\n",
        "                # Group by n and take the minimum time for each value of n\n",
        "                times_df_copy = times_df_copy.groupby(\"n\", as_index=False).agg({\n",
        "                    'NumPy': 'min',\n",
        "                    'SciPy': 'min',\n",
        "                    'Recurrence1': 'min',\n",
        "                    'Recurrence2': 'min',\n",
        "                    'Recurrence3': 'min'\n",
        "                })\n",
        "                column = 'n'\n",
        "                x_label = \"n (número de estados)\"\n",
        "            elif value == \"n - avg\":\n",
        "                # Group by n and take the mean time for each value of n\n",
        "                times_df_copy = times_df_copy.groupby(\"n\", as_index=False).agg({\n",
        "                    'NumPy': 'mean',\n",
        "                    'SciPy': 'mean',\n",
        "                    'Recurrence1': 'mean',\n",
        "                    'Recurrence2': 'mean',\n",
        "                    'Recurrence3': 'mean'\n",
        "                })\n",
        "                column = 'n'\n",
        "                x_label = \"n (número de estados)\"\n",
        "\n",
        "            ax.plot(times_df_copy[column], times_df_copy['NumPy'], lw=1.6, color='green', label='Autovectores (NumPy)')\n",
        "            ax.plot(times_df_copy[column], times_df_copy['SciPy'], lw=1.6, color='red', label='Autovectores (SciPy)')\n",
        "            ax.plot(times_df_copy[column], times_df_copy['Recurrence1'], lw=1.6, color='#003366', label='Fórmula de recurrencia 1')  # dark blue\n",
        "            ax.plot(times_df_copy[column], times_df_copy['Recurrence2'], lw=1.6, color='#66b3ff', label='Fórmula de recurrencia 2')  # normal blue\n",
        "            ax.plot(times_df_copy[column], times_df_copy['Recurrence3'], lw=1.6, color='brown', label='Fórmula de recurrencia 3')  # light blue\n",
        "        except KeyError as e:\n",
        "            print(\"Missing at least one column:\", e)\n",
        "\n",
        "        ax.set_title(\"Tiempo de ejecución de cada algoritmo\")\n",
        "        ax.set_ylabel(\"Tiempo\")\n",
        "        ax.set_xlabel(x_label)\n",
        "        ax.grid(True, alpha=0.2)\n",
        "        ax.legend(loc=\"upper left\")\n",
        "        plt.show()\n",
        "\n",
        "    elif chain == 2:\n",
        "        fig, ax = plt.subplots(figsize=(18, 6))\n",
        "        try:\n",
        "            column: str = None\n",
        "            times_df_copy = times_df.sort_values(by='n', ascending=True)\n",
        "            if value == \"p - max\":\n",
        "                # Group by p and take the maximum time for each value of p\n",
        "                times_df_copy = times_df_copy.groupby(\"p\", as_index=False).agg({\n",
        "                    'NumPy': 'max',\n",
        "                    'SciPy': 'max',\n",
        "                    'Recurrence1': 'max',\n",
        "                    'Recurrence2': 'max',\n",
        "                    'Recurrence3': 'max'\n",
        "                })\n",
        "                column = 'p'\n",
        "                x_label = \"p (probabilidad de referencia)\"\n",
        "            elif value == \"p - min\":\n",
        "                # Group by p and take the minimum time for each value of p\n",
        "                times_df_copy = times_df_copy.groupby(\"p\", as_index=False).agg({\n",
        "                    'NumPy': 'min',\n",
        "                    'SciPy': 'min',\n",
        "                    'Recurrence1': 'min',\n",
        "                    'Recurrence2': 'min',\n",
        "                    'Recurrence3': 'min'\n",
        "                })\n",
        "                column = 'p'\n",
        "                x_label = \"p (probabilidad de referencia)\"\n",
        "            elif value == \"p - avg\":\n",
        "                # Group by p and take the mean time for each value of p\n",
        "                times_df_copy = times_df_copy.groupby(\"p\", as_index=False).agg({\n",
        "                    'NumPy': 'mean',\n",
        "                    'SciPy': 'mean',\n",
        "                    'Recurrence1': 'mean',\n",
        "                    'Recurrence2': 'mean',\n",
        "                    'Recurrence3': 'mean'\n",
        "                })\n",
        "                column = 'p'\n",
        "                x_label = \"p (probabilidad de referencia)\"\n",
        "\n",
        "            if value == \"e - max\":\n",
        "                # Group by e and take the maximum time for each value of e\n",
        "                times_df_copy = times_df_copy.groupby(\"e\", as_index=False).agg({\n",
        "                    'NumPy': 'max',\n",
        "                    'SciPy': 'max',\n",
        "                    'Recurrence1': 'max',\n",
        "                    'Recurrence2': 'max',\n",
        "                    'Recurrence3': 'max'\n",
        "                })\n",
        "                column = 'e'\n",
        "                x_label = \"e (epsilon)\"\n",
        "            elif value == \"e - min\":\n",
        "                # Group by e and take the minimum time for each value of e\n",
        "                times_df_copy = times_df_copy.groupby(\"e\", as_index=False).agg({\n",
        "                    'NumPy': 'min',\n",
        "                    'SciPy': 'min',\n",
        "                    'Recurrence1': 'min',\n",
        "                    'Recurrence2': 'min',\n",
        "                    'Recurrence3': 'min'\n",
        "                })\n",
        "                column = 'e'\n",
        "                x_label = \"e (epsilon)\"\n",
        "            elif value == \"e - avg\":\n",
        "                # Group by e and take the mean time for each value of e\n",
        "                times_df_copy = times_df_copy.groupby(\"e\", as_index=False).agg({\n",
        "                    'NumPy': 'mean',\n",
        "                    'SciPy': 'mean',\n",
        "                    'Recurrence1': 'mean',\n",
        "                    'Recurrence2': 'mean',\n",
        "                    'Recurrence3': 'mean'\n",
        "                })\n",
        "                column = 'e'\n",
        "                x_label = \"e (epsilon)\"\n",
        "            if value == \"n - max\":\n",
        "                # Group by n and take the maximum time for each value of n\n",
        "                times_df_copy = times_df_copy.groupby(\"n\", as_index=False).agg({\n",
        "                    'NumPy': 'max',\n",
        "                    'SciPy': 'max',\n",
        "                    'Recurrence1': 'max',\n",
        "                    'Recurrence2': 'max',\n",
        "                    'Recurrence3': 'max'\n",
        "                })\n",
        "                column = 'n'\n",
        "                x_label = \"n (número de estados)\"\n",
        "            elif value == \"n - min\":\n",
        "                # Group by n and take the minimum time for each value of n\n",
        "                times_df_copy = times_df_copy.groupby(\"n\", as_index=False).agg({\n",
        "                    'NumPy': 'min',\n",
        "                    'SciPy': 'min',\n",
        "                    'Recurrence1': 'min',\n",
        "                    'Recurrence2': 'min',\n",
        "                    'Recurrence3': 'min'\n",
        "                })\n",
        "                column = 'n'\n",
        "                x_label = \"n (número de estados)\"\n",
        "            elif value == \"n - avg\":\n",
        "                # Group by n and take the mean time for each value of n\n",
        "                times_df_copy = times_df_copy.groupby(\"n\", as_index=False).agg({\n",
        "                    'NumPy': 'mean',\n",
        "                    'SciPy': 'mean',\n",
        "                    'Recurrence1': 'mean',\n",
        "                    'Recurrence2': 'mean',\n",
        "                    'Recurrence3': 'mean'\n",
        "                })\n",
        "                column = 'n'\n",
        "                x_label = \"n (número de estados)\"\n",
        "\n",
        "            ax.plot(times_df_copy[column], times_df_copy['NumPy'], lw=1.6, color='green', label='Autovectores (NumPy)')\n",
        "            ax.plot(times_df_copy[column], times_df_copy['SciPy'], lw=1.6, color='red', label='Autovectores (SciPy)')\n",
        "            ax.plot(times_df_copy[column], times_df_copy['Recurrence1'], lw=1.6, color='#003366', label='Fórmula de recurrencia 1')  # dark blue\n",
        "            ax.plot(times_df_copy[column], times_df_copy['Recurrence2'], lw=1.6, color='#66b3ff', label='Fórmula de recurrencia 2')  # normal blue\n",
        "            ax.plot(times_df_copy[column], times_df_copy['Recurrence3'], lw=1.6, color='brown', label='Fórmula de recurrencia 3')  # light blue\n",
        "        except KeyError as e:\n",
        "            print(\"Missing at least one column:\", e)\n",
        "\n",
        "        ax.set_title(\"Tiempo de ejecución de cada algoritmo\")\n",
        "        ax.set_ylabel(\"Tiempo\")\n",
        "        ax.set_xlabel(x_label)\n",
        "        ax.grid(True, alpha=0.2)\n",
        "        ax.legend(loc=\"upper left\")\n",
        "        plt.show()\n",
        "\n",
        "def make_mma_ui(times_df: pd.DataFrame, n_values: list[int], p_values: list[float], e_values: list[float] = None, chain: int = 1) -> None:\n",
        "    value_options = [\n",
        "        (\"n - min\", \"n - min\"), (\"n - max\", \"n - max\"), (\"n - avg\", \"n - avg\"),\n",
        "        (\"p - min\", \"p - min\"), (\"p - max\", \"p - max\"), (\"p - avg\", \"p - avg\"),\n",
        "    ]\n",
        "    if chain == 2 or chain == 3:\n",
        "        value_options.extend([(\"e - min\", \"e - min\"), (\"e - max\", \"e - max\"), (\"e - avg\", \"e - avg\")])\n",
        "    dropdown = widgets.Dropdown(\n",
        "        options=value_options,\n",
        "        value=value_options[0][1],\n",
        "        description='n/p/e y valor a seleccionar:',\n",
        "        style={'description_width': 'initial'}\n",
        "    )\n",
        "\n",
        "    output = widgets.Output()\n",
        "\n",
        "    def update_plot(*args):\n",
        "        with output:\n",
        "            clear_output(wait=True)\n",
        "            plot(times_df, value=dropdown.value, chain=chain)\n",
        "\n",
        "    def on_dropdown_change(change):\n",
        "        if change['type'] == 'change' and change['name'] == 'value':\n",
        "            # Show or hide p_values_dropdown based on dropdown value\n",
        "            update_plot()\n",
        "\n",
        "    dropdown.observe(on_dropdown_change)\n",
        "\n",
        "    display(dropdown, output)\n",
        "    # Initial plot\n",
        "    update_plot()"
      ]
    },
    {
      "cell_type": "markdown",
      "id": "84c28635",
      "metadata": {
        "id": "84c28635"
      },
      "source": [
        "### Cadena 1"
      ]
    },
    {
      "cell_type": "code",
      "execution_count": 26,
      "id": "868b4cac",
      "metadata": {
        "colab": {
          "base_uri": "https://localhost:8080/",
          "height": 1000,
          "referenced_widgets": [
            "5afc5e1bccf84829b6d1cebe41732c8d",
            "af47abbc41774e08b3203bbeee54fdf3",
            "2c5b4641fc21460cb3eec0f397494ff6",
            "0a1d7a462daf4324a7f2044ef34a4754",
            "f4cba5f242e64509ad2dea68030e58ad"
          ]
        },
        "id": "868b4cac",
        "outputId": "a69aa10b-a53c-41da-90de-aaf27175511b"
      },
      "outputs": [
        {
          "output_type": "stream",
          "name": "stdout",
          "text": [
            "Singular matrix\n",
            "Singular matrix\n",
            "Singular matrix\n",
            "Singular matrix\n",
            "Singular matrix\n",
            "Singular matrix\n",
            "Singular matrix\n",
            "Singular matrix\n",
            "Singular matrix\n",
            "Singular matrix\n",
            "Singular matrix\n",
            "Singular matrix\n",
            "Singular matrix\n",
            "Singular matrix\n",
            "Singular matrix\n",
            "Singular matrix\n",
            "Singular matrix\n",
            "Singular matrix\n",
            "Singular matrix\n",
            "Singular matrix\n",
            "Singular matrix\n",
            "Singular matrix\n",
            "Singular matrix\n",
            "Singular matrix\n",
            "Singular matrix\n",
            "Singular matrix\n",
            "Singular matrix\n",
            "Singular matrix\n",
            "Singular matrix\n",
            "Singular matrix\n",
            "Singular matrix\n",
            "Singular matrix\n",
            "Singular matrix\n",
            "Singular matrix\n",
            "Singular matrix\n",
            "Singular matrix\n",
            "Singular matrix\n",
            "Singular matrix\n",
            "Singular matrix\n",
            "Singular matrix\n",
            "Singular matrix\n",
            "Singular matrix\n",
            "Singular matrix\n",
            "Singular matrix\n",
            "Singular matrix\n",
            "Singular matrix\n",
            "Singular matrix\n",
            "Singular matrix\n",
            "Singular matrix\n",
            "Singular matrix\n",
            "Singular matrix\n",
            "Singular matrix\n",
            "Singular matrix\n",
            "Singular matrix\n",
            "Singular matrix\n",
            "Singular matrix\n",
            "Singular matrix\n",
            "Singular matrix\n",
            "Singular matrix\n",
            "Singular matrix\n",
            "Singular matrix\n",
            "Singular matrix\n",
            "Singular matrix\n",
            "Singular matrix\n",
            "Singular matrix\n",
            "Singular matrix\n",
            "Singular matrix\n",
            "Singular matrix\n",
            "Singular matrix\n",
            "Singular matrix\n",
            "Singular matrix\n",
            "Singular matrix\n",
            "Singular matrix\n",
            "Singular matrix\n",
            "Singular matrix\n",
            "Singular matrix\n",
            "Singular matrix\n",
            "Singular matrix\n",
            "Singular matrix\n",
            "Singular matrix\n",
            "Singular matrix\n",
            "Singular matrix\n",
            "Singular matrix\n",
            "Singular matrix\n",
            "Singular matrix\n",
            "Singular matrix\n",
            "Singular matrix\n",
            "Singular matrix\n",
            "Singular matrix\n",
            "Singular matrix\n",
            "Singular matrix\n",
            "Singular matrix\n",
            "Singular matrix\n",
            "Singular matrix\n",
            "Singular matrix\n",
            "Singular matrix\n",
            "Singular matrix\n",
            "Singular matrix\n",
            "Singular matrix\n",
            "Singular matrix\n",
            "Singular matrix\n",
            "Singular matrix\n",
            "Singular matrix\n",
            "Singular matrix\n",
            "Singular matrix\n",
            "Singular matrix\n",
            "Singular matrix\n",
            "Singular matrix\n",
            "Singular matrix\n",
            "Singular matrix\n"
          ]
        },
        {
          "output_type": "display_data",
          "data": {
            "text/plain": [
              "Dropdown(description='n/p/e y valor a seleccionar:', options=(('n - min', 'n - min'), ('n - max', 'n - max'), …"
            ],
            "application/vnd.jupyter.widget-view+json": {
              "version_major": 2,
              "version_minor": 0,
              "model_id": "5afc5e1bccf84829b6d1cebe41732c8d"
            }
          },
          "metadata": {}
        },
        {
          "output_type": "display_data",
          "data": {
            "text/plain": [
              "Output()"
            ],
            "application/vnd.jupyter.widget-view+json": {
              "version_major": 2,
              "version_minor": 0,
              "model_id": "0a1d7a462daf4324a7f2044ef34a4754"
            }
          },
          "metadata": {}
        },
        {
          "output_type": "stream",
          "name": "stdout",
          "text": [
            "[[0.975 0.025]\n",
            " [0.975 0.025]]\n"
          ]
        }
      ],
      "source": [
        "p_values: list[float] = [p/40 for p in range(1, 40)]\n",
        "n_values: list[int] = [n for n in range (2, 40)]\n",
        "matrices = build_p_matrices(chain=1, p_values=p_values, n_values=n_values)\n",
        "results = get_results(matrices=matrices, n_values=n_values, p_values=p_values, chain=1)\n",
        "make_mma_ui(results, n_values, p_values, chain=1)\n",
        "print(matrices[0])\n"
      ]
    },
    {
      "cell_type": "code",
      "execution_count": 27,
      "id": "0a76efde",
      "metadata": {
        "colab": {
          "base_uri": "https://localhost:8080/",
          "height": 657,
          "referenced_widgets": [
            "594221b7f8a24a8dbeb74d5693be7169",
            "a7a6439e495f4b5fb4da3f20f183e1cb",
            "f0016fcc28a949d2b0a48b9ed1b371f3",
            "12dbcf00f4744db7b8268a317f30a919",
            "5bdcfcc85e0c455189a838024e0e272b",
            "df14384f558c4e8d807666c8a3a88f8a",
            "218c869e45474001aa2fc59035fabfb9",
            "36fd08e928d041e098a728ebf7687f00",
            "e69a958a5df7450d9ca8693af28846a0",
            "acabeccc4f4d4465a4fcef5198d27872",
            "6ede815f7d0f4c29b088c2182781750f",
            "28d47765fa5b472385ded3a7cba1d32b",
            "22f97134202841bea0df870be5127a49",
            "c2c5bdcab06f409bbe34fe35e94329e0"
          ]
        },
        "id": "0a76efde",
        "outputId": "8a99def9-31cc-4ef3-d46c-504cd6adb467"
      },
      "outputs": [
        {
          "output_type": "display_data",
          "data": {
            "text/plain": [
              "Dropdown(description='Eje X:', index=1, options=(('n (número de estados)', 'n'), ('p (probabilidad de referenc…"
            ],
            "application/vnd.jupyter.widget-view+json": {
              "version_major": 2,
              "version_minor": 0,
              "model_id": "594221b7f8a24a8dbeb74d5693be7169"
            }
          },
          "metadata": {}
        },
        {
          "output_type": "display_data",
          "data": {
            "text/plain": [
              "Dropdown(description='Valor de n:', layout=Layout(display='block'), options=(('2', 2), ('3', 3), ('4', 4), ('5…"
            ],
            "application/vnd.jupyter.widget-view+json": {
              "version_major": 2,
              "version_minor": 0,
              "model_id": "12dbcf00f4744db7b8268a317f30a919"
            }
          },
          "metadata": {}
        },
        {
          "output_type": "display_data",
          "data": {
            "text/plain": [
              "Dropdown(description='Valor de p:', layout=Layout(display='none'), options=(('0.025', 0.025), ('0.05', 0.05), …"
            ],
            "application/vnd.jupyter.widget-view+json": {
              "version_major": 2,
              "version_minor": 0,
              "model_id": "218c869e45474001aa2fc59035fabfb9"
            }
          },
          "metadata": {}
        },
        {
          "output_type": "display_data",
          "data": {
            "text/plain": [
              "Dropdown(description='Valor de e:', layout=Layout(display='block'), options=(0,), style=DescriptionStyle(descr…"
            ],
            "application/vnd.jupyter.widget-view+json": {
              "version_major": 2,
              "version_minor": 0,
              "model_id": "acabeccc4f4d4465a4fcef5198d27872"
            }
          },
          "metadata": {}
        },
        {
          "output_type": "display_data",
          "data": {
            "text/plain": [
              "Output()"
            ],
            "application/vnd.jupyter.widget-view+json": {
              "version_major": 2,
              "version_minor": 0,
              "model_id": "22f97134202841bea0df870be5127a49"
            }
          },
          "metadata": {}
        }
      ],
      "source": [
        "make_ui(results, n_values, p_values, [0], chain=1)"
      ]
    },
    {
      "cell_type": "markdown",
      "id": "3c1c8f08",
      "metadata": {
        "id": "3c1c8f08"
      },
      "source": [
        "#### 1. ¿Cuál de los dos métodos es más eficiente?\n",
        "\n"
      ]
    },
    {
      "cell_type": "markdown",
      "id": "83eadf2d",
      "metadata": {
        "id": "83eadf2d"
      },
      "source": [
        "Analizando las cadenas con $n$ variando desde $2$ hasta $39$ y $p$ variando desde $\\frac{1}{40}$ hasta $\\frac{39}{40}$, se observa en la gráfica a continuación que el promedio de ejecución para cada $n$ (variando $p$), crece considerablemente más rápido en el método de las fórmulas de recurrencia que en el del cálculo de autovectores.\n",
        "\n",
        "![chain1_n_avg](assets/chain1_n_avg.png)\n",
        "\n",
        "Esta tendencia se conserva si se toma en consideración el tiempo de ejecución promedio para cada $p$ (variando $n$), como se puede ver en la gráfica a continuación.\n",
        "\n",
        "![chain1_p_avg](assets/chain1_p_avg.png)"
      ]
    },
    {
      "cell_type": "code",
      "execution_count": null,
      "id": "ba5e5ec8",
      "metadata": {
        "id": "ba5e5ec8",
        "outputId": "7313627e-09ce-4a3e-b86c-e9ccc85943a8"
      },
      "outputs": [
        {
          "name": "stdout",
          "output_type": "stream",
          "text": [
            "       n      p     NumPy     SciPy  Recurrence1  Recurrence2  Recurrence3\n",
            "544   15  0.950  0.000387  0.000357     0.000783     0.001018          NaN\n",
            "583   16  0.950  0.000331  0.000314     0.008461     0.001311          NaN\n",
            "622   17  0.950  0.000342  0.000323     0.001205     0.001537          NaN\n",
            "661   18  0.950  0.000325  0.000318     0.001175     0.001664          NaN\n",
            "700   19  0.950  0.000354  0.000349     0.001376     0.001934          NaN\n",
            "...   ..    ...       ...       ...          ...          ...          ...\n",
            "1475  39  0.825  0.001178  0.001228     0.011384     0.016735          NaN\n",
            "1476  39  0.850  0.001309  0.001199     0.011384     0.016735          NaN\n",
            "1477  39  0.875  0.001196  0.001189     0.011384     0.016735          NaN\n",
            "1478  39  0.900  0.000682  0.000670     0.011384     0.016735          NaN\n",
            "1480  39  0.950  0.000724  0.000770     0.010670     0.016098          NaN\n",
            "\n",
            "[110 rows x 7 columns]\n"
          ]
        }
      ],
      "source": [
        "print(results[results['Recurrence3'].isna()])"
      ]
    },
    {
      "cell_type": "markdown",
      "source": [
        "#### ¿Qué tan \"más eficiente\" es un método comparado con el otro?"
      ],
      "metadata": {
        "id": "QlBvXv3ENMTS"
      },
      "id": "QlBvXv3ENMTS"
    },
    {
      "cell_type": "markdown",
      "source": [
        "Un análisis que podemos hacer para responder esta pregunta es determinando la complejidad computacional de los cuatro algoritmos que implementamos. Como se dijo en el documento en análisis previos, según la documentación de numpy, el cálculo de autovectores tiene complejidad de $O(n^3)$, el primer método de recurrencia de $O(n^4)$(al tratarse de resolver n sistemas n x n), el segundo de $O(n^6)$(resolver un sistema de $n^2$ x $n^2$) y el tercero como utiliza recursión puede que no se adopte a una complejidad fija, pues puede que depende de la cadena se reduzca o aumente, al hacer menos o más operaciones respectivamente. Es por esto que, en principio, el método de los autovectores va a tener unos mejores resultados, lo cual está respaldado por las gráficas vistas anteriormente, después el primer método de recurrencia, seguido por el segundo y finalmente el último método, con recursión.\n",
        "\n",
        "Sin embargo, como se puede ver para n pequeño las recurrencias puede que sean más rápidas, lo que nos dice que la constante que acompaña a cada algoritmo puede que sea mayor en el caso de autovectores y / o menor en el de las recurrencias. Determinemos estas constantes:"
      ],
      "metadata": {
        "id": "PgDTgM4nNGRd"
      },
      "id": "PgDTgM4nNGRd"
    },
    {
      "cell_type": "code",
      "source": [
        "def add_constants(results: pd.DataFrame, k_values: dict[str, int]) -> pd.DataFrame:\n",
        "    df = results.copy()\n",
        "    for alg, k in k_values.items():\n",
        "        df[f\"{alg}_const\"] = df[alg] / (df[\"n\"] ** k)\n",
        "        print(f\"Constante de {alg}: {df[f'{alg}_const'].mean()}\")\n",
        "    return df\n",
        "\n",
        "k_values = {\n",
        "    \"NumPy\": 3,\n",
        "    \"SciPy\": 3,\n",
        "    \"Recurrence1\": 4,\n",
        "    \"Recurrence2\": 6,\n",
        "    \"Recurrence3\": 6\n",
        "}\n",
        "\n",
        "results_with_constants = add_constants(results, k_values)\n",
        "#results_with_constants.head()\n"
      ],
      "metadata": {
        "colab": {
          "base_uri": "https://localhost:8080/"
        },
        "id": "fGnPI59cPGSZ",
        "outputId": "84ceab6d-7ca8-435a-e466-64cea426f505"
      },
      "id": "fGnPI59cPGSZ",
      "execution_count": 38,
      "outputs": [
        {
          "output_type": "stream",
          "name": "stdout",
          "text": [
            "Constante de NumPy: 1.7890828856464219e-06\n",
            "Constante de SciPy: 1.5964279571770927e-06\n",
            "Constante de Recurrence1: 2.7526762077077256e-07\n",
            "Constante de Recurrence2: 3.161247540518643e-08\n",
            "Constante de Recurrence3: 1.4032614489732876e-07\n"
          ]
        }
      ]
    },
    {
      "cell_type": "markdown",
      "source": [
        "Después de ver estos resultados vemos que era cierta nuestra conjetura, las constantes de Numpy y SciPy son alrededor de 10 veces mayores que las de las recurrencias, es por esto que para n pequeño las recurrencias serán más eficientes."
      ],
      "metadata": {
        "id": "7ez0x0bZRVQ5"
      },
      "id": "7ez0x0bZRVQ5"
    },
    {
      "cell_type": "markdown",
      "id": "185c9cfa",
      "metadata": {
        "id": "185c9cfa"
      },
      "source": [
        "### Cadena 2"
      ]
    },
    {
      "cell_type": "code",
      "execution_count": null,
      "id": "9b327e88",
      "metadata": {
        "colab": {
          "referenced_widgets": [
            "9b754e38d229457cb866b5713a254160",
            "a2adcff3f97d47c788be4312e98a12ae"
          ]
        },
        "id": "9b327e88",
        "outputId": "75c4c79d-2cb9-4e68-a0d8-1619d0ba4a76"
      },
      "outputs": [
        {
          "name": "stdout",
          "output_type": "stream",
          "text": [
            "Singular matrix\n"
          ]
        },
        {
          "data": {
            "application/vnd.jupyter.widget-view+json": {
              "model_id": "9b754e38d229457cb866b5713a254160",
              "version_major": 2,
              "version_minor": 0
            },
            "text/plain": [
              "Dropdown(description='n/p/e y valor a seleccionar:', options=(('n - min', 'n - min'), ('n - max', 'n - max'), …"
            ]
          },
          "metadata": {},
          "output_type": "display_data"
        },
        {
          "data": {
            "application/vnd.jupyter.widget-view+json": {
              "model_id": "a2adcff3f97d47c788be4312e98a12ae",
              "version_major": 2,
              "version_minor": 0
            },
            "text/plain": [
              "Output()"
            ]
          },
          "metadata": {},
          "output_type": "display_data"
        }
      ],
      "source": [
        "e_values: list[float] = [n/100 for n in range(1, 10)]\n",
        "p_values: list[float] = [p/10 for p in range(1, 10)]\n",
        "n_values: list[int] = [n for n in range (3, 10)]\n",
        "results = get_results(matrices=matrices, n_values=n_values, p_values=p_values, e_values=e_values, chain=2)\n",
        "results[(results['n'] == 3) & (results['p'] == 0.1)]\n",
        "matrices = build_p_matrices(chain=2, p_values=p_values, n_values=[n for n in range (3, 10)], e_values = e_values)\n",
        "make_mma_ui(results, n_values, p_values, e_values, chain=2)"
      ]
    },
    {
      "cell_type": "code",
      "execution_count": null,
      "id": "2af19fa9",
      "metadata": {
        "colab": {
          "referenced_widgets": [
            "9214c90022f145f5a0af98a76288b3bc",
            "06412c87c1164c559b555ad8a111eca7",
            "40a14bd544ed4b89b2791ae9bfe55130",
            "ba934a053b34437c86d67110c718538c",
            "6b056d88ee7d49adaa37667f6ecd92c7"
          ]
        },
        "id": "2af19fa9",
        "outputId": "bd582145-b23d-449b-9722-519043c7ade0"
      },
      "outputs": [
        {
          "data": {
            "application/vnd.jupyter.widget-view+json": {
              "model_id": "9214c90022f145f5a0af98a76288b3bc",
              "version_major": 2,
              "version_minor": 0
            },
            "text/plain": [
              "Dropdown(description='Eje X:', index=1, options=(('n (número de estados)', 'n'), ('p (probabilidad de referenc…"
            ]
          },
          "metadata": {},
          "output_type": "display_data"
        },
        {
          "data": {
            "application/vnd.jupyter.widget-view+json": {
              "model_id": "06412c87c1164c559b555ad8a111eca7",
              "version_major": 2,
              "version_minor": 0
            },
            "text/plain": [
              "Dropdown(description='Valor de n:', layout=Layout(display='block'), options=(('3', 3), ('4', 4), ('5', 5), ('6…"
            ]
          },
          "metadata": {},
          "output_type": "display_data"
        },
        {
          "data": {
            "application/vnd.jupyter.widget-view+json": {
              "model_id": "40a14bd544ed4b89b2791ae9bfe55130",
              "version_major": 2,
              "version_minor": 0
            },
            "text/plain": [
              "Dropdown(description='Valor de p:', layout=Layout(display='none'), options=(('0.1', 0.1), ('0.2', 0.2), ('0.3'…"
            ]
          },
          "metadata": {},
          "output_type": "display_data"
        },
        {
          "data": {
            "application/vnd.jupyter.widget-view+json": {
              "model_id": "ba934a053b34437c86d67110c718538c",
              "version_major": 2,
              "version_minor": 0
            },
            "text/plain": [
              "Dropdown(description='Valor de e:', layout=Layout(display='block'), options=(('0.01', 0.01), ('0.02', 0.02), (…"
            ]
          },
          "metadata": {},
          "output_type": "display_data"
        },
        {
          "data": {
            "application/vnd.jupyter.widget-view+json": {
              "model_id": "6b056d88ee7d49adaa37667f6ecd92c7",
              "version_major": 2,
              "version_minor": 0
            },
            "text/plain": [
              "Output()"
            ]
          },
          "metadata": {},
          "output_type": "display_data"
        }
      ],
      "source": [
        "make_ui(results, n_values, p_values, e_values, chain=2)"
      ]
    },
    {
      "cell_type": "markdown",
      "id": "dd0c88a6",
      "metadata": {
        "id": "dd0c88a6"
      },
      "source": [
        "\n",
        "#### 1. ¿Cuál método es más eficiente?\n",
        "\n",
        "GANADOR GENERAL: SciPy/NumPy (métodos de autovectores)\n",
        "\n",
        "EXCEPCIÓN: Recurrencias gana en cadenas muy pequeñas, n ≤ 3.5 (pequeña ventaja azul al inicio)\n",
        "\n",
        "Analizando las cadenas con $n$ promedio, se observa en la gráfica a continuación que el promedio de tiempo de ejecución para cada $n$ (variando $p$ y $e$), crece considerablemente más rápido en el método de las fórmulas de recurrencia que en el del cálculo de autovectores. Esta tendencia es facil de observar que se mantiene, experimentando con las graficas interactivas de arriba.\n",
        "\n"
      ]
    },
    {
      "cell_type": "markdown",
      "id": "833aba18",
      "metadata": {
        "id": "833aba18"
      },
      "source": [
        "![Description of image](c2navg.png)"
      ]
    },
    {
      "cell_type": "markdown",
      "id": "01c197eb",
      "metadata": {
        "id": "01c197eb"
      },
      "source": [
        "#### 2. ¿Qué tan más eficiente?\n"
      ]
    },
    {
      "cell_type": "markdown",
      "id": "b3d4045d",
      "metadata": {
        "id": "b3d4045d"
      },
      "source": [
        "Analisis a continuación (spoiler - aprox 6.7 veces más rapido)"
      ]
    },
    {
      "cell_type": "code",
      "execution_count": null,
      "id": "b457feb9",
      "metadata": {
        "id": "b457feb9",
        "outputId": "3ba03fec-6d2d-469e-904b-a89332bb31ae"
      },
      "outputs": [
        {
          "name": "stdout",
          "output_type": "stream",
          "text": [
            "=== ANÁLISIS ESTADÍSTICO AVANZADO - CADENA 2 ===\n",
            "Estadísticas descriptivas por método:\n",
            "                Media   Mediana    Mínimo    Máximo\n",
            "NumPy        0.000143  0.000121  0.000049  0.000675\n",
            "SciPy        0.000137  0.000117  0.000046  0.000529\n",
            "Recurrence1  0.000294  0.000210  0.000021  0.001440\n",
            "Recurrence2  0.000390  0.000262  0.000018  0.001909\n",
            "Recurrence3  0.000915  0.000671  0.000066  0.003543\n",
            "NumPy/SciPy: 1.056x (NumPy es 0.947x más lento)\n",
            "\n",
            "=== COMPARACIÓN ENTRE MÉTODOS DE RECURRENCIA ===\n",
            "Recurrence1/Recurrence2: 0.864x\n",
            "Recurrence1/Recurrence3: 0.316x\n",
            "Recurrence2/Recurrence3: 0.377x\n",
            "\n",
            "=== ANÁLISIS DE CASOS DONDE RECURRENCIA GANA ===\n",
            "Casos donde alguna Recurrence es más rápida que ambos autovectores: 141/567 (24.9%)\n",
            "Características de estos casos:\n",
            "  - n promedio: 3.4\n",
            "  - p promedio: 0.459\n",
            "  - e promedio: 0.049\n",
            "  - Tamaño de matriz promedio: 6.9 estados\n"
          ]
        }
      ],
      "source": [
        "print(\"=== ANÁLISIS ESTADÍSTICO AVANZADO - CADENA 2 ===\")\n",
        "\n",
        "methods = ['NumPy', 'SciPy', 'Recurrence1', 'Recurrence2', 'Recurrence3']\n",
        "stats_summary = pd.DataFrame()\n",
        "\n",
        "for method in methods:\n",
        "    method_data = results[method].dropna()\n",
        "    stats_summary[method] = {\n",
        "        'Media': method_data.mean(),\n",
        "        'Mediana': method_data.median(),\n",
        "        'Mínimo': method_data.min(),\n",
        "        'Máximo': method_data.max(),\n",
        "    }\n",
        "\n",
        "stats_summary = stats_summary.T\n",
        "print(\"Estadísticas descriptivas por método:\")\n",
        "print(stats_summary)\n",
        "\n",
        "\n",
        "# NumPy vs SciPy\n",
        "numpy_scipy_ratio = results['NumPy'] / results['SciPy']\n",
        "print(f\"NumPy/SciPy: {numpy_scipy_ratio.mean():.3f}x (NumPy es {1/numpy_scipy_ratio.mean():.3f}x {'más lento' if numpy_scipy_ratio.mean() > 1 else 'más rápido'})\")\n",
        "\n",
        "#entre recurrencias\n",
        "print(f\"\\n=== COMPARACIÓN ENTRE MÉTODOS DE RECURRENCIA ===\")\n",
        "recurrence_ratios = {}\n",
        "recurrence_methods = ['Recurrence1', 'Recurrence2', 'Recurrence3']\n",
        "\n",
        "for i, method1 in enumerate(recurrence_methods):\n",
        "    for method2 in recurrence_methods[i+1:]:\n",
        "        ratio = results[method1] / results[method2]\n",
        "        ratio_clean = ratio.dropna()\n",
        "        if len(ratio_clean) > 0:\n",
        "            recurrence_ratios[f\"{method1}/{method2}\"] = ratio_clean.mean()\n",
        "            print(f\"{method1}/{method2}: {ratio_clean.mean():.3f}x\")\n",
        "\n",
        "# Análisis de casos donde alguna recurrencia gana a los autovectores\n",
        "print(f\"\\n=== ANÁLISIS DE CASOS DONDE RECURRENCIA GANA ===\")\n",
        "\n",
        "# Encontrar el mejor tiempo entre las recurrencias para cada fila\n",
        "results['Best_Recurrence'] = results[['Recurrence1', 'Recurrence2', 'Recurrence3']].min(axis=1)\n",
        "results['Best_Autovector'] = results[['NumPy', 'SciPy']].min(axis=1)\n",
        "\n",
        "# Casos donde la mejor recurrencia es más rápida que el mejor autovector\n",
        "recurrence_wins = results[results['Best_Recurrence'] < results['Best_Autovector']]\n",
        "\n",
        "print(f\"Casos donde alguna Recurrence es más rápida que ambos autovectores: {len(recurrence_wins)}/{len(results)} ({len(recurrence_wins)/len(results)*100:.1f}%)\")\n",
        "\n",
        "if len(recurrence_wins) > 0:\n",
        "    print(\"Características de estos casos:\")\n",
        "    print(f\"  - n promedio: {recurrence_wins['n'].mean():.1f}\")\n",
        "    print(f\"  - p promedio: {recurrence_wins['p'].mean():.3f}\")\n",
        "    print(f\"  - e promedio: {recurrence_wins['e'].mean():.3f}\")\n",
        "    print(f\"  - Tamaño de matriz promedio: {2 * recurrence_wins['n'].mean():.1f} estados\")\n",
        ""
      ]
    },
    {
      "cell_type": "code",
      "execution_count": null,
      "id": "3621dd94",
      "metadata": {
        "id": "3621dd94",
        "outputId": "22a0b111-265d-4f4d-ef83-e028ae48915a"
      },
      "outputs": [
        {
          "name": "stdout",
          "output_type": "stream",
          "text": [
            "\n",
            "=== RESUMEN EJECUTIVO ===\n",
            "MÉTODO MÁS RÁPIDO EN PROMEDIO: SciPy\n",
            "MÉTODO MÁS LENTO EN PROMEDIO: Recurrence3\n",
            "DIFERENCIA MÁXIMA: 6.7x más rápido el mejor vs el peor\n"
          ]
        }
      ],
      "source": [
        "# Resumen final\n",
        "print(f\"\\n=== RESUMEN EJECUTIVO ===\")\n",
        "fastest_method_overall = stats_summary['Media'].idxmin()\n",
        "slowest_method_overall = stats_summary['Media'].idxmax()\n",
        "\n",
        "print(f\"MÉTODO MÁS RÁPIDO EN PROMEDIO: {fastest_method_overall}\")\n",
        "print(f\"MÉTODO MÁS LENTO EN PROMEDIO: {slowest_method_overall}\")\n",
        "\n",
        "max_ratio = stats_summary.loc[slowest_method_overall, 'Media'] / stats_summary.loc[fastest_method_overall, 'Media']\n",
        "print(f\"DIFERENCIA MÁXIMA: {max_ratio:.1f}x más rápido el mejor vs el peor\")\n"
      ]
    },
    {
      "cell_type": "markdown",
      "id": "bf16da8e",
      "metadata": {
        "id": "bf16da8e"
      },
      "source": [
        "Recomendación práctica: Usar SciPy para la mayoría de casos, considerar recurrencias solo para análisis pedagógicos en cadenas muy pequeñas."
      ]
    },
    {
      "cell_type": "markdown",
      "id": "23a0d229",
      "metadata": {
        "id": "23a0d229"
      },
      "source": [
        "---\n"
      ]
    }
  ],
  "metadata": {
    "kernelspec": {
      "display_name": "base",
      "language": "python",
      "name": "python3"
    },
    "language_info": {
      "codemirror_mode": {
        "name": "ipython",
        "version": 3
      },
      "file_extension": ".py",
      "mimetype": "text/x-python",
      "name": "python",
      "nbconvert_exporter": "python",
      "pygments_lexer": "ipython3",
      "version": "3.10.8"
    },
    "colab": {
      "provenance": [],
      "collapsed_sections": [
        "185c9cfa"
      ]
    },
    "widgets": {
      "application/vnd.jupyter.widget-state+json": {
        "5afc5e1bccf84829b6d1cebe41732c8d": {
          "model_module": "@jupyter-widgets/controls",
          "model_name": "DropdownModel",
          "model_module_version": "1.5.0",
          "state": {
            "_dom_classes": [],
            "_model_module": "@jupyter-widgets/controls",
            "_model_module_version": "1.5.0",
            "_model_name": "DropdownModel",
            "_options_labels": [
              "n - min",
              "n - max",
              "n - avg",
              "p - min",
              "p - max",
              "p - avg"
            ],
            "_view_count": null,
            "_view_module": "@jupyter-widgets/controls",
            "_view_module_version": "1.5.0",
            "_view_name": "DropdownView",
            "description": "n/p/e y valor a seleccionar:",
            "description_tooltip": null,
            "disabled": false,
            "index": 0,
            "layout": "IPY_MODEL_af47abbc41774e08b3203bbeee54fdf3",
            "style": "IPY_MODEL_2c5b4641fc21460cb3eec0f397494ff6"
          }
        },
        "af47abbc41774e08b3203bbeee54fdf3": {
          "model_module": "@jupyter-widgets/base",
          "model_name": "LayoutModel",
          "model_module_version": "1.2.0",
          "state": {
            "_model_module": "@jupyter-widgets/base",
            "_model_module_version": "1.2.0",
            "_model_name": "LayoutModel",
            "_view_count": null,
            "_view_module": "@jupyter-widgets/base",
            "_view_module_version": "1.2.0",
            "_view_name": "LayoutView",
            "align_content": null,
            "align_items": null,
            "align_self": null,
            "border": null,
            "bottom": null,
            "display": null,
            "flex": null,
            "flex_flow": null,
            "grid_area": null,
            "grid_auto_columns": null,
            "grid_auto_flow": null,
            "grid_auto_rows": null,
            "grid_column": null,
            "grid_gap": null,
            "grid_row": null,
            "grid_template_areas": null,
            "grid_template_columns": null,
            "grid_template_rows": null,
            "height": null,
            "justify_content": null,
            "justify_items": null,
            "left": null,
            "margin": null,
            "max_height": null,
            "max_width": null,
            "min_height": null,
            "min_width": null,
            "object_fit": null,
            "object_position": null,
            "order": null,
            "overflow": null,
            "overflow_x": null,
            "overflow_y": null,
            "padding": null,
            "right": null,
            "top": null,
            "visibility": null,
            "width": null
          }
        },
        "2c5b4641fc21460cb3eec0f397494ff6": {
          "model_module": "@jupyter-widgets/controls",
          "model_name": "DescriptionStyleModel",
          "model_module_version": "1.5.0",
          "state": {
            "_model_module": "@jupyter-widgets/controls",
            "_model_module_version": "1.5.0",
            "_model_name": "DescriptionStyleModel",
            "_view_count": null,
            "_view_module": "@jupyter-widgets/base",
            "_view_module_version": "1.2.0",
            "_view_name": "StyleView",
            "description_width": "initial"
          }
        },
        "0a1d7a462daf4324a7f2044ef34a4754": {
          "model_module": "@jupyter-widgets/output",
          "model_name": "OutputModel",
          "model_module_version": "1.0.0",
          "state": {
            "_dom_classes": [],
            "_model_module": "@jupyter-widgets/output",
            "_model_module_version": "1.0.0",
            "_model_name": "OutputModel",
            "_view_count": null,
            "_view_module": "@jupyter-widgets/output",
            "_view_module_version": "1.0.0",
            "_view_name": "OutputView",
            "layout": "IPY_MODEL_f4cba5f242e64509ad2dea68030e58ad",
            "msg_id": "",
            "outputs": [
              {
                "output_type": "display_data",
                "data": {
                  "text/plain": "<Figure size 1800x600 with 1 Axes>",
                  "image/png": "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\n"
                },
                "metadata": {}
              }
            ]
          }
        },
        "f4cba5f242e64509ad2dea68030e58ad": {
          "model_module": "@jupyter-widgets/base",
          "model_name": "LayoutModel",
          "model_module_version": "1.2.0",
          "state": {
            "_model_module": "@jupyter-widgets/base",
            "_model_module_version": "1.2.0",
            "_model_name": "LayoutModel",
            "_view_count": null,
            "_view_module": "@jupyter-widgets/base",
            "_view_module_version": "1.2.0",
            "_view_name": "LayoutView",
            "align_content": null,
            "align_items": null,
            "align_self": null,
            "border": null,
            "bottom": null,
            "display": null,
            "flex": null,
            "flex_flow": null,
            "grid_area": null,
            "grid_auto_columns": null,
            "grid_auto_flow": null,
            "grid_auto_rows": null,
            "grid_column": null,
            "grid_gap": null,
            "grid_row": null,
            "grid_template_areas": null,
            "grid_template_columns": null,
            "grid_template_rows": null,
            "height": null,
            "justify_content": null,
            "justify_items": null,
            "left": null,
            "margin": null,
            "max_height": null,
            "max_width": null,
            "min_height": null,
            "min_width": null,
            "object_fit": null,
            "object_position": null,
            "order": null,
            "overflow": null,
            "overflow_x": null,
            "overflow_y": null,
            "padding": null,
            "right": null,
            "top": null,
            "visibility": null,
            "width": null
          }
        },
        "594221b7f8a24a8dbeb74d5693be7169": {
          "model_module": "@jupyter-widgets/controls",
          "model_name": "DropdownModel",
          "model_module_version": "1.5.0",
          "state": {
            "_dom_classes": [],
            "_model_module": "@jupyter-widgets/controls",
            "_model_module_version": "1.5.0",
            "_model_name": "DropdownModel",
            "_options_labels": [
              "n (número de estados)",
              "p (probabilidad de referencia)",
              "e (epsilon)"
            ],
            "_view_count": null,
            "_view_module": "@jupyter-widgets/controls",
            "_view_module_version": "1.5.0",
            "_view_name": "DropdownView",
            "description": "Eje X:",
            "description_tooltip": null,
            "disabled": false,
            "index": 0,
            "layout": "IPY_MODEL_a7a6439e495f4b5fb4da3f20f183e1cb",
            "style": "IPY_MODEL_f0016fcc28a949d2b0a48b9ed1b371f3"
          }
        },
        "a7a6439e495f4b5fb4da3f20f183e1cb": {
          "model_module": "@jupyter-widgets/base",
          "model_name": "LayoutModel",
          "model_module_version": "1.2.0",
          "state": {
            "_model_module": "@jupyter-widgets/base",
            "_model_module_version": "1.2.0",
            "_model_name": "LayoutModel",
            "_view_count": null,
            "_view_module": "@jupyter-widgets/base",
            "_view_module_version": "1.2.0",
            "_view_name": "LayoutView",
            "align_content": null,
            "align_items": null,
            "align_self": null,
            "border": null,
            "bottom": null,
            "display": null,
            "flex": null,
            "flex_flow": null,
            "grid_area": null,
            "grid_auto_columns": null,
            "grid_auto_flow": null,
            "grid_auto_rows": null,
            "grid_column": null,
            "grid_gap": null,
            "grid_row": null,
            "grid_template_areas": null,
            "grid_template_columns": null,
            "grid_template_rows": null,
            "height": null,
            "justify_content": null,
            "justify_items": null,
            "left": null,
            "margin": null,
            "max_height": null,
            "max_width": null,
            "min_height": null,
            "min_width": null,
            "object_fit": null,
            "object_position": null,
            "order": null,
            "overflow": null,
            "overflow_x": null,
            "overflow_y": null,
            "padding": null,
            "right": null,
            "top": null,
            "visibility": null,
            "width": null
          }
        },
        "f0016fcc28a949d2b0a48b9ed1b371f3": {
          "model_module": "@jupyter-widgets/controls",
          "model_name": "DescriptionStyleModel",
          "model_module_version": "1.5.0",
          "state": {
            "_model_module": "@jupyter-widgets/controls",
            "_model_module_version": "1.5.0",
            "_model_name": "DescriptionStyleModel",
            "_view_count": null,
            "_view_module": "@jupyter-widgets/base",
            "_view_module_version": "1.2.0",
            "_view_name": "StyleView",
            "description_width": "initial"
          }
        },
        "12dbcf00f4744db7b8268a317f30a919": {
          "model_module": "@jupyter-widgets/controls",
          "model_name": "DropdownModel",
          "model_module_version": "1.5.0",
          "state": {
            "_dom_classes": [],
            "_model_module": "@jupyter-widgets/controls",
            "_model_module_version": "1.5.0",
            "_model_name": "DropdownModel",
            "_options_labels": [
              "2",
              "3",
              "4",
              "5",
              "6",
              "7",
              "8",
              "9",
              "10",
              "11",
              "12",
              "13",
              "14",
              "15",
              "16",
              "17",
              "18",
              "19",
              "20",
              "21",
              "22",
              "23",
              "24",
              "25",
              "26",
              "27",
              "28",
              "29",
              "30",
              "31",
              "32",
              "33",
              "34",
              "35",
              "36",
              "37",
              "38",
              "39"
            ],
            "_view_count": null,
            "_view_module": "@jupyter-widgets/controls",
            "_view_module_version": "1.5.0",
            "_view_name": "DropdownView",
            "description": "Valor de n:",
            "description_tooltip": null,
            "disabled": false,
            "index": 33,
            "layout": "IPY_MODEL_5bdcfcc85e0c455189a838024e0e272b",
            "style": "IPY_MODEL_df14384f558c4e8d807666c8a3a88f8a"
          }
        },
        "5bdcfcc85e0c455189a838024e0e272b": {
          "model_module": "@jupyter-widgets/base",
          "model_name": "LayoutModel",
          "model_module_version": "1.2.0",
          "state": {
            "_model_module": "@jupyter-widgets/base",
            "_model_module_version": "1.2.0",
            "_model_name": "LayoutModel",
            "_view_count": null,
            "_view_module": "@jupyter-widgets/base",
            "_view_module_version": "1.2.0",
            "_view_name": "LayoutView",
            "align_content": null,
            "align_items": null,
            "align_self": null,
            "border": null,
            "bottom": null,
            "display": "none",
            "flex": null,
            "flex_flow": null,
            "grid_area": null,
            "grid_auto_columns": null,
            "grid_auto_flow": null,
            "grid_auto_rows": null,
            "grid_column": null,
            "grid_gap": null,
            "grid_row": null,
            "grid_template_areas": null,
            "grid_template_columns": null,
            "grid_template_rows": null,
            "height": null,
            "justify_content": null,
            "justify_items": null,
            "left": null,
            "margin": null,
            "max_height": null,
            "max_width": null,
            "min_height": null,
            "min_width": null,
            "object_fit": null,
            "object_position": null,
            "order": null,
            "overflow": null,
            "overflow_x": null,
            "overflow_y": null,
            "padding": null,
            "right": null,
            "top": null,
            "visibility": null,
            "width": null
          }
        },
        "df14384f558c4e8d807666c8a3a88f8a": {
          "model_module": "@jupyter-widgets/controls",
          "model_name": "DescriptionStyleModel",
          "model_module_version": "1.5.0",
          "state": {
            "_model_module": "@jupyter-widgets/controls",
            "_model_module_version": "1.5.0",
            "_model_name": "DescriptionStyleModel",
            "_view_count": null,
            "_view_module": "@jupyter-widgets/base",
            "_view_module_version": "1.2.0",
            "_view_name": "StyleView",
            "description_width": "initial"
          }
        },
        "218c869e45474001aa2fc59035fabfb9": {
          "model_module": "@jupyter-widgets/controls",
          "model_name": "DropdownModel",
          "model_module_version": "1.5.0",
          "state": {
            "_dom_classes": [],
            "_model_module": "@jupyter-widgets/controls",
            "_model_module_version": "1.5.0",
            "_model_name": "DropdownModel",
            "_options_labels": [
              "0.025",
              "0.05",
              "0.075",
              "0.1",
              "0.125",
              "0.15",
              "0.175",
              "0.2",
              "0.225",
              "0.25",
              "0.275",
              "0.3",
              "0.325",
              "0.35",
              "0.375",
              "0.4",
              "0.425",
              "0.45",
              "0.475",
              "0.5",
              "0.525",
              "0.55",
              "0.575",
              "0.6",
              "0.625",
              "0.65",
              "0.675",
              "0.7",
              "0.725",
              "0.75",
              "0.775",
              "0.8",
              "0.825",
              "0.85",
              "0.875",
              "0.9",
              "0.925",
              "0.95",
              "0.975"
            ],
            "_view_count": null,
            "_view_module": "@jupyter-widgets/controls",
            "_view_module_version": "1.5.0",
            "_view_name": "DropdownView",
            "description": "Valor de p:",
            "description_tooltip": null,
            "disabled": false,
            "index": 0,
            "layout": "IPY_MODEL_36fd08e928d041e098a728ebf7687f00",
            "style": "IPY_MODEL_e69a958a5df7450d9ca8693af28846a0"
          }
        },
        "36fd08e928d041e098a728ebf7687f00": {
          "model_module": "@jupyter-widgets/base",
          "model_name": "LayoutModel",
          "model_module_version": "1.2.0",
          "state": {
            "_model_module": "@jupyter-widgets/base",
            "_model_module_version": "1.2.0",
            "_model_name": "LayoutModel",
            "_view_count": null,
            "_view_module": "@jupyter-widgets/base",
            "_view_module_version": "1.2.0",
            "_view_name": "LayoutView",
            "align_content": null,
            "align_items": null,
            "align_self": null,
            "border": null,
            "bottom": null,
            "display": "block",
            "flex": null,
            "flex_flow": null,
            "grid_area": null,
            "grid_auto_columns": null,
            "grid_auto_flow": null,
            "grid_auto_rows": null,
            "grid_column": null,
            "grid_gap": null,
            "grid_row": null,
            "grid_template_areas": null,
            "grid_template_columns": null,
            "grid_template_rows": null,
            "height": null,
            "justify_content": null,
            "justify_items": null,
            "left": null,
            "margin": null,
            "max_height": null,
            "max_width": null,
            "min_height": null,
            "min_width": null,
            "object_fit": null,
            "object_position": null,
            "order": null,
            "overflow": null,
            "overflow_x": null,
            "overflow_y": null,
            "padding": null,
            "right": null,
            "top": null,
            "visibility": null,
            "width": null
          }
        },
        "e69a958a5df7450d9ca8693af28846a0": {
          "model_module": "@jupyter-widgets/controls",
          "model_name": "DescriptionStyleModel",
          "model_module_version": "1.5.0",
          "state": {
            "_model_module": "@jupyter-widgets/controls",
            "_model_module_version": "1.5.0",
            "_model_name": "DescriptionStyleModel",
            "_view_count": null,
            "_view_module": "@jupyter-widgets/base",
            "_view_module_version": "1.2.0",
            "_view_name": "StyleView",
            "description_width": "initial"
          }
        },
        "acabeccc4f4d4465a4fcef5198d27872": {
          "model_module": "@jupyter-widgets/controls",
          "model_name": "DropdownModel",
          "model_module_version": "1.5.0",
          "state": {
            "_dom_classes": [],
            "_model_module": "@jupyter-widgets/controls",
            "_model_module_version": "1.5.0",
            "_model_name": "DropdownModel",
            "_options_labels": [
              "0"
            ],
            "_view_count": null,
            "_view_module": "@jupyter-widgets/controls",
            "_view_module_version": "1.5.0",
            "_view_name": "DropdownView",
            "description": "Valor de e:",
            "description_tooltip": null,
            "disabled": false,
            "index": 0,
            "layout": "IPY_MODEL_6ede815f7d0f4c29b088c2182781750f",
            "style": "IPY_MODEL_28d47765fa5b472385ded3a7cba1d32b"
          }
        },
        "6ede815f7d0f4c29b088c2182781750f": {
          "model_module": "@jupyter-widgets/base",
          "model_name": "LayoutModel",
          "model_module_version": "1.2.0",
          "state": {
            "_model_module": "@jupyter-widgets/base",
            "_model_module_version": "1.2.0",
            "_model_name": "LayoutModel",
            "_view_count": null,
            "_view_module": "@jupyter-widgets/base",
            "_view_module_version": "1.2.0",
            "_view_name": "LayoutView",
            "align_content": null,
            "align_items": null,
            "align_self": null,
            "border": null,
            "bottom": null,
            "display": "block",
            "flex": null,
            "flex_flow": null,
            "grid_area": null,
            "grid_auto_columns": null,
            "grid_auto_flow": null,
            "grid_auto_rows": null,
            "grid_column": null,
            "grid_gap": null,
            "grid_row": null,
            "grid_template_areas": null,
            "grid_template_columns": null,
            "grid_template_rows": null,
            "height": null,
            "justify_content": null,
            "justify_items": null,
            "left": null,
            "margin": null,
            "max_height": null,
            "max_width": null,
            "min_height": null,
            "min_width": null,
            "object_fit": null,
            "object_position": null,
            "order": null,
            "overflow": null,
            "overflow_x": null,
            "overflow_y": null,
            "padding": null,
            "right": null,
            "top": null,
            "visibility": null,
            "width": null
          }
        },
        "28d47765fa5b472385ded3a7cba1d32b": {
          "model_module": "@jupyter-widgets/controls",
          "model_name": "DescriptionStyleModel",
          "model_module_version": "1.5.0",
          "state": {
            "_model_module": "@jupyter-widgets/controls",
            "_model_module_version": "1.5.0",
            "_model_name": "DescriptionStyleModel",
            "_view_count": null,
            "_view_module": "@jupyter-widgets/base",
            "_view_module_version": "1.2.0",
            "_view_name": "StyleView",
            "description_width": "initial"
          }
        },
        "22f97134202841bea0df870be5127a49": {
          "model_module": "@jupyter-widgets/output",
          "model_name": "OutputModel",
          "model_module_version": "1.0.0",
          "state": {
            "_dom_classes": [],
            "_model_module": "@jupyter-widgets/output",
            "_model_module_version": "1.0.0",
            "_model_name": "OutputModel",
            "_view_count": null,
            "_view_module": "@jupyter-widgets/output",
            "_view_module_version": "1.0.0",
            "_view_name": "OutputView",
            "layout": "IPY_MODEL_c2c5bdcab06f409bbe34fe35e94329e0",
            "msg_id": "",
            "outputs": [
              {
                "output_type": "display_data",
                "data": {
                  "text/plain": "<Figure size 1800x600 with 1 Axes>",
                  "image/png": "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\n"
                },
                "metadata": {}
              }
            ]
          }
        },
        "c2c5bdcab06f409bbe34fe35e94329e0": {
          "model_module": "@jupyter-widgets/base",
          "model_name": "LayoutModel",
          "model_module_version": "1.2.0",
          "state": {
            "_model_module": "@jupyter-widgets/base",
            "_model_module_version": "1.2.0",
            "_model_name": "LayoutModel",
            "_view_count": null,
            "_view_module": "@jupyter-widgets/base",
            "_view_module_version": "1.2.0",
            "_view_name": "LayoutView",
            "align_content": null,
            "align_items": null,
            "align_self": null,
            "border": null,
            "bottom": null,
            "display": null,
            "flex": null,
            "flex_flow": null,
            "grid_area": null,
            "grid_auto_columns": null,
            "grid_auto_flow": null,
            "grid_auto_rows": null,
            "grid_column": null,
            "grid_gap": null,
            "grid_row": null,
            "grid_template_areas": null,
            "grid_template_columns": null,
            "grid_template_rows": null,
            "height": null,
            "justify_content": null,
            "justify_items": null,
            "left": null,
            "margin": null,
            "max_height": null,
            "max_width": null,
            "min_height": null,
            "min_width": null,
            "object_fit": null,
            "object_position": null,
            "order": null,
            "overflow": null,
            "overflow_x": null,
            "overflow_y": null,
            "padding": null,
            "right": null,
            "top": null,
            "visibility": null,
            "width": null
          }
        }
      }
    }
  },
  "nbformat": 4,
  "nbformat_minor": 5
}