{
 "cells": [
  {
   "cell_type": "markdown",
   "id": "20edab66",
   "metadata": {},
   "source": [
    "# Tarea 0"
   ]
  },
  {
   "cell_type": "markdown",
   "id": "8678309c",
   "metadata": {},
   "source": [
    "### Configuración inicial"
   ]
  },
  {
   "cell_type": "markdown",
   "id": "22e160f8",
   "metadata": {
    "vscode": {
     "languageId": "plaintext"
    }
   },
   "source": [
    "Primero, se debe crear un entorno virtual para evitar incompatibilidades con el resto del sistema. La celda de abajo se debe copiar y pegar en la terminal antes de correr el notebook."
   ]
  },
  {
   "cell_type": "code",
   "execution_count": 1,
   "id": "2484c7e8",
   "metadata": {
    "vscode": {
     "languageId": "shellscript"
    }
   },
   "outputs": [
    {
     "name": "stdout",
     "output_type": "stream",
     "text": [
      "Virtual environment already exists.\n"
     ]
    }
   ],
   "source": [
    "%%sh\n",
    "if [ ! -d \".venv\" ]; then\n",
    "    python3 -m venv .venv\n",
    "    echo \"Virtual environment created.\"\n",
    "else\n",
    "    echo \"Virtual environment already exists.\"\n",
    "fi"
   ]
  },
  {
   "cell_type": "markdown",
   "id": "ef3227ef",
   "metadata": {},
   "source": [
    "Luego, se debe crear un entorno virtual e instalar las dependencias de Python necesarias."
   ]
  },
  {
   "cell_type": "code",
   "execution_count": 2,
   "id": "050baef5",
   "metadata": {},
   "outputs": [
    {
     "name": "stdout",
     "output_type": "stream",
     "text": [
      "To activate: \u001b[92msource .venv/bin/activate\u001b[0m\n",
      "\u001b[94mVirtual environment found.\u001b[0m\n"
     ]
    }
   ],
   "source": [
    "import os\n",
    "import platform\n",
    "\n",
    "GREEN = '\\033[92m'\n",
    "BLUE = '\\033[94m'\n",
    "YELLOW = '\\033[93m'\n",
    "RED = '\\033[91m'\n",
    "RESET = '\\033[0m'\n",
    "\n",
    "system = platform.system().lower()\n",
    "\n",
    "if system in ['linux', 'darwin']:  #*Linux or macOS\n",
    "    activate_script = \".venv/bin/activate\"\n",
    "    print(f\"To activate: {GREEN}source {activate_script}{RESET}\")\n",
    "elif system == 'windows':\n",
    "    activate_script = \".venv\\\\Scripts\\\\activate.bat\"\n",
    "    print(f\"To activate: {GREEN}{activate_script}{RESET}\")\n",
    "else:\n",
    "    print(f\"{RED}Unknown OS. Please activate manually.{RESET}\")\n",
    "\n",
    "if os.path.exists(\".venv\"):\n",
    "    print(f\"{BLUE}Virtual environment found.{RESET}\")\n",
    "else:\n",
    "    print(f\"{YELLOW}Virtual environment not found. Please create it first.{RESET}\")"
   ]
  },
  {
   "cell_type": "code",
   "execution_count": 3,
   "id": "84cd3950",
   "metadata": {},
   "outputs": [],
   "source": [
    "%%bash\n",
    "# Reemplaza esta línea por el código en verde que te apareció en la salida de la celda inmediatamente anterior a esta"
   ]
  },
  {
   "cell_type": "code",
   "execution_count": 4,
   "id": "3c17d6ef",
   "metadata": {},
   "outputs": [
    {
     "name": "stdout",
     "output_type": "stream",
     "text": [
      "Requirement already satisfied: numpy in ./.venv/lib/python3.13/site-packages (2.3.3)\n",
      "Requirement already satisfied: networkx in ./.venv/lib/python3.13/site-packages (3.5)\n",
      "Requirement already satisfied: matplotlib in ./.venv/lib/python3.13/site-packages (3.10.6)\n",
      "Requirement already satisfied: scipy in ./.venv/lib/python3.13/site-packages (1.16.2)\n",
      "Requirement already satisfied: pandas in ./.venv/lib/python3.13/site-packages (2.3.2)\n",
      "Requirement already satisfied: ipywidgets in ./.venv/lib/python3.13/site-packages (8.1.7)\n",
      "Requirement already satisfied: contourpy>=1.0.1 in ./.venv/lib/python3.13/site-packages (from matplotlib) (1.3.3)\n",
      "Requirement already satisfied: cycler>=0.10 in ./.venv/lib/python3.13/site-packages (from matplotlib) (0.12.1)\n",
      "Requirement already satisfied: fonttools>=4.22.0 in ./.venv/lib/python3.13/site-packages (from matplotlib) (4.60.0)\n",
      "Requirement already satisfied: kiwisolver>=1.3.1 in ./.venv/lib/python3.13/site-packages (from matplotlib) (1.4.9)\n",
      "Requirement already satisfied: packaging>=20.0 in ./.venv/lib/python3.13/site-packages (from matplotlib) (25.0)\n",
      "Requirement already satisfied: pillow>=8 in ./.venv/lib/python3.13/site-packages (from matplotlib) (11.3.0)\n",
      "Requirement already satisfied: pyparsing>=2.3.1 in ./.venv/lib/python3.13/site-packages (from matplotlib) (3.2.5)\n",
      "Requirement already satisfied: python-dateutil>=2.7 in ./.venv/lib/python3.13/site-packages (from matplotlib) (2.9.0.post0)\n",
      "Requirement already satisfied: pytz>=2020.1 in ./.venv/lib/python3.13/site-packages (from pandas) (2025.2)\n",
      "Requirement already satisfied: tzdata>=2022.7 in ./.venv/lib/python3.13/site-packages (from pandas) (2025.2)\n",
      "Requirement already satisfied: comm>=0.1.3 in ./.venv/lib/python3.13/site-packages (from ipywidgets) (0.2.3)\n",
      "Requirement already satisfied: ipython>=6.1.0 in ./.venv/lib/python3.13/site-packages (from ipywidgets) (9.5.0)\n",
      "Requirement already satisfied: traitlets>=4.3.1 in ./.venv/lib/python3.13/site-packages (from ipywidgets) (5.14.3)\n",
      "Requirement already satisfied: widgetsnbextension~=4.0.14 in ./.venv/lib/python3.13/site-packages (from ipywidgets) (4.0.14)\n",
      "Requirement already satisfied: jupyterlab_widgets~=3.0.15 in ./.venv/lib/python3.13/site-packages (from ipywidgets) (3.0.15)\n",
      "Requirement already satisfied: decorator in ./.venv/lib/python3.13/site-packages (from ipython>=6.1.0->ipywidgets) (5.2.1)\n",
      "Requirement already satisfied: ipython-pygments-lexers in ./.venv/lib/python3.13/site-packages (from ipython>=6.1.0->ipywidgets) (1.1.1)\n",
      "Requirement already satisfied: jedi>=0.16 in ./.venv/lib/python3.13/site-packages (from ipython>=6.1.0->ipywidgets) (0.19.2)\n",
      "Requirement already satisfied: matplotlib-inline in ./.venv/lib/python3.13/site-packages (from ipython>=6.1.0->ipywidgets) (0.1.7)\n",
      "Requirement already satisfied: pexpect>4.3 in ./.venv/lib/python3.13/site-packages (from ipython>=6.1.0->ipywidgets) (4.9.0)\n",
      "Requirement already satisfied: prompt_toolkit<3.1.0,>=3.0.41 in ./.venv/lib/python3.13/site-packages (from ipython>=6.1.0->ipywidgets) (3.0.52)\n",
      "Requirement already satisfied: pygments>=2.4.0 in ./.venv/lib/python3.13/site-packages (from ipython>=6.1.0->ipywidgets) (2.19.2)\n",
      "Requirement already satisfied: stack_data in ./.venv/lib/python3.13/site-packages (from ipython>=6.1.0->ipywidgets) (0.6.3)\n",
      "Requirement already satisfied: wcwidth in ./.venv/lib/python3.13/site-packages (from prompt_toolkit<3.1.0,>=3.0.41->ipython>=6.1.0->ipywidgets) (0.2.14)\n",
      "Requirement already satisfied: parso<0.9.0,>=0.8.4 in ./.venv/lib/python3.13/site-packages (from jedi>=0.16->ipython>=6.1.0->ipywidgets) (0.8.5)\n",
      "Requirement already satisfied: ptyprocess>=0.5 in ./.venv/lib/python3.13/site-packages (from pexpect>4.3->ipython>=6.1.0->ipywidgets) (0.7.0)\n",
      "Requirement already satisfied: six>=1.5 in ./.venv/lib/python3.13/site-packages (from python-dateutil>=2.7->matplotlib) (1.17.0)\n",
      "Requirement already satisfied: executing>=1.2.0 in ./.venv/lib/python3.13/site-packages (from stack_data->ipython>=6.1.0->ipywidgets) (2.2.1)\n",
      "Requirement already satisfied: asttokens>=2.1.0 in ./.venv/lib/python3.13/site-packages (from stack_data->ipython>=6.1.0->ipywidgets) (3.0.0)\n",
      "Requirement already satisfied: pure-eval in ./.venv/lib/python3.13/site-packages (from stack_data->ipython>=6.1.0->ipywidgets) (0.2.3)\n"
     ]
    }
   ],
   "source": [
    "!pip install numpy networkx matplotlib scipy pandas ipywidgets"
   ]
  },
  {
   "cell_type": "markdown",
   "id": "b2f0b576",
   "metadata": {},
   "source": [
    "## Parámetros iniciales <a id=\"param\"></a>"
   ]
  },
  {
   "cell_type": "code",
   "execution_count": 47,
   "id": "e28770c0",
   "metadata": {},
   "outputs": [],
   "source": [
    "p_values: list[float] = [i/10 for i in range (1, 10)]\n",
    "n_values: list[int] = [n for n in range (2, 100)]"
   ]
  },
  {
   "cell_type": "markdown",
   "id": "9420bd89",
   "metadata": {},
   "source": [
    "## Funciones extra"
   ]
  },
  {
   "cell_type": "markdown",
   "id": "d89c4ad0",
   "metadata": {},
   "source": [
    "Su objetivo es reutilizar código y abstraer diversos procesos para enfocarse en el análisis de complejidad de los dos algoritmos"
   ]
  },
  {
   "cell_type": "code",
   "execution_count": 6,
   "id": "7389cc0d",
   "metadata": {},
   "outputs": [],
   "source": [
    "import numpy as np\n",
    "\n",
    "def build_p_matrices(chain: int = 1,\n",
    "                     p_values: list[float] = [n/10 for n in range (1, 10)],\n",
    "                     n_values: list[float] = [n for n in range(2, 5)]) -> list[np.array]:\n",
    "    \"\"\"\n",
    "    Return all the possible transition matrices\n",
    "    \"\"\"\n",
    "    valid_chains: list[int] = [1, 2, 3]\n",
    "    if chain not in valid_chains:\n",
    "        raise ValueError(f\"Invalid chain selected. Please choose one of the list: {valid_chains}\")\n",
    "    \n",
    "    if chain == 1:\n",
    "        #*Construction of the transition matrices\n",
    "        matrices: list[np.array] = []\n",
    "        i: int = 0\n",
    "        for n in n_values:\n",
    "            for p in p_values:\n",
    "                q: float = 1 - p\n",
    "                matrix: np.array = np.zeros((n, n))\n",
    "                matrix[0][0] = q\n",
    "                matrix[n - 1][n - 1] = p\n",
    "                for i in range (0, n - 1):\n",
    "                    #*Forward (l to r) -> p\n",
    "                    matrix[i][i + 1] = p\n",
    "                    #*Backward (r to l) -> q\n",
    "                    matrix[i + 1][i] = q\n",
    "                # print(p, q)\n",
    "                # print(matrix)\n",
    "\n",
    "                matrices.append(matrix.T)\n",
    "                i += 1\n",
    "        return matrices\n",
    "    \n",
    "    if chain == 2:\n",
    "        return\n",
    "    \n",
    "    if chain == 3:\n",
    "        return\n",
    "    \n",
    "def get_distributions(candidates: list[np.array]) -> list[np.array]:\n",
    "    \"\"\"\n",
    "    The distribution should have non-negative entries and the entries in each\n",
    "    row must sum 1.\n",
    "    \"\"\"\n",
    "    return [v for v in candidates if np.isclose(v.sum(), 1, atol=1e-4) and np.all(v >= 0)]\n",
    "\n",
    "def print_distributions(valid_candidates: list[list[np.array]]) -> None:\n",
    "    i: int = 1\n",
    "    for c in valid_candidates:\n",
    "        print(f\"Stationary distribution of the matrix\")\n",
    "        print(c)\n",
    "        i += 1\n"
   ]
  },
  {
   "cell_type": "markdown",
   "id": "f6c6c7b3",
   "metadata": {},
   "source": [
    "## Cadenas"
   ]
  },
  {
   "cell_type": "markdown",
   "id": "2fa3f185",
   "metadata": {},
   "source": [
    "### Cadena 1"
   ]
  },
  {
   "cell_type": "markdown",
   "id": "faf93679",
   "metadata": {},
   "source": [
    "La cadena de Markov que se tratará a continuación es la sugerencia inicial realizada por el docente. Es una cadena irreducible y aperiódica. Una caracterízación y una representación gráfica de esta se puede ver a continuación, así como su simulación.\n",
    "> - Es irreducible ya que $p, q > 0$.\n",
    "> - Es aperiódica ya que:\n",
    ">   - Del estado $i \\neq n$ se puede ir al estado $i$ en $2(n - i)$ pasos (yendo al extremo derecho y devolvíendose) y en $2(n - i) + 1$ pasos (quedándose en el extremo, $n$, por un paso). Como $\\text{mcd}(2(n - i), 2(n - i) + 1) = 1$, ya está.\n",
    ">   - Del estado $n$ al estado $n$ se puede ir en $2n$ (yendo al extremo izquierdo y devolvíendose) o en $2n + 1$ pasos (quedándose en el extremo izquierdo, $1$, por un paso).\n",
    ">   - Del estado $i$ al estado $j$, idea: ir de i a i y luego de i a j, asumiendo i < j, y utilizando lo mismo que en los dos anteriores"
   ]
  },
  {
   "cell_type": "code",
   "execution_count": 7,
   "id": "9428a602",
   "metadata": {},
   "outputs": [
    {
     "name": "stdout",
     "output_type": "stream",
     "text": [
      "[[0.7 0.7 0.  0.  0. ]\n",
      " [0.3 0.  0.7 0.  0. ]\n",
      " [0.  0.3 0.  0.7 0. ]\n",
      " [0.  0.  0.3 0.  0.7]\n",
      " [0.  0.  0.  0.3 0.3]]\n",
      "[(1, 1, 0), (1, 2, 1), (2, 1, 2), (2, 3, 3), (3, 2, 4), (3, 4, 5), (4, 3, 6), (4, 5, 7), (5, 4, 8), (5, 5, 9)]\n",
      "{(1, 1): '0.70', (1, 2): '0.70', (2, 1): '0.30', (2, 3): '0.70', (3, 2): '0.30', (3, 4): '0.70', (4, 3): '0.30', (4, 5): '0.70', (5, 4): '0.30', (5, 5): '0.30'}\n"
     ]
    },
    {
     "data": {
      "image/png": "[encoded data removed]",
      "text/plain": [
       "<Figure size 640x480 with 1 Axes>"
      ]
     },
     "metadata": {},
     "output_type": "display_data"
    }
   ],
   "source": [
    "import networkx as nx\n",
    "import matplotlib.pyplot as plt\n",
    "\n",
    "G = nx.MultiDiGraph()\n",
    "n: int = 5\n",
    "p: float = 0.3\n",
    "P: np.array = build_p_matrices(chain=1, p_values=[p], n_values=[n])[0]\n",
    "states: list[int] = [i for i in range (1, n + 1)]\n",
    "\n",
    "edges: list[tuple] = []\n",
    "k: int = 0\n",
    "for i in range(n):\n",
    "    for j in range(n):\n",
    "        if P[i][j] != 0:\n",
    "            edges.append((i + 1, j + 1, k))\n",
    "            k += 1\n",
    "\n",
    "print(P)\n",
    "print(edges)\n",
    "\n",
    "# Arrange nodes linearly on the x-axis\n",
    "pos = {state: (state, 0) for state in states}\n",
    "G.add_nodes_from(states)\n",
    "G.add_edges_from(edges)\n",
    "\n",
    "nx.draw_networkx_nodes(G, pos, node_color='lightblue', node_size=700)\n",
    "nx.draw_networkx_edges(G, pos, arrowstyle=\"->\", arrowsize=10, edge_color='gray', width=2, connectionstyle=\"arc3,rad=0.2\")\n",
    "nx.draw_networkx_labels(G, pos, font_size=10, font_color='black')\n",
    "\n",
    "edge_labels = {}\n",
    "for i in range(n):\n",
    "    for j in range(n):\n",
    "        if P[i][j] != 0:\n",
    "            edge_labels[(i + 1, j + 1)] = f'{P[i][j]:.2f}'\n",
    "\n",
    "print(edge_labels)\n",
    "\n",
    "nx.draw_networkx_edge_labels(G, pos, edge_labels, font_size=8)\n",
    "\n",
    "plt.axis('off')\n",
    "plt.show()"
   ]
  },
  {
   "cell_type": "markdown",
   "id": "5ae5e144",
   "metadata": {},
   "source": [
    "## Métodos para encontrar la distribución estacionaria"
   ]
  },
  {
   "cell_type": "markdown",
   "id": "91465cc4",
   "metadata": {},
   "source": [
    "Ya que las cadenas presentadas anteriormente son irreducibles y aperiódicas, su distribución estacionaria existe y es única. Ahora, se calculará usando dos métodos diferentes, comparando la eficiencia temporal de estos:"
   ]
  },
  {
   "cell_type": "markdown",
   "id": "801c921f",
   "metadata": {},
   "source": [
    "### Hallando los autovectores de $P^\\intercal$"
   ]
  },
  {
   "cell_type": "markdown",
   "id": "2306558a",
   "metadata": {},
   "source": [
    "Se sabe que una distribución $\\pi$ se le llama estacionaria si\n",
    "$$\\pi P = \\pi$$\n",
    "o equivalentemente\n",
    "$$P^{\\intercal} \\pi^{\\intercal} = \\pi^{\\intercal}$$\n",
    "por lo tanto, hallar $\\pi$ se reduce a hallar un autovector de la matriz $P^{\\intercal}$.\n",
    "\n",
    "Dicho autovector se hallará utilizando las librerías `numpy` y `scipy`, las más populares en cálculo científico, y `simpy`, una librería de cálculo simbólico. Normalmente, bastaría con la primera, mas sin embargo, como explican en [esta pregunta en StackOverflow](https://stackoverflow.com/questions/6684238/whats-the-fastest-way-to-find-eigenvalues-vectors-in-python), `scipy` identifica diversos tipos de matrices y ajusta los cálculos de los autovectores de acuerdo al mejor algoritmo que aplique para cada tipo. Por otro lado, `simpy` seguramente será la más lenta de las tres, pero proverá una buena indicación de qué tanto tardaría el proceso si se busca exactitud en la solución (o precisión casi infinita).\n",
    "\n",
    "Ahora, independientemente de qué librería o lenguaje se utilice, es estándar retornar los autovectores normalizados (bajo la norma euclídea estándar). Por lo tanto, se deberá hacer un cálculo extra para asegurar que al menos uno de los autovectores $v$ cumpla que $\\sum_{i = 1}^{n}v_i = 1$ y que $0 \\leq v_i \\leq 1$ para todo $i \\in \\{1, ..., n\\}$. Este consiste en computar un escalar $x \\in \\mathbb{R}$ tal que\n",
    "\n",
    "$$\\frac{\\sum_{i = 1}^n v_i}{x} = 1 \\iff x = \\sum_{i = 1}^n v_i$$\n",
    "\n",
    "y dividir a cada componente del vector $v$ para obtener un candidato a distribución estacionaria $v' = (\\frac{v_1}{x}, \\frac{v_2}{x}, ..., \\frac{v_n}{x})$."
   ]
  },
  {
   "cell_type": "markdown",
   "id": "42a4c623",
   "metadata": {},
   "source": [
    "#### Cadena 1"
   ]
  },
  {
   "cell_type": "code",
   "execution_count": 48,
   "id": "9160a34f",
   "metadata": {},
   "outputs": [],
   "source": [
    "matrices = build_p_matrices(chain=1, p_values=p_values, n_values=n_values)"
   ]
  },
  {
   "cell_type": "code",
   "execution_count": 9,
   "id": "4622e211",
   "metadata": {},
   "outputs": [],
   "source": [
    "#!Consider creating an object that stores all the matrices with n states to have a better reference when printing"
   ]
  },
  {
   "cell_type": "code",
   "execution_count": 10,
   "id": "e53c1e0f",
   "metadata": {},
   "outputs": [],
   "source": [
    "import scipy\n",
    "\n",
    "def stationary_candidates_scipy(matrix) -> list[np.array]:\n",
    "    # print(\"   Using scipy...\")\n",
    "    candidates: list[np.array] = []\n",
    "    # print(f\"Candidates for the matrix\")\n",
    "    eigen_values, eigen_vectors = scipy.linalg.eig(matrix)\n",
    "    for v in eigen_vectors:\n",
    "        candidates.append(v / v.sum())\n",
    "    return get_distributions(candidates)\n"
   ]
  },
  {
   "cell_type": "code",
   "execution_count": 11,
   "id": "3e8c978f",
   "metadata": {},
   "outputs": [
    {
     "name": "stdout",
     "output_type": "stream",
     "text": [
      "Stationary distribution of the matrix\n",
      "[0.38742589 0.61257411]\n",
      "Stationary distribution of the matrix\n",
      "[0.61257411 0.38742589]\n",
      "Stationary distribution of the matrix\n",
      "[0.22210763 0.40732446 0.3705679 ]\n",
      "Stationary distribution of the matrix\n",
      "[0.30149546 0.50301982 0.19548471]\n",
      "Stationary distribution of the matrix\n",
      "[0.10680805 0.17978474 0.31139631 0.4020109 ]\n"
     ]
    }
   ],
   "source": [
    "for matrix in matrices:\n",
    "    print_distributions(stationary_candidates_scipy(matrix))\n",
    "#!Precission issue\n"
   ]
  },
  {
   "cell_type": "code",
   "execution_count": 12,
   "id": "6e226598",
   "metadata": {},
   "outputs": [],
   "source": [
    "def stationary_candidates_numpy(matrix):\n",
    "    candidates: list[np.array] = []\n",
    "    # print(f\"Candidates for {i}th matrix\")\n",
    "    eigen_values, eigen_vectors = np.linalg.eig(matrix)\n",
    "    for v in eigen_vectors:\n",
    "        candidates.append(v/v.sum())\n",
    "    # print(candidates)\n",
    "\n",
    "    return get_distributions(candidates)\n",
    "\n"
   ]
  },
  {
   "cell_type": "code",
   "execution_count": 13,
   "id": "d766a561",
   "metadata": {},
   "outputs": [
    {
     "name": "stdout",
     "output_type": "stream",
     "text": [
      "Stationary distribution of the matrix\n",
      "[0.38742589 0.61257411]\n",
      "Stationary distribution of the matrix\n",
      "[0.61257411 0.38742589]\n",
      "Stationary distribution of the matrix\n",
      "[0.22210763 0.40732446 0.3705679 ]\n",
      "Stationary distribution of the matrix\n",
      "[0.30149546 0.50301982 0.19548471]\n",
      "Stationary distribution of the matrix\n",
      "[0.10680805 0.17978474 0.31139631 0.4020109 ]\n"
     ]
    }
   ],
   "source": [
    "for matrix in matrices:\n",
    "    print_distributions(stationary_candidates_numpy(matrix))"
   ]
  },
  {
   "cell_type": "markdown",
   "id": "e2ef9f73",
   "metadata": {},
   "source": [
    "### Usando la fórmula de recurrencia\n",
    "\n",
    "Ya que las cadenas trabajadas son homogéneas, aperiódicas e irreducibles, la distribución estacionaria es única por el teorema 5.3 visto en clase. Además, por ejercicio ... (realizar ejercicio), se sabe que esta distribución tendrá la forma\n",
    "$$\\pi = \\left(\\frac{1}{\\mathbb{E}_1[T_1^+]}, \\frac{1}{\\mathbb{E}_2[T_2^+]}, ..., \\frac{1}{\\mathbb{E}_n[T_n^+]}\\right) = \\left(\\frac{1}{r_1}, \\frac{1}{r_2}, ..., \\frac{1}{r_n}\\right)$$\n",
    "Además, para todo $i \\in \\{1, ..., n\\}$, $r_i := \\mathbb{E}_i[T_i^+] = 1 + \\sum_{j \\in S}P_{ij} t_{j, \\{i\\}}$, y como $t_{i, \\{i\\}} := \\mathbb{E}_i[T_i] = 0$ (pues si $X_0 = i, ya se está en el estado al que se quería retornar), se puede descartar el caso en que $j = i$. Luego, \n",
    "$$r_i = \\mathbb{E}_i[T_i^+] = 1 + \\sum_{j \\in S, j \\neq i}P_{ij} t_{j, \\{i\\}} = (\\pi_i)^{-1}$$\n",
    "donde $\\pi$ es la distribución estacionaria de cada cadena, $P$ es la matriz de transición de la cadena, y $t_{j, \\{i\\}} := \\mathbb{E}_i[T_{\\{i\\}}] = 1 + \\sum_{j \\in S^t} P_{ij} t_{j, \\{i\\}}$ el tiempo medio de llegada al estado $i$ desde el estado $j$.\n",
    "\n",
    "La forma de calcular los tiempos medios de llegada a un estado desde otro es recurrentemente, es decir, se va formando un sistema de ecuaciones con los $i, j \\in S$ necesarios para poder calcular los $t_{j, \\{i\\}}$ requeridos. Este cálculo se realizará a continuación representando dicho sistema como una matriz que va creciendo a medida en que se requiren más $t_{j, \\{i\\}}$.\n",
    "\n",
    "Idea: hacer un llamado recurrente cada que se necesite un $t_{ij}$ e irlos almacenando en una lista. Hacer una máscara con los elementos de la suma que sean $0$ (e.g., $t_{ii}$); si el único no sero es el $t_{ij}$ requerido, se puede calcular con una suma directa. De otro modo, se buscarán los $t_{ik}$ necesarios en la lista, y si no están, se hace un llamado recurrente."
   ]
  },
  {
   "cell_type": "code",
   "execution_count": 14,
   "id": "914da2db",
   "metadata": {},
   "outputs": [],
   "source": [
    "matrices = build_p_matrices(chain=1, p_values=[n/10 for n in range (1, 10)], n_values=[n for n in range(2, 10)])"
   ]
  },
  {
   "cell_type": "code",
   "execution_count": 65,
   "id": "796f272b",
   "metadata": {},
   "outputs": [
    {
     "name": "stderr",
     "output_type": "stream",
     "text": [
      "<>:25: SyntaxWarning: invalid escape sequence '\\i'\n",
      "<>:25: SyntaxWarning: invalid escape sequence '\\i'\n",
      "/tmp/ipykernel_8889/1476697409.py:25: SyntaxWarning: invalid escape sequence '\\i'\n",
      "  - is 0 if i \\not \\in \\{1, 2 + n, ..., i + (i-1)n, ..., n + n\\},\n"
     ]
    }
   ],
   "source": [
    "import numpy as np\n",
    "\n",
    "def calculate_st_distr_rf(matrix: np.array) -> np.array:\n",
    "    \"\"\"\n",
    "    Function to calculate the stationary distribution of a Markov chain\n",
    "    with transition matrix `matrix` using the recurrence formulas\n",
    "    \"\"\"\n",
    "    r: list[float] = []\n",
    "    for i in range(matrix.shape[0]):\n",
    "        r.append()\n",
    "\n",
    "# def t(i: int, j: int, n: int, t_kj: list[float] = None):\n",
    "#     \"\"\"\n",
    "#     Mean return time to state j starting from state 1. It is the same as\n",
    "#     to t_{i, A} considering A to be the singleton of j.\n",
    "#     It will be calculated as follows: the elements in t_kj will be\n",
    "#     t_{k,\\{j\\}} for k a state of the chain. If one of those is None, \n",
    "#     \"\"\"\n",
    "\n",
    "def generate_t_matrix(P:np.array) -> np.array:\n",
    "    \"\"\"\n",
    "    Returns a n^2 x n^2 matrix T whose entry\n",
    "    (i, j) = (q_1 n + r_1, q_2 n + r_2) (where q_i, r_i are obtained using\n",
    "    the division algorithm)\n",
    "    - is 0 if i \\not \\in \\{1, 2 + n, ..., i + (i-1)n, ..., n + n\\},\n",
    "    i.e., it doesn't correspond to a mean return time in the form\n",
    "    t_{k, j}, where k is any state of the chain.\n",
    "    - is P_{r_1, r_2}, a.k.a., P_{i, k}, otherwise.\n",
    "    \"\"\"\n",
    "    n: int = P.shape[0]\n",
    "    T: np.array = np.zeros(shape=(n*n, n*n))\n",
    "    # print(T)\n",
    "    #!Consider addin a rule for t_i,i to be  0\n",
    "    #*Filling the non-zero values of t(i, j)\n",
    "    for i in range(n):\n",
    "        for j in range(n):\n",
    "            if j == i:\n",
    "                j += 1\n",
    "                continue\n",
    "            n_mult: int = 0 #*n multiplier\n",
    "            for k in range(n):\n",
    "                #*Since k starts from 0, there is no need to multiply n by k - 1\n",
    "                k_val: int = i + j*n\n",
    "                j_val: int = j + n*k\n",
    "                i_val: int = i\n",
    "                print(i, k, P[i][k], (i*n + j, j + n*k))\n",
    "                T[i*n + j, j + n*k] = P[i][k]\n",
    "                # print(i, j, k, P[i][k], (i*n + j, k + n*k))\n",
    "    for i in range(n*n):\n",
    "        T[i][i] -= 1\n",
    "    for i in range(n):\n",
    "        T[i*(n+1)][i*(n+1)] = 0\n",
    "\n",
    "    return T\n",
    "\n",
    "def pretty_print(M: np.array, h_indices: list[str] = None, v_indices: list[str] = None) -> None:\n",
    "    if h_indices is None:\n",
    "        h_indices = [i for i in range(M.shape[1])]\n",
    "    if v_indices is None:\n",
    "        v_indices = [i for i in range(M.shape[0])]\n",
    "\n",
    "    n_rows, n_cols = M.shape\n",
    "    # Determine column width based on the longest h_indices string (at least 7)\n",
    "    col_width = max(8, max(len(str(idx)) for idx in h_indices) + 1)\n",
    "    # Print column indices\n",
    "    print(\" \" * (col_width + 1), end=\"\")\n",
    "    for index in h_indices:\n",
    "        print(f\"{index:>{col_width}}\", end=\"\")\n",
    "    print()\n",
    "    # Print each row with its index\n",
    "    for row in range(n_rows):\n",
    "        print(f\"{v_indices[row]:>3} |\", end=\"\")\n",
    "        for col in range(n_cols):\n",
    "            print(f\"{M[row, col]:{col_width}.2f}\", end=\"\")\n",
    "        print()\n",
    "    \n",
    "def generate_index_labels(prefix: str, n: int, m: int) -> list[str]:\n",
    "    \"\"\"\n",
    "    Returns a list of strings in the format 'prefix(i, j)' for i in range(1, n + 1),\n",
    "    j in range(1, m+1), listed in lexicographical order.\n",
    "    \"\"\"\n",
    "    return [f\"{prefix}({i}, {j})\" for i in range(1, n+1) for j in range(1, m+1)]\n",
    "\n",
    "# def get_necessary_tijs(i: int, j: int, n: int, T:np.array, N: np.array) -> np.array:\n",
    "#     #*First, map the non-zero entries of row i to 1's\n",
    "#     print(i*n + j)\n",
    "#     print(\"T[i,j]\", T[i*n + j])\n",
    "#     N_row = (T[i*n + j] != 0).astype(int)\n",
    "#     print(\"N_row\", N_row)\n",
    "#     non_zero_indices = np.nonzero(N_row)[0]\n",
    "#     print(\"NN indices\", non_zero_indices)\n",
    "#     non_zero_count = np.count_nonzero(T[i*n + j])\n",
    "#     print((i, j), N_row)\n",
    "#     already_in_N = np.count_nonzero(np.logical_and(N_row, N.flatten()))\n",
    "#     if already_in_N == non_zero_count:\n",
    "#         return N\n",
    "#     else:\n",
    "#         for index in non_zero_indices:\n",
    "#             N = get_necessary_tijs(index%n, index//n, n, T, N)\n",
    "\n",
    "def get_necessary_tijs(i: int, j: int, n: int, T: np.array, syst: list[np.array], bool_map: list[list[bool]]) -> int:\n",
    "    if i == j:\n",
    "        return 0\n",
    "    map: list[list[bool]] = bool_map\n",
    "    map[i][j] = 1\n",
    "    syst.append(T[n*i + j])\n",
    "    # print(\"Bool map\", bool_map)\n",
    "    # print(\"System of equations\", syst)\n",
    "    for k in range(n):\n",
    "        if k == j:\n",
    "            pass\n",
    "        elif bool_map[k][j] == 0:\n",
    "            syst, map = get_necessary_tijs(k, j, n, T, syst, map)\n",
    "    return syst, map\n",
    "\n",
    "def chop_system(S: np.array, n: int) -> np.array:\n",
    "    chopped: np.array = S\n",
    "    #*Remove the t_{i, i} entries\n",
    "    for i in range(n):\n",
    "        #*Although we are chopping the i*(n+1)-th column of the original\n",
    "        #*system, every deletion subtracts 1 to the number of columns,\n",
    "        #*so it ends up being the i*n-th column\n",
    "        chopped = np.delete(chopped, i*n, axis=1)\n",
    "    #*Remove columns that are all zeros (not necessary in the system)\n",
    "    chopped = chopped[:, ~np.all(chopped == 0, axis=0)]\n",
    "    return chopped\n",
    "\n",
    "def solve_system(S: np.array) -> np.array:\n",
    "    solution: np.array = np.linalg.solve(S, -np.ones(S.shape[0]))\n",
    "    solution = solution\n",
    "    return solution\n"
   ]
  },
  {
   "cell_type": "code",
   "execution_count": 67,
   "id": "c3908fc0",
   "metadata": {},
   "outputs": [
    {
     "name": "stdout",
     "output_type": "stream",
     "text": [
      "0 0 0.25 (1, 1)\n",
      "0 1 0.25 (1, 4)\n",
      "0 2 0.5 (1, 7)\n",
      "0 0 0.25 (2, 2)\n",
      "0 1 0.25 (2, 5)\n",
      "0 2 0.5 (2, 8)\n",
      "1 0 0.5 (3, 0)\n",
      "1 1 0.25 (3, 3)\n",
      "1 2 0.25 (3, 6)\n",
      "1 0 0.5 (5, 2)\n",
      "1 1 0.25 (5, 5)\n",
      "1 2 0.25 (5, 8)\n",
      "2 0 0.3333333333333333 (6, 0)\n",
      "2 1 0.3333333333333333 (6, 3)\n",
      "2 2 0.3333333333333333 (6, 6)\n",
      "2 0 0.3333333333333333 (7, 1)\n",
      "2 1 0.3333333333333333 (7, 4)\n",
      "2 2 0.3333333333333333 (7, 7)\n",
      "          T(1, 1) T(1, 2) T(1, 3) T(2, 1) T(2, 2) T(2, 3) T(3, 1) T(3, 2) T(3, 3)\n",
      "T(1, 1) |    0.00    0.00    0.00    0.00    0.00    0.00    0.00    0.00    0.00\n",
      "T(1, 2) |    0.00   -0.75    0.00    0.00    0.25    0.00    0.00    0.50    0.00\n",
      "T(1, 3) |    0.00    0.00   -0.75    0.00    0.00    0.25    0.00    0.00    0.50\n",
      "T(2, 1) |    0.50    0.00    0.00   -0.75    0.00    0.00    0.25    0.00    0.00\n",
      "T(2, 2) |    0.00    0.00    0.00    0.00    0.00    0.00    0.00    0.00    0.00\n",
      "T(2, 3) |    0.00    0.00    0.50    0.00    0.00   -0.75    0.00    0.00    0.25\n",
      "T(3, 1) |    0.33    0.00    0.00    0.33    0.00    0.00   -0.67    0.00    0.00\n",
      "T(3, 2) |    0.00    0.33    0.00    0.00    0.33    0.00    0.00   -0.67    0.00\n",
      "T(3, 3) |    0.00    0.00    0.00    0.00    0.00    0.00    0.00    0.00    0.00\n",
      "Final system of equations:\n",
      "[[-0.75        0.25      ]\n",
      " [ 0.33333333 -0.66666667]]\n",
      "Solution vector: [2.2 2.6]\n",
      "[-1. -1.]\n",
      "t_(2, 1) = 2.1999999999999997\n"
     ]
    }
   ],
   "source": [
    "P: np.array = np.array(\n",
    "    [[1/4, 1/4, 1/2],\n",
    "     [1/2, 1/4, 1/4],\n",
    "     [1/3, 1/3, 1/3]]\n",
    ")\n",
    "n: int = P.shape[0]\n",
    "bool_map = [[0 for j in range(n)] for i in range(n)]\n",
    "T: np.array = generate_t_matrix(P)\n",
    "i: int = 1\n",
    "j: int = 0\n",
    "syst, map = get_necessary_tijs(i, j, 3, T, [], bool_map)\n",
    "syst_matrix = np.vstack(syst)\n",
    "\n",
    "indices: list[str] = generate_index_labels(\"T\", P.shape[0], P.shape[1])\n",
    "pretty_print(T, indices, indices)\n",
    "\n",
    "print(\"Final system of equations:\")\n",
    "chopped: np.array = chop_system(syst_matrix, n)\n",
    "print(chopped)\n",
    "\n",
    "solution: np.array = solve_system(chopped)\n",
    "print(\"Solution vector:\", solution)\n",
    "result = chopped @ solution\n",
    "print(result)\n",
    "print(f\"t_({i+1}, {j+1}) = {solution[0]}\")\n",
    "\n",
    "#TODO: Subtract the t_i, j in the left side of the equations when creating the T matrix. That way, the chopped system will actually be the one we want to solve, with the left side of it being a vector of -1's. In other words, the system would be syst * x = -1, and x will be the correct values of the t_i, j 's"
   ]
  },
  {
   "cell_type": "code",
   "execution_count": 31,
   "id": "dd47c071",
   "metadata": {},
   "outputs": [
    {
     "data": {
      "text/plain": [
       "np.float64(3.0)"
      ]
     },
     "execution_count": 31,
     "metadata": {},
     "output_type": "execute_result"
    }
   ],
   "source": [
    "chopped[0][1]"
   ]
  },
  {
   "cell_type": "code",
   "execution_count": 15,
   "id": "63bbcff3",
   "metadata": {},
   "outputs": [
    {
     "name": "stdout",
     "output_type": "stream",
     "text": [
      "0 0 0.5 (1, 1)\n",
      "0 1 0.5 (1, 4)\n",
      "0 2 0.0 (1, 7)\n",
      "0 0 0.5 (2, 2)\n",
      "0 1 0.5 (2, 5)\n",
      "0 2 0.0 (2, 8)\n",
      "1 0 0.0 (3, 0)\n",
      "1 1 0.3333333333333333 (3, 3)\n",
      "1 2 0.6666666666666666 (3, 6)\n",
      "1 0 0.0 (5, 2)\n",
      "1 1 0.3333333333333333 (5, 5)\n",
      "1 2 0.6666666666666666 (5, 8)\n",
      "2 0 0.5 (6, 0)\n",
      "2 1 0.5 (6, 3)\n",
      "2 2 0.0 (6, 6)\n",
      "2 0 0.5 (7, 1)\n",
      "2 1 0.5 (7, 4)\n",
      "2 2 0.0 (7, 7)\n",
      "          T(1, 1) T(1, 2) T(1, 3) T(2, 1) T(2, 2) T(2, 3) T(3, 1) T(3, 2) T(3, 3)\n",
      "T(1, 1) |    0.00    0.00    0.00    0.00    0.00    0.00    0.00    0.00    0.00\n",
      "T(1, 2) |    0.00    0.50    0.00    0.00    0.50    0.00    0.00    0.00    0.00\n",
      "T(1, 3) |    0.00    0.00    0.50    0.00    0.00    0.50    0.00    0.00    0.00\n",
      "T(2, 1) |    0.00    0.00    0.00    0.33    0.00    0.00    0.67    0.00    0.00\n",
      "T(2, 2) |    0.00    0.00    0.00    0.00    0.00    0.00    0.00    0.00    0.00\n",
      "T(2, 3) |    0.00    0.00    0.00    0.00    0.00    0.33    0.00    0.00    0.67\n",
      "T(3, 1) |    0.50    0.00    0.00    0.50    0.00    0.00    0.00    0.00    0.00\n",
      "T(3, 2) |    0.00    0.50    0.00    0.00    0.50    0.00    0.00    0.00    0.00\n",
      "T(3, 3) |    0.00    0.00    0.00    0.00    0.00    0.00    0.00    0.00    0.00\n"
     ]
    },
    {
     "name": "stderr",
     "output_type": "stream",
     "text": [
      "/tmp/ipykernel_8889/130663555.py:25: SyntaxWarning: invalid escape sequence '\\i'\n",
      "  - is 0 if i \\not \\in \\{1, 2 + n, ..., i + (i-1)n, ..., n + n\\},\n"
     ]
    },
    {
     "ename": "TypeError",
     "evalue": "get_necessary_tijs() missing 1 required positional argument: 'bool_map'",
     "output_type": "error",
     "traceback": [
      "\u001b[31m---------------------------------------------------------------------------\u001b[39m",
      "\u001b[31mTypeError\u001b[39m                                 Traceback (most recent call last)",
      "\u001b[36mCell\u001b[39m\u001b[36m \u001b[39m\u001b[32mIn[15]\u001b[39m\u001b[32m, line 9\u001b[39m\n\u001b[32m      7\u001b[39m indices: \u001b[38;5;28mlist\u001b[39m[\u001b[38;5;28mstr\u001b[39m] = generate_index_labels(\u001b[33m\"\u001b[39m\u001b[33mT\u001b[39m\u001b[33m\"\u001b[39m, P.shape[\u001b[32m0\u001b[39m], P.shape[\u001b[32m1\u001b[39m])\n\u001b[32m      8\u001b[39m pretty_print(T, indices, indices)\n\u001b[32m----> \u001b[39m\u001b[32m9\u001b[39m \u001b[43mget_tij_matrix\u001b[49m\u001b[43m(\u001b[49m\u001b[32;43m2\u001b[39;49m\u001b[43m,\u001b[49m\u001b[43m \u001b[49m\u001b[32;43m1\u001b[39;49m\u001b[43m,\u001b[49m\u001b[43m \u001b[49m\u001b[43mP\u001b[49m\u001b[43m.\u001b[49m\u001b[43mshape\u001b[49m\u001b[43m[\u001b[49m\u001b[32;43m0\u001b[39;49m\u001b[43m]\u001b[49m\u001b[43m,\u001b[49m\u001b[43m \u001b[49m\u001b[43mT\u001b[49m\u001b[43m)\u001b[49m\n",
      "\u001b[36mCell\u001b[39m\u001b[36m \u001b[39m\u001b[32mIn[8]\u001b[39m\u001b[32m, line 119\u001b[39m, in \u001b[36mget_tij_matrix\u001b[39m\u001b[34m(i, j, n, T)\u001b[39m\n\u001b[32m    116\u001b[39m \u001b[38;5;66;03m#*N will be a boolean row vector whose (k*n+l)-th entry indicates whether\u001b[39;00m\n\u001b[32m    117\u001b[39m \u001b[38;5;66;03m#*t_{k, \\{l\\}} is necessary for the computation of t_{i, \\{j\\}}\u001b[39;00m\n\u001b[32m    118\u001b[39m N: np.array = np.zeros(shape=n*n)\n\u001b[32m--> \u001b[39m\u001b[32m119\u001b[39m N: np.array = \u001b[43mget_necessary_tijs\u001b[49m\u001b[43m(\u001b[49m\u001b[43mi\u001b[49m\u001b[43m,\u001b[49m\u001b[43m \u001b[49m\u001b[43mj\u001b[49m\u001b[43m,\u001b[49m\u001b[43m \u001b[49m\u001b[43mn\u001b[49m\u001b[43m,\u001b[49m\u001b[43m \u001b[49m\u001b[43mT\u001b[49m\u001b[43m,\u001b[49m\u001b[43m \u001b[49m\u001b[43mN\u001b[49m\u001b[43m)\u001b[49m\n",
      "\u001b[31mTypeError\u001b[39m: get_necessary_tijs() missing 1 required positional argument: 'bool_map'"
     ]
    }
   ],
   "source": [
    "P: np.array = np.array(\n",
    "    [[1/2, 1/2, 0],\n",
    "     [0, 1/3, 2/3],\n",
    "     [1/2, 1/2, 0]]\n",
    ")\n",
    "T = generate_t_matrix(P)\n",
    "indices: list[str] = generate_index_labels(\"T\", P.shape[0], P.shape[1])\n",
    "pretty_print(T, indices, indices)\n",
    "get_tij_matrix(2, 1, P.shape[0], T)\n"
   ]
  },
  {
   "cell_type": "markdown",
   "id": "762c715f",
   "metadata": {},
   "source": [
    "**Considerar el ejemplo en el que la distr es (1, 0, 0, 0, 0) como argumento a favor de los autovectores**"
   ]
  },
  {
   "cell_type": "code",
   "execution_count": null,
   "id": "00e7281e",
   "metadata": {},
   "outputs": [],
   "source": []
  },
  {
   "cell_type": "markdown",
   "id": "3ac3bdef",
   "metadata": {},
   "source": [
    "## Análisis de complejidad temporal"
   ]
  },
  {
   "cell_type": "markdown",
   "id": "4f9b6a17",
   "metadata": {},
   "source": [
    "Cada función será llamada usando el wrapper `timed_exec`, que medirá el tiempo en que se demoró en ejecutar la función enviada como argumento."
   ]
  },
  {
   "cell_type": "code",
   "execution_count": 49,
   "id": "168ebc83",
   "metadata": {},
   "outputs": [],
   "source": [
    "import time\n",
    "\n",
    "def timed_run(func, *args, **kwargs):\n",
    "    start = time.perf_counter()\n",
    "    func(*args, **kwargs)\n",
    "    end = time.perf_counter()\n",
    "    elapsed = end - start\n",
    "    return elapsed"
   ]
  },
  {
   "cell_type": "markdown",
   "id": "88ffc5a5",
   "metadata": {},
   "source": [
    "Cada método se ejecutará con todas las posibles combinaciones de los [parámetros iniciales](#param) definidos al inicio del notebook, y su tiempo de ejecución se guardará en un DataFrame que se analizará a continuación"
   ]
  },
  {
   "cell_type": "code",
   "execution_count": 50,
   "id": "ffb71fc3",
   "metadata": {},
   "outputs": [
    {
     "data": {
      "text/html": [
       "<div>\n",
       "<style scoped>\n",
       "    .dataframe tbody tr th:only-of-type {\n",
       "        vertical-align: middle;\n",
       "    }\n",
       "\n",
       "    .dataframe tbody tr th {\n",
       "        vertical-align: top;\n",
       "    }\n",
       "\n",
       "    .dataframe thead th {\n",
       "        text-align: right;\n",
       "    }\n",
       "</style>\n",
       "<table border=\"1\" class=\"dataframe\">\n",
       "  <thead>\n",
       "    <tr style=\"text-align: right;\">\n",
       "      <th></th>\n",
       "      <th>n</th>\n",
       "      <th>p</th>\n",
       "      <th>NumPy</th>\n",
       "      <th>SciPy</th>\n",
       "    </tr>\n",
       "  </thead>\n",
       "  <tbody>\n",
       "    <tr>\n",
       "      <th>0</th>\n",
       "      <td>2</td>\n",
       "      <td>0.1</td>\n",
       "      <td>0.000279</td>\n",
       "      <td>0.000267</td>\n",
       "    </tr>\n",
       "    <tr>\n",
       "      <th>1</th>\n",
       "      <td>2</td>\n",
       "      <td>0.2</td>\n",
       "      <td>0.000159</td>\n",
       "      <td>0.000180</td>\n",
       "    </tr>\n",
       "    <tr>\n",
       "      <th>2</th>\n",
       "      <td>2</td>\n",
       "      <td>0.3</td>\n",
       "      <td>0.000817</td>\n",
       "      <td>0.000282</td>\n",
       "    </tr>\n",
       "    <tr>\n",
       "      <th>3</th>\n",
       "      <td>2</td>\n",
       "      <td>0.4</td>\n",
       "      <td>0.000115</td>\n",
       "      <td>0.000100</td>\n",
       "    </tr>\n",
       "    <tr>\n",
       "      <th>4</th>\n",
       "      <td>2</td>\n",
       "      <td>0.5</td>\n",
       "      <td>0.000090</td>\n",
       "      <td>0.000085</td>\n",
       "    </tr>\n",
       "    <tr>\n",
       "      <th>...</th>\n",
       "      <td>...</td>\n",
       "      <td>...</td>\n",
       "      <td>...</td>\n",
       "      <td>...</td>\n",
       "    </tr>\n",
       "    <tr>\n",
       "      <th>877</th>\n",
       "      <td>99</td>\n",
       "      <td>0.5</td>\n",
       "      <td>0.004702</td>\n",
       "      <td>0.005568</td>\n",
       "    </tr>\n",
       "    <tr>\n",
       "      <th>878</th>\n",
       "      <td>99</td>\n",
       "      <td>0.6</td>\n",
       "      <td>0.006391</td>\n",
       "      <td>0.007175</td>\n",
       "    </tr>\n",
       "    <tr>\n",
       "      <th>879</th>\n",
       "      <td>99</td>\n",
       "      <td>0.7</td>\n",
       "      <td>0.006749</td>\n",
       "      <td>0.006360</td>\n",
       "    </tr>\n",
       "    <tr>\n",
       "      <th>880</th>\n",
       "      <td>99</td>\n",
       "      <td>0.8</td>\n",
       "      <td>0.006384</td>\n",
       "      <td>0.005946</td>\n",
       "    </tr>\n",
       "    <tr>\n",
       "      <th>881</th>\n",
       "      <td>99</td>\n",
       "      <td>0.9</td>\n",
       "      <td>0.008392</td>\n",
       "      <td>0.007854</td>\n",
       "    </tr>\n",
       "  </tbody>\n",
       "</table>\n",
       "<p>882 rows × 4 columns</p>\n",
       "</div>"
      ],
      "text/plain": [
       "      n    p     NumPy     SciPy\n",
       "0     2  0.1  0.000279  0.000267\n",
       "1     2  0.2  0.000159  0.000180\n",
       "2     2  0.3  0.000817  0.000282\n",
       "3     2  0.4  0.000115  0.000100\n",
       "4     2  0.5  0.000090  0.000085\n",
       "..   ..  ...       ...       ...\n",
       "877  99  0.5  0.004702  0.005568\n",
       "878  99  0.6  0.006391  0.007175\n",
       "879  99  0.7  0.006749  0.006360\n",
       "880  99  0.8  0.006384  0.005946\n",
       "881  99  0.9  0.008392  0.007854\n",
       "\n",
       "[882 rows x 4 columns]"
      ]
     },
     "execution_count": 50,
     "metadata": {},
     "output_type": "execute_result"
    }
   ],
   "source": [
    "import pandas as pd\n",
    "\n",
    "results: pd.DataFrame = pd.DataFrame(columns=[\"n\", \"p\", \"NumPy\", \"SciPy\"])\n",
    "\n",
    "i: int = 0\n",
    "for n in n_values:\n",
    "    for p in p_values:\n",
    "        elapsed_time_numpy: float = timed_run(stationary_candidates_numpy, matrices[i])\n",
    "        elapsed_time_scipy: float = timed_run(stationary_candidates_scipy, matrices[i])\n",
    "        results.loc[len(results)] = {\"n\": n, \"p\": p, \"NumPy\": elapsed_time_numpy, \"SciPy\": elapsed_time_scipy}\n",
    "        i += 1\n",
    "\n",
    "results"
   ]
  },
  {
   "cell_type": "markdown",
   "id": "8ec96df8",
   "metadata": {},
   "source": [
    "### Gráficas"
   ]
  },
  {
   "cell_type": "code",
   "execution_count": null,
   "id": "07f6b12a",
   "metadata": {},
   "outputs": [],
   "source": [
    "import pandas as pd\n",
    "import matplotlib.pyplot as plt\n",
    "import ipywidgets as widgets\n",
    "from IPython.display import display, clear_output\n",
    "\n",
    "def plot_time_execution(times_df: pd.DataFrame, x_axis: str = 'n') -> None:\n",
    "    if x_axis == \"n\":\n",
    "        fig, ax = plt.subplots(figsize=(18, 6))\n",
    "        try:\n",
    "            ax.plot(times_df['n'], times_df['NumPy'], lw=1.6, color='green', label='Autovectores (NumPy)')\n",
    "            ax.plot(times_df['n'], times_df['SciPy'], lw=1.6, color='red', label='Autovectores (SciPy)')\n",
    "            ax.plot(times_df['n'], times_df['Recurrence'], lw=1.6, color='red', label='Fórmula de recurrencia')\n",
    "        except KeyError as e:\n",
    "            print(\"Missing at least one column:\", e)\n",
    "        \n",
    "        ax.set_title(\"Tiempo de ejecución de cada algoritmo\")\n",
    "        ax.set_ylabel(\"Tiempo\")\n",
    "        ax.set_xlabel(\"n (número de estados)\")\n",
    "        ax.grid(True, alpha=0.2)\n",
    "        ax.legend(loc=\"upper left\")\n",
    "        plt.show()\n",
    "\n",
    "    elif x_axis == \"p\":\n",
    "        fig, ax = plt.subplots(figsize=(18, 6))\n",
    "        try:\n",
    "            #*Add a small offset to each set of dots to avoid overlap\n",
    "            offset = 0.01\n",
    "            ax.plot(times_df['p'] - offset, times_df['NumPy'], 'o', color='green', label='Autovectores (NumPy)')\n",
    "            ax.plot(times_df['p'], times_df['SciPy'], 'o', color='red', label='Autovectores (SciPy)')\n",
    "            ax.plot(times_df['p'] + offset, times_df['Recurrence'], 'o', color='blue', label='Fórmula de recurrencia')\n",
    "        except KeyError as e:\n",
    "            print(\"Missing at least one column:\", e)\n",
    "        \n",
    "        ax.set_title(\"Tiempo de ejecución de cada algoritmo\")\n",
    "        ax.set_ylabel(\"Tiempo\")\n",
    "        ax.set_xlabel(\"p (probabilidad de referencia)\")\n",
    "        ax.grid(True, alpha=0.2)\n",
    "        ax.legend(loc=\"upper left\")\n",
    "        plt.show()\n",
    "\n",
    "def make_ui(times_df: pd.DataFrame) -> None:\n",
    "    dropdown = widgets.Dropdown(\n",
    "        options=[('n (número de estados)', 'n'), ('p (probabilidad de referencia)', 'p')],\n",
    "        value='n',\n",
    "        description='Eje X:',\n",
    "        style={'description_width': 'initial'}\n",
    "    )\n",
    "\n",
    "    output = widgets.Output()\n",
    "\n",
    "    def on_change(change):\n",
    "        if change['type'] == 'change' and change['name'] == 'value':\n",
    "            with output:\n",
    "                clear_output(wait=True)\n",
    "                plot_time_execution(times_df, x_axis=change['new'])\n",
    "\n",
    "    dropdown.observe(on_change)\n",
    "\n",
    "    display(dropdown, output)\n",
    "    # Initial plot\n",
    "    with output:\n",
    "        plot_time_execution(times_df, x_axis=dropdown.value)"
   ]
  },
  {
   "cell_type": "code",
   "execution_count": null,
   "id": "180249fe",
   "metadata": {},
   "outputs": [],
   "source": [
    "#TODO: Consider plotting the max, min and mean times for each graph"
   ]
  },
  {
   "cell_type": "code",
   "execution_count": null,
   "id": "98e8cd08",
   "metadata": {},
   "outputs": [
    {
     "data": {
      "application/vnd.jupyter.widget-view+json": {
       "model_id": "b3a8e0a96b4543fe80fd72c1cf912e8d",
       "version_major": 2,
       "version_minor": 0
      },
      "text/plain": [
       "Dropdown(description='Eje X:', options=(('n (número de estados)', 'n'), ('p (probabilidad de referencia)', 'p'…"
      ]
     },
     "metadata": {},
     "output_type": "display_data"
    },
    {
     "data": {
      "application/vnd.jupyter.widget-view+json": {
       "model_id": "5fae1ac924474d4984809cdd83959bb1",
       "version_major": 2,
       "version_minor": 0
      },
      "text/plain": [
       "Output()"
      ]
     },
     "metadata": {},
     "output_type": "display_data"
    }
   ],
   "source": [
    "make_ui(results)"
   ]
  },
  {
   "cell_type": "code",
   "execution_count": null,
   "id": "84c28635",
   "metadata": {},
   "outputs": [],
   "source": []
  }
 ],
 "metadata": {
  "kernelspec": {
   "display_name": ".venv",
   "language": "python",
   "name": "python3"
  },
  "language_info": {
   "codemirror_mode": {
    "name": "ipython",
    "version": 3
   },
   "file_extension": ".py",
   "mimetype": "text/x-python",
   "name": "python",
   "nbconvert_exporter": "python",
   "pygments_lexer": "ipython3",
   "version": "3.13.5"
  }
 },
 "nbformat": 4,
 "nbformat_minor": 5
}
